{
 "cells": [
  {
   "cell_type": "code",
   "execution_count": 44,
   "metadata": {
    "collapsed": false,
    "slideshow": {
     "slide_type": "slide"
    }
   },
   "outputs": [],
   "source": [
    "import numpy as np\n",
    "import pandas as pd\n",
    "import matplotlib.pyplot as plt\n",
    "%matplotlib inline\n",
    "import seaborn as sns\n",
    "\n",
    "import cPickle as pickle\n",
    "\n",
    "from sklearn.ensemble import GradientBoostingClassifier\n",
    "from sklearn.preprocessing import StandardScaler\n",
    "from sklearn.linear_model import LogisticRegression\n",
    "from sklearn import metrics"
   ]
  },
  {
   "cell_type": "code",
   "execution_count": 2,
   "metadata": {
    "collapsed": true
   },
   "outputs": [],
   "source": [
    "pd.options.display.max_rows = 50\n",
    "pd.options.display.max_columns = 120"
   ]
  },
  {
   "cell_type": "code",
   "execution_count": 4,
   "metadata": {
    "collapsed": false
   },
   "outputs": [],
   "source": [
    "with open('pickles/df.pkl', 'rb') as f:\n",
    "    df = pickle.load(f)\n",
    "    \n",
    "with open('pickles/drop_cols1.pkl', 'rb') as f:\n",
    "    drop_cols = pickle.load(f)\n",
    "    \n",
    "    \n",
    "with open('pickles/gboost3.pkl', 'rb') as f:\n",
    "    gboost = pickle.load(f)"
   ]
  },
  {
   "cell_type": "markdown",
   "metadata": {},
   "source": [
    "### Categories:\n",
    "    - Stores\n",
    "    - Ancestry\n",
    "    - Marriage\n",
    "    - Population (age and gender)\n",
    "    - Schooling\n",
    "    - Income\n",
    "    - Race\n",
    "    - Habits\n",
    "    - Health"
   ]
  },
  {
   "cell_type": "code",
   "execution_count": 134,
   "metadata": {
    "collapsed": false
   },
   "outputs": [],
   "source": [
    "# keeping these because I'm interested...\n",
    "# they actually do improve the model a tiny bit\n",
    "drop_cols.remove('Female_Divorced_pct')\n",
    "drop_cols.remove('Female_Single_pct')"
   ]
  },
  {
   "cell_type": "markdown",
   "metadata": {},
   "source": [
    "### Remove Redundancy"
   ]
  },
  {
   "cell_type": "code",
   "execution_count": 135,
   "metadata": {
    "collapsed": true
   },
   "outputs": [],
   "source": [
    "drop_cols.extend(['Female_Adult_Population_pct', 'Male_Adult_Population_pct', 'Over_25yrs_pct'])\n"
   ]
  },
  {
   "cell_type": "code",
   "execution_count": 136,
   "metadata": {
    "collapsed": false
   },
   "outputs": [
    {
     "data": {
      "text/plain": [
       "(2375, 28)"
      ]
     },
     "execution_count": 136,
     "metadata": {},
     "output_type": "execute_result"
    }
   ],
   "source": [
    "df.drop(drop_cols, axis = 1).shape"
   ]
  },
  {
   "cell_type": "code",
   "execution_count": 137,
   "metadata": {
    "collapsed": false
   },
   "outputs": [],
   "source": [
    "# ALL OF NYC IS LABELED AS KINGS COUNTY\n",
    "# CHANGING IT TO NEW YORK COUNTY\n",
    "df.loc[df.county == 'New York County', 'wholefoods'] = 8\n",
    "df.loc[df.county == 'New York County', 'Y'] = 1\n",
    "\n",
    "df.loc[(df.county == 'Kings County') & (df.state == 'New York'), 'wholefoods'] = 2\n",
    "\n"
   ]
  },
  {
   "cell_type": "markdown",
   "metadata": {},
   "source": [
    "### Get Feature Importances and Coefs"
   ]
  },
  {
   "cell_type": "code",
   "execution_count": 138,
   "metadata": {
    "collapsed": true
   },
   "outputs": [],
   "source": [
    "weights = [0.3 if v == 0 else 0.7 for v in df.Y]\n",
    "def Oversample_Classification(est, data, drop, target, weights, cv, train_size):\n",
    "    '''\n",
    "    Does Cross_Validation with oversampling.\n",
    "    data is your dataframe\n",
    "    drop is columns to drop to get your x variable\n",
    "    target is your y variable\n",
    "    weights should be a series that maps to x and y the weight for each row \n",
    "    (eg all the rows of class one should have distinct weight and all rows of class2 have other distinct weight)\n",
    "    '''\n",
    "\n",
    "    accuracy = []\n",
    "    pr = []\n",
    "    auc = []\n",
    "    ftr_importances = []\n",
    "\n",
    "\n",
    "    for f in range(cv):\n",
    "        train = data.sample(train_size, weights = weights, replace=True)\n",
    "        test = data[~data.index.isin(train.index)]\n",
    "        x = train.drop(drop, axis =1)\n",
    "        x_train  = x\n",
    "        y_train = train[target]\n",
    "\n",
    "        x_test = test.drop(drop, axis = 1)\n",
    "        y_test = test[target]\n",
    "\n",
    "        est.fit(x_train,y_train)\n",
    "        preds = est.predict(x_test)\n",
    "        probs = est.predict_proba(x_test)\n",
    "\n",
    "        \n",
    "        accuracy.append(metrics.accuracy_score(y_test, preds))\n",
    "        pr.append((metrics.precision_score(y_test, preds), metrics.recall_score(y_test,preds)))\n",
    "        auc.append(metrics.roc_auc_score(y_test, probs[:,1]))\n",
    "        \n",
    "        try: \n",
    "            ftr_importances.append(est.coef_)\n",
    "        except:\n",
    "            try:\n",
    "                ftr_importances.append(est.feature_importances_)\n",
    "            except:\n",
    "                ftr_importances = 'no ftr_importances'\n",
    "            \n",
    "       \n",
    "    print('--------------')\n",
    "    print('Accuracy:',np.mean(accuracy))\n",
    "    print('Precision:',np.array(pr)[:,0].mean())\n",
    "    print('Recall:', np.array(pr)[:,1].mean())\n",
    "    print('AUC:',np.mean(auc))\n",
    "    print('--------------')\n",
    "\n",
    "       \n",
    "                \n",
    "    print(np.array(ftr_importances).shape)\n",
    "    if type(ftr_importances) == str:\n",
    "        return ftr_importances\n",
    "    \n",
    "    \n",
    "    \n",
    "    return pd.DataFrame(np.array(ftr_importances).reshape(cv,len(data.drop(drop, axis = 1).columns)), columns = data.drop(drop, axis = 1).columns)"
   ]
  },
  {
   "cell_type": "markdown",
   "metadata": {},
   "source": [
    "GET FEATURE IMPORTANCES FROM LOGREG AND GBOOST"
   ]
  },
  {
   "cell_type": "code",
   "execution_count": 139,
   "metadata": {
    "collapsed": false
   },
   "outputs": [
    {
     "name": "stdout",
     "output_type": "stream",
     "text": [
      "--------------\n",
      "('Accuracy:', 0.96661398006273003)\n",
      "('Precision:', 0.54425928908774535)\n",
      "('Recall:', 0.79339526764061374)\n",
      "('AUC:', 0.9803183293875789)\n",
      "--------------\n",
      "(100, 1, 28)\n"
     ]
    }
   ],
   "source": [
    "logReg = LogisticRegression(C=0.8, max_iter = 250)\n",
    "coefs = Oversample_Classification(logReg, df, drop_cols, 'Y', weights, 100, 1500)"
   ]
  },
  {
   "cell_type": "code",
   "execution_count": 140,
   "metadata": {
    "collapsed": false,
    "scrolled": true
   },
   "outputs": [
    {
     "name": "stdout",
     "output_type": "stream",
     "text": [
      "--------------\n",
      "('Accuracy:', 0.97265142212733668)\n",
      "('Precision:', 0.60933318314219298)\n",
      "('Recall:', 0.78522907766610417)\n",
      "('AUC:', 0.98280370056957611)\n",
      "--------------\n",
      "(50, 28)\n"
     ]
    }
   ],
   "source": [
    "gb_ftr_importances = Oversample_Classification(gboost, df, drop_cols, 'Y', weights, 50, 1500)\n"
   ]
  },
  {
   "cell_type": "code",
   "execution_count": 141,
   "metadata": {
    "collapsed": false
   },
   "outputs": [
    {
     "name": "stdout",
     "output_type": "stream",
     "text": [
      "0    1263\n",
      "1     237\n",
      "Name: Y, dtype: int64\n",
      "133\n",
      "----------------------\n",
      "Accuracy: 0.973302822273\n",
      "AUC: 0.987875305696\n",
      "             precision    recall  f1-score   support\n",
      "\n",
      "          0       0.99      0.98      0.99      1257\n",
      "          1       0.63      0.87      0.73        54\n",
      "\n",
      "avg / total       0.98      0.97      0.98      1311\n",
      "\n",
      "----------------------\n"
     ]
    }
   ],
   "source": [
    "train = df.sample(1500,replace = True, weights = weights, random_state = 3333)\n",
    "test = df[~df.index.isin(train.index)]\n",
    "\n",
    "print train.Y.value_counts() \n",
    "print train[train.Y == 1].index.nunique()\n",
    "\n",
    "\n",
    "\n",
    "x_train = train.drop(drop_cols, axis = 1)\n",
    "y_train = train.Y\n",
    "\n",
    "x_test = test.drop(drop_cols, axis =1)\n",
    "y_test = test.Y\n",
    "\n",
    "\n",
    "\n",
    "\n",
    "gboost.fit(x_train, y_train)\n",
    "preds = gboost.predict(x_test)\n",
    "probs = gboost.predict_proba(x_test)\n",
    "\n",
    "print '----------------------'\n",
    "print 'Accuracy:', metrics.accuracy_score(y_test, preds)\n",
    "print 'AUC:', metrics.roc_auc_score(y_test, probs[:,1])\n",
    "\n",
    "print metrics.classification_report(y_test, preds)\n",
    "print '----------------------'"
   ]
  },
  {
   "cell_type": "markdown",
   "metadata": {},
   "source": [
    "Make a DF that allows for comparison of results and evaluating with different probability thresholds"
   ]
  },
  {
   "cell_type": "code",
   "execution_count": 142,
   "metadata": {
    "collapsed": false
   },
   "outputs": [
    {
     "data": {
      "text/html": [
       "<div>\n",
       "<table border=\"1\" class=\"dataframe\">\n",
       "  <thead>\n",
       "    <tr style=\"text-align: right;\">\n",
       "      <th></th>\n",
       "      <th>Actual</th>\n",
       "      <th>Predicted</th>\n",
       "      <th>Prob0</th>\n",
       "      <th>Prob1</th>\n",
       "    </tr>\n",
       "  </thead>\n",
       "  <tbody>\n",
       "    <tr>\n",
       "      <th>0</th>\n",
       "      <td>1</td>\n",
       "      <td>1</td>\n",
       "      <td>0.007690</td>\n",
       "      <td>0.992310</td>\n",
       "    </tr>\n",
       "    <tr>\n",
       "      <th>1</th>\n",
       "      <td>1</td>\n",
       "      <td>1</td>\n",
       "      <td>0.009906</td>\n",
       "      <td>0.990094</td>\n",
       "    </tr>\n",
       "    <tr>\n",
       "      <th>2</th>\n",
       "      <td>1</td>\n",
       "      <td>1</td>\n",
       "      <td>0.006284</td>\n",
       "      <td>0.993716</td>\n",
       "    </tr>\n",
       "    <tr>\n",
       "      <th>3</th>\n",
       "      <td>0</td>\n",
       "      <td>0</td>\n",
       "      <td>0.740896</td>\n",
       "      <td>0.259104</td>\n",
       "    </tr>\n",
       "    <tr>\n",
       "      <th>4</th>\n",
       "      <td>1</td>\n",
       "      <td>1</td>\n",
       "      <td>0.005128</td>\n",
       "      <td>0.994872</td>\n",
       "    </tr>\n",
       "    <tr>\n",
       "      <th>5</th>\n",
       "      <td>1</td>\n",
       "      <td>1</td>\n",
       "      <td>0.130977</td>\n",
       "      <td>0.869023</td>\n",
       "    </tr>\n",
       "    <tr>\n",
       "      <th>6</th>\n",
       "      <td>0</td>\n",
       "      <td>1</td>\n",
       "      <td>0.241859</td>\n",
       "      <td>0.758141</td>\n",
       "    </tr>\n",
       "    <tr>\n",
       "      <th>7</th>\n",
       "      <td>1</td>\n",
       "      <td>1</td>\n",
       "      <td>0.005118</td>\n",
       "      <td>0.994882</td>\n",
       "    </tr>\n",
       "    <tr>\n",
       "      <th>8</th>\n",
       "      <td>1</td>\n",
       "      <td>1</td>\n",
       "      <td>0.012877</td>\n",
       "      <td>0.987123</td>\n",
       "    </tr>\n",
       "    <tr>\n",
       "      <th>9</th>\n",
       "      <td>1</td>\n",
       "      <td>1</td>\n",
       "      <td>0.006834</td>\n",
       "      <td>0.993166</td>\n",
       "    </tr>\n",
       "  </tbody>\n",
       "</table>\n",
       "</div>"
      ],
      "text/plain": [
       "   Actual  Predicted     Prob0     Prob1\n",
       "0       1          1  0.007690  0.992310\n",
       "1       1          1  0.009906  0.990094\n",
       "2       1          1  0.006284  0.993716\n",
       "3       0          0  0.740896  0.259104\n",
       "4       1          1  0.005128  0.994872\n",
       "5       1          1  0.130977  0.869023\n",
       "6       0          1  0.241859  0.758141\n",
       "7       1          1  0.005118  0.994882\n",
       "8       1          1  0.012877  0.987123\n",
       "9       1          1  0.006834  0.993166"
      ]
     },
     "execution_count": 142,
     "metadata": {},
     "output_type": "execute_result"
    }
   ],
   "source": [
    "res = pd.DataFrame({'preds': preds, 'probC0': probs[:,0], 'probC1': probs[:,1]})\n",
    "res = pd.concat([y_test.reset_index(drop=True), res], ignore_index=True, axis = 1)\n",
    "res.columns = ['Actual', 'Predicted', 'Prob0','Prob1']\n",
    "res.head(10)"
   ]
  },
  {
   "cell_type": "markdown",
   "metadata": {},
   "source": [
    "I think best score is as is. Adjusting the threshold doesn't help much."
   ]
  },
  {
   "cell_type": "code",
   "execution_count": 143,
   "metadata": {
    "collapsed": false
   },
   "outputs": [
    {
     "name": "stdout",
     "output_type": "stream",
     "text": [
      "----------------------\n",
      "Accuracy: 0.97406559878\n",
      "             precision    recall  f1-score   support\n",
      "\n",
      "          0       0.99      0.98      0.99      1257\n",
      "          1       0.65      0.81      0.72        54\n",
      "\n",
      "avg / total       0.98      0.97      0.98      1311\n",
      "\n",
      "----------------------\n"
     ]
    }
   ],
   "source": [
    "print '----------------------'\n",
    "print 'Accuracy:', metrics.accuracy_score(res.Actual, [1 if p > 0.6 else 0 for p in res.Prob1.values])\n",
    "\n",
    "print metrics.classification_report(res.Actual, [1 if p > 0.6 else 0 for p in res.Prob1.values])\n",
    "print '----------------------'"
   ]
  },
  {
   "cell_type": "markdown",
   "metadata": {},
   "source": [
    "### Use Fitted Model to Generate Predictions For Entire DataFrame\n",
    "\n",
    "For purpose of mapping in d3"
   ]
  },
  {
   "cell_type": "code",
   "execution_count": 144,
   "metadata": {
    "collapsed": false
   },
   "outputs": [
    {
     "data": {
      "text/html": [
       "<div>\n",
       "<table border=\"1\" class=\"dataframe\">\n",
       "  <thead>\n",
       "    <tr style=\"text-align: right;\">\n",
       "      <th></th>\n",
       "      <th>Actual</th>\n",
       "      <th>Predicted</th>\n",
       "      <th>Prob0</th>\n",
       "      <th>Prob1</th>\n",
       "    </tr>\n",
       "  </thead>\n",
       "  <tbody>\n",
       "    <tr>\n",
       "      <th>0</th>\n",
       "      <td>1</td>\n",
       "      <td>1</td>\n",
       "      <td>0.005119</td>\n",
       "      <td>0.994881</td>\n",
       "    </tr>\n",
       "    <tr>\n",
       "      <th>1</th>\n",
       "      <td>1</td>\n",
       "      <td>1</td>\n",
       "      <td>0.005121</td>\n",
       "      <td>0.994879</td>\n",
       "    </tr>\n",
       "    <tr>\n",
       "      <th>2</th>\n",
       "      <td>1</td>\n",
       "      <td>1</td>\n",
       "      <td>0.005242</td>\n",
       "      <td>0.994758</td>\n",
       "    </tr>\n",
       "    <tr>\n",
       "      <th>3</th>\n",
       "      <td>1</td>\n",
       "      <td>1</td>\n",
       "      <td>0.007690</td>\n",
       "      <td>0.992310</td>\n",
       "    </tr>\n",
       "    <tr>\n",
       "      <th>4</th>\n",
       "      <td>1</td>\n",
       "      <td>1</td>\n",
       "      <td>0.009906</td>\n",
       "      <td>0.990094</td>\n",
       "    </tr>\n",
       "    <tr>\n",
       "      <th>5</th>\n",
       "      <td>1</td>\n",
       "      <td>1</td>\n",
       "      <td>0.005144</td>\n",
       "      <td>0.994856</td>\n",
       "    </tr>\n",
       "    <tr>\n",
       "      <th>6</th>\n",
       "      <td>1</td>\n",
       "      <td>1</td>\n",
       "      <td>0.005128</td>\n",
       "      <td>0.994872</td>\n",
       "    </tr>\n",
       "    <tr>\n",
       "      <th>7</th>\n",
       "      <td>1</td>\n",
       "      <td>1</td>\n",
       "      <td>0.006284</td>\n",
       "      <td>0.993716</td>\n",
       "    </tr>\n",
       "    <tr>\n",
       "      <th>8</th>\n",
       "      <td>1</td>\n",
       "      <td>1</td>\n",
       "      <td>0.005122</td>\n",
       "      <td>0.994878</td>\n",
       "    </tr>\n",
       "    <tr>\n",
       "      <th>9</th>\n",
       "      <td>0</td>\n",
       "      <td>0</td>\n",
       "      <td>0.998945</td>\n",
       "      <td>0.001055</td>\n",
       "    </tr>\n",
       "  </tbody>\n",
       "</table>\n",
       "</div>"
      ],
      "text/plain": [
       "   Actual  Predicted     Prob0     Prob1\n",
       "0       1          1  0.005119  0.994881\n",
       "1       1          1  0.005121  0.994879\n",
       "2       1          1  0.005242  0.994758\n",
       "3       1          1  0.007690  0.992310\n",
       "4       1          1  0.009906  0.990094\n",
       "5       1          1  0.005144  0.994856\n",
       "6       1          1  0.005128  0.994872\n",
       "7       1          1  0.006284  0.993716\n",
       "8       1          1  0.005122  0.994878\n",
       "9       0          0  0.998945  0.001055"
      ]
     },
     "execution_count": 144,
     "metadata": {},
     "output_type": "execute_result"
    }
   ],
   "source": [
    "preds = gboost.predict(df.drop(drop_cols, axis = 1))\n",
    "probs = gboost.predict_proba(df.drop(drop_cols, axis = 1))\n",
    "\n",
    "res = pd.DataFrame({'preds': preds, 'probC0': probs[:,0], 'probC1': probs[:,1]})\n",
    "res = pd.concat([df.Y.reset_index(drop=True), res], ignore_index=True, axis = 1)\n",
    "res.columns = ['Actual', 'Predicted', 'Prob0','Prob1']\n",
    "res.head(10)"
   ]
  },
  {
   "cell_type": "code",
   "execution_count": 145,
   "metadata": {
    "collapsed": false
   },
   "outputs": [
    {
     "name": "stdout",
     "output_type": "stream",
     "text": [
      "----------------------\n",
      "Accuracy: 0.985263157895\n",
      "             precision    recall  f1-score   support\n",
      "\n",
      "          0       1.00      0.99      0.99      2188\n",
      "          1       0.87      0.96      0.91       187\n",
      "\n",
      "avg / total       0.99      0.99      0.99      2375\n",
      "\n",
      "----------------------\n"
     ]
    }
   ],
   "source": [
    "print '----------------------'\n",
    "print 'Accuracy:', metrics.accuracy_score(res.Actual, [1 if p > 0.5 else 0 for p in res.Prob1.values])\n",
    "\n",
    "print metrics.classification_report(res.Actual, [1 if p > 0.5 else 0 for p in res.Prob1.values])\n",
    "print '----------------------'"
   ]
  },
  {
   "cell_type": "markdown",
   "metadata": {},
   "source": [
    "## Evaluate Incorrect Predictions\n",
    "\n",
    "For possible reccomended exapantions"
   ]
  },
  {
   "cell_type": "code",
   "execution_count": 146,
   "metadata": {
    "collapsed": false
   },
   "outputs": [
    {
     "data": {
      "text/html": [
       "<div>\n",
       "<table border=\"1\" class=\"dataframe\">\n",
       "  <thead>\n",
       "    <tr style=\"text-align: right;\">\n",
       "      <th></th>\n",
       "      <th>county</th>\n",
       "      <th>state</th>\n",
       "    </tr>\n",
       "  </thead>\n",
       "  <tbody>\n",
       "    <tr>\n",
       "      <th>156</th>\n",
       "      <td>New Castle County</td>\n",
       "      <td>Delaware</td>\n",
       "    </tr>\n",
       "    <tr>\n",
       "      <th>77</th>\n",
       "      <td>DeKalb County</td>\n",
       "      <td>Georgia</td>\n",
       "    </tr>\n",
       "    <tr>\n",
       "      <th>2324</th>\n",
       "      <td>Richmond city</td>\n",
       "      <td>Virginia</td>\n",
       "    </tr>\n",
       "    <tr>\n",
       "      <th>178</th>\n",
       "      <td>Hudson County</td>\n",
       "      <td>New Jersey</td>\n",
       "    </tr>\n",
       "    <tr>\n",
       "      <th>71</th>\n",
       "      <td>Summit County</td>\n",
       "      <td>Ohio</td>\n",
       "    </tr>\n",
       "    <tr>\n",
       "      <th>318</th>\n",
       "      <td>Delaware County</td>\n",
       "      <td>Ohio</td>\n",
       "    </tr>\n",
       "    <tr>\n",
       "      <th>245</th>\n",
       "      <td>Montgomery County</td>\n",
       "      <td>Alabama</td>\n",
       "    </tr>\n",
       "    <tr>\n",
       "      <th>126</th>\n",
       "      <td>Bristol County</td>\n",
       "      <td>Massachusetts</td>\n",
       "    </tr>\n",
       "    <tr>\n",
       "      <th>145</th>\n",
       "      <td>Norfolk city</td>\n",
       "      <td>Virginia</td>\n",
       "    </tr>\n",
       "    <tr>\n",
       "      <th>314</th>\n",
       "      <td>Passaic County</td>\n",
       "      <td>New Jersey</td>\n",
       "    </tr>\n",
       "    <tr>\n",
       "      <th>103</th>\n",
       "      <td>Bucks County</td>\n",
       "      <td>Pennsylvania</td>\n",
       "    </tr>\n",
       "    <tr>\n",
       "      <th>176</th>\n",
       "      <td>Williamson County</td>\n",
       "      <td>Texas</td>\n",
       "    </tr>\n",
       "    <tr>\n",
       "      <th>58</th>\n",
       "      <td>Jackson County</td>\n",
       "      <td>Missouri</td>\n",
       "    </tr>\n",
       "    <tr>\n",
       "      <th>107</th>\n",
       "      <td>Hampden County</td>\n",
       "      <td>Massachusetts</td>\n",
       "    </tr>\n",
       "    <tr>\n",
       "      <th>114</th>\n",
       "      <td>Lucas County</td>\n",
       "      <td>Ohio</td>\n",
       "    </tr>\n",
       "    <tr>\n",
       "      <th>113</th>\n",
       "      <td>Prince William County</td>\n",
       "      <td>Virginia</td>\n",
       "    </tr>\n",
       "    <tr>\n",
       "      <th>115</th>\n",
       "      <td>Spokane County</td>\n",
       "      <td>Washington</td>\n",
       "    </tr>\n",
       "    <tr>\n",
       "      <th>162</th>\n",
       "      <td>Galveston County</td>\n",
       "      <td>Texas</td>\n",
       "    </tr>\n",
       "    <tr>\n",
       "      <th>88</th>\n",
       "      <td>Brevard County</td>\n",
       "      <td>Florida</td>\n",
       "    </tr>\n",
       "    <tr>\n",
       "      <th>322</th>\n",
       "      <td>Brazos County</td>\n",
       "      <td>Texas</td>\n",
       "    </tr>\n",
       "    <tr>\n",
       "      <th>21</th>\n",
       "      <td>Queens County</td>\n",
       "      <td>New York</td>\n",
       "    </tr>\n",
       "    <tr>\n",
       "      <th>648</th>\n",
       "      <td>Clarke County</td>\n",
       "      <td>Georgia</td>\n",
       "    </tr>\n",
       "    <tr>\n",
       "      <th>46</th>\n",
       "      <td>Macomb County</td>\n",
       "      <td>Michigan</td>\n",
       "    </tr>\n",
       "    <tr>\n",
       "      <th>206</th>\n",
       "      <td>Rockingham County</td>\n",
       "      <td>New Hampshire</td>\n",
       "    </tr>\n",
       "    <tr>\n",
       "      <th>551</th>\n",
       "      <td>Butte County</td>\n",
       "      <td>California</td>\n",
       "    </tr>\n",
       "    <tr>\n",
       "      <th>1973</th>\n",
       "      <td>Teton County</td>\n",
       "      <td>Wyoming</td>\n",
       "    </tr>\n",
       "    <tr>\n",
       "      <th>372</th>\n",
       "      <td>Rockland County</td>\n",
       "      <td>New York</td>\n",
       "    </tr>\n",
       "    <tr>\n",
       "      <th>306</th>\n",
       "      <td>Richmond County</td>\n",
       "      <td>New York</td>\n",
       "    </tr>\n",
       "  </tbody>\n",
       "</table>\n",
       "</div>"
      ],
      "text/plain": [
       "                     county          state\n",
       "156       New Castle County       Delaware\n",
       "77            DeKalb County        Georgia\n",
       "2324          Richmond city       Virginia\n",
       "178           Hudson County     New Jersey\n",
       "71            Summit County           Ohio\n",
       "318         Delaware County           Ohio\n",
       "245       Montgomery County        Alabama\n",
       "126          Bristol County  Massachusetts\n",
       "145            Norfolk city       Virginia\n",
       "314          Passaic County     New Jersey\n",
       "103            Bucks County   Pennsylvania\n",
       "176       Williamson County          Texas\n",
       "58           Jackson County       Missouri\n",
       "107          Hampden County  Massachusetts\n",
       "114            Lucas County           Ohio\n",
       "113   Prince William County       Virginia\n",
       "115          Spokane County     Washington\n",
       "162        Galveston County          Texas\n",
       "88           Brevard County        Florida\n",
       "322           Brazos County          Texas\n",
       "21            Queens County       New York\n",
       "648           Clarke County        Georgia\n",
       "46            Macomb County       Michigan\n",
       "206       Rockingham County  New Hampshire\n",
       "551            Butte County     California\n",
       "1973           Teton County        Wyoming\n",
       "372         Rockland County       New York\n",
       "306         Richmond County       New York"
      ]
     },
     "execution_count": 146,
     "metadata": {},
     "output_type": "execute_result"
    }
   ],
   "source": [
    "df.ix[res[(res.Actual == 0) & (res.Predicted == 1)].sort_values('Prob1', ascending = False).index, ['county','state']]\n",
    "#res[(res.Actual == 0) & (res.Predicted == 1)].sort_values('Prob1', ascending = False)\n"
   ]
  },
  {
   "cell_type": "markdown",
   "metadata": {},
   "source": [
    "### Get Models to CSV"
   ]
  },
  {
   "cell_type": "code",
   "execution_count": 147,
   "metadata": {
    "collapsed": false
   },
   "outputs": [],
   "source": [
    "csvdf = pd.concat([df.drop(drop_cols, axis = 1), res], axis = 1)"
   ]
  },
  {
   "cell_type": "code",
   "execution_count": 148,
   "metadata": {
    "collapsed": false
   },
   "outputs": [
    {
     "data": {
      "text/plain": [
       "(2375, 32)"
      ]
     },
     "execution_count": 148,
     "metadata": {},
     "output_type": "execute_result"
    }
   ],
   "source": [
    "csvdf.shape"
   ]
  },
  {
   "cell_type": "code",
   "execution_count": 149,
   "metadata": {
    "collapsed": false
   },
   "outputs": [],
   "source": [
    "csvdf = pd.concat([df[['fips','county','state', 'wholefoods', 'mcdonalds','walmart','target']], csvdf], axis = 1)\n"
   ]
  },
  {
   "cell_type": "code",
   "execution_count": 153,
   "metadata": {
    "collapsed": false
   },
   "outputs": [],
   "source": [
    "# RENAMING some columns so \"pct\" always comes at end of name\n",
    "csvdf.columns = [u'fips', u'county', u'state', u'wholefoods', u'mcdonalds', u'walmart',\n",
    "       u'target', u'population', u'starbucks', u'tjs',\n",
    "       u'Ancestry_American_pct', u'Ancestry_Arab_pct', u'Ancestry_French_pct',\n",
    "       u'Female_Adult_Population', u'Female_Divorced', u'Female_Divorced_pct',\n",
    "       u'Female_Single', u'Female_Single_pct', u'Female_Widowed',\n",
    "       u'In_School_pct', u'Graduated_College_pct',\n",
    "       u'Highest_Education_Associates_Degree_pct',\n",
    "       u'Highest_Education_Bachelors_Degree_pct',\n",
    "       u'Highest_Education_Graduate_Degree_pct',\n",
    "       u'Highest_Education_HS_Diploma_pct', u'Household_income_75k_100K_pct',\n",
    "       u'Male_Adult_Population', u'Male_Divorced', u'Male_Single',\n",
    "       u'Over_25yrs', u'hiv_prevalence_rate', u'asian_pct',\n",
    "       u'native_hawaiian_other_pacific_islander_pct', u'obese_pct',\n",
    "       u'rural_pct', u'Actual', u'Predicted', u'Prob0', u'Prob1']"
   ]
  },
  {
   "cell_type": "code",
   "execution_count": 66,
   "metadata": {
    "collapsed": true
   },
   "outputs": [],
   "source": [
    "csvdf.to_csv('WebApp/COUNTYDATA.csv', index = False)"
   ]
  },
  {
   "cell_type": "code",
   "execution_count": null,
   "metadata": {
    "collapsed": true
   },
   "outputs": [],
   "source": []
  },
  {
   "cell_type": "code",
   "execution_count": null,
   "metadata": {
    "collapsed": true
   },
   "outputs": [],
   "source": []
  },
  {
   "cell_type": "code",
   "execution_count": 4,
   "metadata": {
    "collapsed": true
   },
   "outputs": [],
   "source": [
    "csvdf = pd.read_csv('COUNTYDATA.csv', dtype = {'fips':'str'})"
   ]
  },
  {
   "cell_type": "code",
   "execution_count": null,
   "metadata": {
    "collapsed": false,
    "scrolled": true
   },
   "outputs": [],
   "source": []
  },
  {
   "cell_type": "markdown",
   "metadata": {
    "collapsed": true
   },
   "source": [
    "## Analyze\n",
    "\n",
    "look at ftrs"
   ]
  },
  {
   "cell_type": "code",
   "execution_count": 154,
   "metadata": {
    "collapsed": false
   },
   "outputs": [
    {
     "data": {
      "text/plain": [
       "starbucks                                     0.068675\n",
       "pct_obese                                    -0.064140\n",
       "Highest_Education_HS_Diploma_pct             -0.060817\n",
       "pct_rural                                    -0.049201\n",
       "Graduated_College_pct                         0.034836\n",
       "pct_asian                                     0.019991\n",
       "Highest_Education_Graduate_Degree_pct         0.017930\n",
       "Highest_Education_Associates_Degree_pct      -0.017424\n",
       "Ancestry_French_pct                           0.016717\n",
       "Highest_Education_Bachelors_Degree_pct        0.016690\n",
       "Household_income_75k_100K_pct                -0.014090\n",
       "pct_native_hawaiian_other_pacific_islander    0.012632\n",
       "Female_Divorced_pct                          -0.010116\n",
       "Ancestry_American_pct                        -0.009101\n",
       "tjs                                           0.008005\n",
       "Female_Single_pct                            -0.003724\n",
       "hiv_prevalence_rate                           0.002207\n",
       "Ancestry_Arab_pct                            -0.000944\n",
       "Male_Single                                  -0.000190\n",
       "Female_Divorced                               0.000163\n",
       "Male_Adult_Population                         0.000145\n",
       "Female_Widowed                               -0.000143\n",
       "Female_Single                                 0.000124\n",
       "Female_Adult_Population                       0.000048\n",
       "Over_25yrs                                   -0.000047\n",
       "In_School_pct                                -0.000038\n",
       "population                                   -0.000023\n",
       "Male_Divorced                                 0.000003\n",
       "dtype: float64"
      ]
     },
     "execution_count": 154,
     "metadata": {},
     "output_type": "execute_result"
    }
   ],
   "source": [
    "coefs.mean()[coefs.mean().abs().sort_values(ascending = False).index]"
   ]
  },
  {
   "cell_type": "code",
   "execution_count": 155,
   "metadata": {
    "collapsed": false
   },
   "outputs": [
    {
     "data": {
      "text/plain": [
       "starbucks                                     0.264845\n",
       "Female_Single                                 0.088738\n",
       "tjs                                           0.076202\n",
       "Female_Divorced                               0.071699\n",
       "population                                    0.044998\n",
       "Male_Adult_Population                         0.042236\n",
       "Female_Adult_Population                       0.041664\n",
       "Over_25yrs                                    0.039959\n",
       "In_School_pct                                 0.035197\n",
       "Male_Single                                   0.034157\n",
       "Graduated_College_pct                         0.026206\n",
       "Highest_Education_Graduate_Degree_pct         0.024456\n",
       "Highest_Education_HS_Diploma_pct              0.021492\n",
       "pct_obese                                     0.017846\n",
       "Highest_Education_Bachelors_Degree_pct        0.017285\n",
       "hiv_prevalence_rate                           0.017063\n",
       "Highest_Education_Associates_Degree_pct       0.016175\n",
       "Household_income_75k_100K_pct                 0.015141\n",
       "Male_Divorced                                 0.014599\n",
       "Ancestry_French_pct                           0.013108\n",
       "pct_rural                                     0.011742\n",
       "pct_asian                                     0.011256\n",
       "Female_Single_pct                             0.011200\n",
       "Ancestry_American_pct                         0.009815\n",
       "Female_Divorced_pct                           0.009702\n",
       "Female_Widowed                                0.008271\n",
       "Ancestry_Arab_pct                             0.007751\n",
       "pct_native_hawaiian_other_pacific_islander    0.007197\n",
       "dtype: float64"
      ]
     },
     "execution_count": 155,
     "metadata": {},
     "output_type": "execute_result"
    }
   ],
   "source": [
    "gb_ftr_importances.mean().sort_values(ascending = False)"
   ]
  },
  {
   "cell_type": "markdown",
   "metadata": {},
   "source": [
    "### Starbucks"
   ]
  },
  {
   "cell_type": "code",
   "execution_count": 207,
   "metadata": {
    "collapsed": true
   },
   "outputs": [],
   "source": [
    "sbucks_mask = (csvdf.starbucks>0)\n",
    "wf_mask = (csvdf.wholefoods >0)\n",
    "neg_mask = (csvdf.wholefoods == 0)"
   ]
  },
  {
   "cell_type": "code",
   "execution_count": 210,
   "metadata": {
    "collapsed": false
   },
   "outputs": [
    {
     "data": {
      "text/plain": [
       "0.17108874656907594"
      ]
     },
     "execution_count": 210,
     "metadata": {},
     "output_type": "execute_result"
    }
   ],
   "source": [
    "#What Percent of locations that have Starbucks also have a whole foods\n",
    "\n",
    "\n",
    "csvdf[csvdf.starbucks >= 1].shape #1093\n",
    "csvdf[sbucks_mask & (csvdf.wholefoods >=1)].shape # 187\n",
    "\n",
    "187./1093"
   ]
  },
  {
   "cell_type": "code",
   "execution_count": 211,
   "metadata": {
    "collapsed": false
   },
   "outputs": [
    {
     "data": {
      "text/plain": [
       "1"
      ]
     },
     "execution_count": 211,
     "metadata": {},
     "output_type": "execute_result"
    }
   ],
   "source": [
    "#What Percent of locations that have WholeFoods also have a Starbucks\n",
    "csvdf[csvdf.wholefoods >= 1].shape #187\n",
    "csvdf[sbucks_mask & wf_mask].shape # 187\n",
    "\n",
    "187/187"
   ]
  },
  {
   "cell_type": "code",
   "execution_count": 212,
   "metadata": {
    "collapsed": false
   },
   "outputs": [
    {
     "data": {
      "text/plain": [
       "19.900207669274607"
      ]
     },
     "execution_count": 212,
     "metadata": {},
     "output_type": "execute_result"
    }
   ],
   "source": [
    "# What is the avg ratio of Starbucks to Wholefoods\n",
    "(csvdf[sbucks_mask & wf_mask]['starbucks']/csvdf[sbucks_mask & wf_mask]['wholefoods']).sort_values().mean()\n"
   ]
  },
  {
   "cell_type": "markdown",
   "metadata": {},
   "source": [
    "### Population"
   ]
  },
  {
   "cell_type": "code",
   "execution_count": 213,
   "metadata": {
    "collapsed": false
   },
   "outputs": [
    {
     "data": {
      "text/html": [
       "<div>\n",
       "<table border=\"1\" class=\"dataframe\">\n",
       "  <thead>\n",
       "    <tr style=\"text-align: right;\">\n",
       "      <th></th>\n",
       "      <th>fips</th>\n",
       "      <th>county</th>\n",
       "      <th>state</th>\n",
       "      <th>wholefoods</th>\n",
       "      <th>mcdonalds</th>\n",
       "      <th>walmart</th>\n",
       "      <th>target</th>\n",
       "      <th>population</th>\n",
       "      <th>starbucks</th>\n",
       "      <th>tjs</th>\n",
       "      <th>Ancestry_American_pct</th>\n",
       "      <th>Ancestry_Arab_pct</th>\n",
       "      <th>Ancestry_French_pct</th>\n",
       "      <th>Female_Adult_Population</th>\n",
       "      <th>Female_Divorced</th>\n",
       "      <th>Female_Divorced_pct</th>\n",
       "      <th>Female_Single</th>\n",
       "      <th>Female_Single_pct</th>\n",
       "      <th>Female_Widowed</th>\n",
       "      <th>In_School_pct</th>\n",
       "      <th>Graduated_College_pct</th>\n",
       "      <th>Highest_Education_Associates_Degree_pct</th>\n",
       "      <th>Highest_Education_Bachelors_Degree_pct</th>\n",
       "      <th>Highest_Education_Graduate_Degree_pct</th>\n",
       "      <th>Highest_Education_HS_Diploma_pct</th>\n",
       "      <th>Household_income_75k_100K_pct</th>\n",
       "      <th>Male_Adult_Population</th>\n",
       "      <th>Male_Divorced</th>\n",
       "      <th>Male_Single</th>\n",
       "      <th>Over_25yrs</th>\n",
       "      <th>hiv_prevalence_rate</th>\n",
       "      <th>asian_pct</th>\n",
       "      <th>native_hawaiian_other_pacific_islander_pct</th>\n",
       "      <th>obese_pct</th>\n",
       "      <th>rural_pct</th>\n",
       "      <th>Actual</th>\n",
       "      <th>Predicted</th>\n",
       "      <th>Prob0</th>\n",
       "      <th>Prob1</th>\n",
       "    </tr>\n",
       "  </thead>\n",
       "  <tbody>\n",
       "    <tr>\n",
       "      <th>9</th>\n",
       "      <td>26163</td>\n",
       "      <td>Wayne County</td>\n",
       "      <td>Michigan</td>\n",
       "      <td>0.0</td>\n",
       "      <td>88.0</td>\n",
       "      <td>9.0</td>\n",
       "      <td>9.0</td>\n",
       "      <td>1764804.0</td>\n",
       "      <td>41.0</td>\n",
       "      <td>2.0</td>\n",
       "      <td>4.9</td>\n",
       "      <td>4.6</td>\n",
       "      <td>2.7</td>\n",
       "      <td>753229.0</td>\n",
       "      <td>97858.0</td>\n",
       "      <td>13.0</td>\n",
       "      <td>284776.0</td>\n",
       "      <td>37.8</td>\n",
       "      <td>78665.0</td>\n",
       "      <td>488306.0</td>\n",
       "      <td>21.6</td>\n",
       "      <td>7.6</td>\n",
       "      <td>13.1</td>\n",
       "      <td>8.5</td>\n",
       "      <td>30.3</td>\n",
       "      <td>10.3</td>\n",
       "      <td>676263.0</td>\n",
       "      <td>72334.0</td>\n",
       "      <td>293220.0</td>\n",
       "      <td>1172375.0</td>\n",
       "      <td>471.0</td>\n",
       "      <td>3.0</td>\n",
       "      <td>0.0</td>\n",
       "      <td>34.0</td>\n",
       "      <td>0.7</td>\n",
       "      <td>0</td>\n",
       "      <td>0</td>\n",
       "      <td>0.998945</td>\n",
       "      <td>0.001055</td>\n",
       "    </tr>\n",
       "    <tr>\n",
       "      <th>12</th>\n",
       "      <td>06071</td>\n",
       "      <td>San Bernardino County</td>\n",
       "      <td>California</td>\n",
       "      <td>0.0</td>\n",
       "      <td>73.0</td>\n",
       "      <td>20.0</td>\n",
       "      <td>13.0</td>\n",
       "      <td>2112619.0</td>\n",
       "      <td>106.0</td>\n",
       "      <td>3.0</td>\n",
       "      <td>4.1</td>\n",
       "      <td>0.8</td>\n",
       "      <td>1.7</td>\n",
       "      <td>810867.0</td>\n",
       "      <td>94691.0</td>\n",
       "      <td>11.7</td>\n",
       "      <td>270759.0</td>\n",
       "      <td>33.4</td>\n",
       "      <td>57787.0</td>\n",
       "      <td>630419.0</td>\n",
       "      <td>18.8</td>\n",
       "      <td>8.0</td>\n",
       "      <td>12.1</td>\n",
       "      <td>6.7</td>\n",
       "      <td>26.3</td>\n",
       "      <td>12.8</td>\n",
       "      <td>788177.0</td>\n",
       "      <td>68484.0</td>\n",
       "      <td>313701.0</td>\n",
       "      <td>1256972.0</td>\n",
       "      <td>205.0</td>\n",
       "      <td>7.3</td>\n",
       "      <td>0.5</td>\n",
       "      <td>29.0</td>\n",
       "      <td>4.7</td>\n",
       "      <td>0</td>\n",
       "      <td>0</td>\n",
       "      <td>0.740896</td>\n",
       "      <td>0.259104</td>\n",
       "    </tr>\n",
       "    <tr>\n",
       "      <th>21</th>\n",
       "      <td>36081</td>\n",
       "      <td>Queens County</td>\n",
       "      <td>New York</td>\n",
       "      <td>0.0</td>\n",
       "      <td>62.0</td>\n",
       "      <td>0.0</td>\n",
       "      <td>2.0</td>\n",
       "      <td>2321580.0</td>\n",
       "      <td>39.0</td>\n",
       "      <td>1.0</td>\n",
       "      <td>3.5</td>\n",
       "      <td>0.9</td>\n",
       "      <td>0.5</td>\n",
       "      <td>985069.0</td>\n",
       "      <td>91092.0</td>\n",
       "      <td>9.2</td>\n",
       "      <td>344824.0</td>\n",
       "      <td>35.0</td>\n",
       "      <td>94404.0</td>\n",
       "      <td>551047.0</td>\n",
       "      <td>30.2</td>\n",
       "      <td>7.8</td>\n",
       "      <td>19.3</td>\n",
       "      <td>10.9</td>\n",
       "      <td>27.3</td>\n",
       "      <td>13.1</td>\n",
       "      <td>905776.0</td>\n",
       "      <td>55067.0</td>\n",
       "      <td>378641.0</td>\n",
       "      <td>1598824.0</td>\n",
       "      <td>844.0</td>\n",
       "      <td>25.8</td>\n",
       "      <td>0.2</td>\n",
       "      <td>24.0</td>\n",
       "      <td>0.0</td>\n",
       "      <td>0</td>\n",
       "      <td>1</td>\n",
       "      <td>0.241859</td>\n",
       "      <td>0.758141</td>\n",
       "    </tr>\n",
       "    <tr>\n",
       "      <th>53</th>\n",
       "      <td>36005</td>\n",
       "      <td>Bronx County</td>\n",
       "      <td>New York</td>\n",
       "      <td>0.0</td>\n",
       "      <td>42.0</td>\n",
       "      <td>0.0</td>\n",
       "      <td>0.0</td>\n",
       "      <td>1438159.0</td>\n",
       "      <td>11.0</td>\n",
       "      <td>0.0</td>\n",
       "      <td>2.4</td>\n",
       "      <td>0.5</td>\n",
       "      <td>0.2</td>\n",
       "      <td>599664.0</td>\n",
       "      <td>65209.0</td>\n",
       "      <td>10.9</td>\n",
       "      <td>280150.0</td>\n",
       "      <td>46.7</td>\n",
       "      <td>51812.0</td>\n",
       "      <td>401135.0</td>\n",
       "      <td>18.3</td>\n",
       "      <td>6.9</td>\n",
       "      <td>11.8</td>\n",
       "      <td>6.5</td>\n",
       "      <td>27.7</td>\n",
       "      <td>8.9</td>\n",
       "      <td>508969.0</td>\n",
       "      <td>38828.0</td>\n",
       "      <td>262987.0</td>\n",
       "      <td>880909.0</td>\n",
       "      <td>2018.0</td>\n",
       "      <td>4.4</td>\n",
       "      <td>0.4</td>\n",
       "      <td>29.0</td>\n",
       "      <td>0.0</td>\n",
       "      <td>0</td>\n",
       "      <td>0</td>\n",
       "      <td>0.998945</td>\n",
       "      <td>0.001055</td>\n",
       "    </tr>\n",
       "  </tbody>\n",
       "</table>\n",
       "</div>"
      ],
      "text/plain": [
       "     fips                 county       state  wholefoods  mcdonalds  walmart  \\\n",
       "9   26163           Wayne County    Michigan         0.0       88.0      9.0   \n",
       "12  06071  San Bernardino County  California         0.0       73.0     20.0   \n",
       "21  36081          Queens County    New York         0.0       62.0      0.0   \n",
       "53  36005           Bronx County    New York         0.0       42.0      0.0   \n",
       "\n",
       "    target  population  starbucks  tjs  Ancestry_American_pct  \\\n",
       "9      9.0   1764804.0       41.0  2.0                    4.9   \n",
       "12    13.0   2112619.0      106.0  3.0                    4.1   \n",
       "21     2.0   2321580.0       39.0  1.0                    3.5   \n",
       "53     0.0   1438159.0       11.0  0.0                    2.4   \n",
       "\n",
       "    Ancestry_Arab_pct  Ancestry_French_pct  Female_Adult_Population  \\\n",
       "9                 4.6                  2.7                 753229.0   \n",
       "12                0.8                  1.7                 810867.0   \n",
       "21                0.9                  0.5                 985069.0   \n",
       "53                0.5                  0.2                 599664.0   \n",
       "\n",
       "    Female_Divorced  Female_Divorced_pct  Female_Single  Female_Single_pct  \\\n",
       "9           97858.0                 13.0       284776.0               37.8   \n",
       "12          94691.0                 11.7       270759.0               33.4   \n",
       "21          91092.0                  9.2       344824.0               35.0   \n",
       "53          65209.0                 10.9       280150.0               46.7   \n",
       "\n",
       "    Female_Widowed  In_School_pct  Graduated_College_pct  \\\n",
       "9          78665.0       488306.0                   21.6   \n",
       "12         57787.0       630419.0                   18.8   \n",
       "21         94404.0       551047.0                   30.2   \n",
       "53         51812.0       401135.0                   18.3   \n",
       "\n",
       "    Highest_Education_Associates_Degree_pct  \\\n",
       "9                                       7.6   \n",
       "12                                      8.0   \n",
       "21                                      7.8   \n",
       "53                                      6.9   \n",
       "\n",
       "    Highest_Education_Bachelors_Degree_pct  \\\n",
       "9                                     13.1   \n",
       "12                                    12.1   \n",
       "21                                    19.3   \n",
       "53                                    11.8   \n",
       "\n",
       "    Highest_Education_Graduate_Degree_pct  Highest_Education_HS_Diploma_pct  \\\n",
       "9                                     8.5                              30.3   \n",
       "12                                    6.7                              26.3   \n",
       "21                                   10.9                              27.3   \n",
       "53                                    6.5                              27.7   \n",
       "\n",
       "    Household_income_75k_100K_pct  Male_Adult_Population  Male_Divorced  \\\n",
       "9                            10.3               676263.0        72334.0   \n",
       "12                           12.8               788177.0        68484.0   \n",
       "21                           13.1               905776.0        55067.0   \n",
       "53                            8.9               508969.0        38828.0   \n",
       "\n",
       "    Male_Single  Over_25yrs  hiv_prevalence_rate  asian_pct  \\\n",
       "9      293220.0   1172375.0                471.0        3.0   \n",
       "12     313701.0   1256972.0                205.0        7.3   \n",
       "21     378641.0   1598824.0                844.0       25.8   \n",
       "53     262987.0    880909.0               2018.0        4.4   \n",
       "\n",
       "    native_hawaiian_other_pacific_islander_pct  obese_pct  rural_pct  Actual  \\\n",
       "9                                          0.0       34.0        0.7       0   \n",
       "12                                         0.5       29.0        4.7       0   \n",
       "21                                         0.2       24.0        0.0       0   \n",
       "53                                         0.4       29.0        0.0       0   \n",
       "\n",
       "    Predicted     Prob0     Prob1  \n",
       "9           0  0.998945  0.001055  \n",
       "12          0  0.740896  0.259104  \n",
       "21          1  0.241859  0.758141  \n",
       "53          0  0.998945  0.001055  "
      ]
     },
     "execution_count": 213,
     "metadata": {},
     "output_type": "execute_result"
    },
    {
     "data": {
      "image/png": "[encoded data removed]",
      "text/plain": [
       "<matplotlib.figure.Figure at 0x10ef7be10>"
      ]
     },
     "metadata": {},
     "output_type": "display_data"
    }
   ],
   "source": [
    "pop_mask = (csvdf.population>1000000)\n",
    "csvdf[wf_mask].population.median()\n",
    "plt.scatter(csvdf.population, csvdf.wholefoods)\n",
    "\n",
    "\n",
    "csvdf[pop_mask & neg_mask]\n",
    "\n"
   ]
  },
  {
   "cell_type": "markdown",
   "metadata": {},
   "source": [
    "### Female Single"
   ]
  },
  {
   "cell_type": "code",
   "execution_count": 228,
   "metadata": {
    "collapsed": false
   },
   "outputs": [
    {
     "data": {
      "text/plain": [
       "107703.6256684492"
      ]
     },
     "execution_count": 228,
     "metadata": {},
     "output_type": "execute_result"
    },
    {
     "data": {
      "image/png": "[encoded data removed]",
      "text/plain": [
       "<matplotlib.figure.Figure at 0x10ed924d0>"
      ]
     },
     "metadata": {},
     "output_type": "display_data"
    }
   ],
   "source": [
    "fsing_mask = (csvdf.Female_Single>200000)\n",
    "\n",
    "plt.scatter(csvdf[fsing_mask].Female_Single, csvdf[fsing_mask].wholefoods)\n",
    "\n",
    "csvdf[fsing_mask & neg_mask]\n",
    "csvdf[wf_mask].Female_Single.mean()"
   ]
  },
  {
   "cell_type": "code",
   "execution_count": 245,
   "metadata": {
    "collapsed": false
   },
   "outputs": [
    {
     "data": {
      "text/html": [
       "<div>\n",
       "<table border=\"1\" class=\"dataframe\">\n",
       "  <thead>\n",
       "    <tr style=\"text-align: right;\">\n",
       "      <th></th>\n",
       "      <th>fips</th>\n",
       "      <th>county</th>\n",
       "      <th>state</th>\n",
       "      <th>wholefoods</th>\n",
       "      <th>mcdonalds</th>\n",
       "      <th>walmart</th>\n",
       "      <th>target</th>\n",
       "      <th>population</th>\n",
       "      <th>starbucks</th>\n",
       "      <th>tjs</th>\n",
       "      <th>Ancestry_American_pct</th>\n",
       "      <th>Ancestry_Arab_pct</th>\n",
       "      <th>Ancestry_French_pct</th>\n",
       "      <th>Female_Adult_Population</th>\n",
       "      <th>Female_Divorced</th>\n",
       "      <th>Female_Divorced_pct</th>\n",
       "      <th>Female_Single</th>\n",
       "      <th>Female_Single_pct</th>\n",
       "      <th>Female_Widowed</th>\n",
       "      <th>In_School_pct</th>\n",
       "      <th>Graduated_College_pct</th>\n",
       "      <th>Highest_Education_Associates_Degree_pct</th>\n",
       "      <th>Highest_Education_Bachelors_Degree_pct</th>\n",
       "      <th>Highest_Education_Graduate_Degree_pct</th>\n",
       "      <th>Highest_Education_HS_Diploma_pct</th>\n",
       "      <th>Household_income_75k_100K_pct</th>\n",
       "      <th>Male_Adult_Population</th>\n",
       "      <th>Male_Divorced</th>\n",
       "      <th>Male_Single</th>\n",
       "      <th>Over_25yrs</th>\n",
       "      <th>hiv_prevalence_rate</th>\n",
       "      <th>asian_pct</th>\n",
       "      <th>native_hawaiian_other_pacific_islander_pct</th>\n",
       "      <th>obese_pct</th>\n",
       "      <th>rural_pct</th>\n",
       "      <th>Actual</th>\n",
       "      <th>Predicted</th>\n",
       "      <th>Prob0</th>\n",
       "      <th>Prob1</th>\n",
       "    </tr>\n",
       "  </thead>\n",
       "  <tbody>\n",
       "  </tbody>\n",
       "</table>\n",
       "</div>"
      ],
      "text/plain": [
       "Empty DataFrame\n",
       "Columns: [fips, county, state, wholefoods, mcdonalds, walmart, target, population, starbucks, tjs, Ancestry_American_pct, Ancestry_Arab_pct, Ancestry_French_pct, Female_Adult_Population, Female_Divorced, Female_Divorced_pct, Female_Single, Female_Single_pct, Female_Widowed, In_School_pct, Graduated_College_pct, Highest_Education_Associates_Degree_pct, Highest_Education_Bachelors_Degree_pct, Highest_Education_Graduate_Degree_pct, Highest_Education_HS_Diploma_pct, Household_income_75k_100K_pct, Male_Adult_Population, Male_Divorced, Male_Single, Over_25yrs, hiv_prevalence_rate, asian_pct, native_hawaiian_other_pacific_islander_pct, obese_pct, rural_pct, Actual, Predicted, Prob0, Prob1]\n",
       "Index: []"
      ]
     },
     "execution_count": 245,
     "metadata": {},
     "output_type": "execute_result"
    },
    {
     "data": {
      "image/png": "[encoded data removed]",
      "text/plain": [
       "<matplotlib.figure.Figure at 0x1114b79d0>"
      ]
     },
     "metadata": {},
     "output_type": "display_data"
    }
   ],
   "source": [
    "grad_mask = (csvdf.Graduated_College_pct>=35)\n",
    "plt.scatter(csvdf.Graduated_College_pct, csvdf.wholefoods)\n",
    "csvdf[grad_mask & neg_mask & fsing_mask]"
   ]
  },
  {
   "cell_type": "code",
   "execution_count": null,
   "metadata": {
    "collapsed": true
   },
   "outputs": [],
   "source": []
  }
 ],
 "metadata": {
  "kernelspec": {
   "display_name": "Python 2",
   "language": "python",
   "name": "python2"
  },
  "language_info": {
   "codemirror_mode": {
    "name": "ipython",
    "version": 2
   },
   "file_extension": ".py",
   "mimetype": "text/x-python",
   "name": "python",
   "nbconvert_exporter": "python",
   "pygments_lexer": "ipython2",
   "version": "2.7.10"
  }
 },
 "nbformat": 4,
 "nbformat_minor": 0
}
