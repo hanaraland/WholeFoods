{
 "cells": [
  {
   "cell_type": "code",
   "execution_count": 1,
   "metadata": {
    "collapsed": false,
    "slideshow": {
     "slide_type": "slide"
    }
   },
   "outputs": [],
   "source": [
    "import numpy as np\n",
    "import pandas as pd\n",
    "import matplotlib.pyplot as plt\n",
    "%matplotlib inline\n",
    "import seaborn as sns\n",
    "\n",
    "import cPickle as pickle\n",
    "\n",
    "from sklearn.ensemble import GradientBoostingClassifier\n",
    "from sklearn.tree import DecisionTreeClassifier\n",
    "from sklearn.preprocessing import StandardScaler\n",
    "from sklearn.linear_model import LogisticRegression\n",
    "from sklearn import metrics"
   ]
  },
  {
   "cell_type": "code",
   "execution_count": 2,
   "metadata": {
    "collapsed": true
   },
   "outputs": [],
   "source": [
    "pd.options.display.max_rows = 50\n",
    "pd.options.display.max_columns = 120"
   ]
  },
  {
   "cell_type": "code",
   "execution_count": 3,
   "metadata": {
    "collapsed": false
   },
   "outputs": [],
   "source": [
    "with open('pickles/df.pkl', 'rb') as f:\n",
    "    df = pickle.load(f)\n",
    "    \n",
    "with open('pickles/drop_cols1.pkl', 'rb') as f:\n",
    "    drop_cols = pickle.load(f)\n",
    "    \n",
    "    \n",
    "with open('pickles/gboost3.pkl', 'rb') as f:\n",
    "    gboost = pickle.load(f)"
   ]
  },
  {
   "cell_type": "markdown",
   "metadata": {},
   "source": [
    "### Categories:\n",
    "    - Stores\n",
    "    - Ancestry\n",
    "    - Marriage\n",
    "    - Population (age and gender)\n",
    "    - Schooling\n",
    "    - Income\n",
    "    - Race\n",
    "    - Habits\n",
    "    - Health"
   ]
  },
  {
   "cell_type": "code",
   "execution_count": 4,
   "metadata": {
    "collapsed": false
   },
   "outputs": [],
   "source": [
    "# keeping these because I'm interested...\n",
    "# they actually do improve the model a tiny bit\n",
    "drop_cols.remove('Female_Divorced_pct')\n",
    "drop_cols.remove('Female_Single_pct')"
   ]
  },
  {
   "cell_type": "markdown",
   "metadata": {},
   "source": [
    "### Remove Redundancy"
   ]
  },
  {
   "cell_type": "code",
   "execution_count": 5,
   "metadata": {
    "collapsed": true
   },
   "outputs": [],
   "source": [
    "drop_cols.extend(['Female_Adult_Population_pct', 'Male_Adult_Population_pct', 'Over_25yrs_pct'])\n"
   ]
  },
  {
   "cell_type": "code",
   "execution_count": 7,
   "metadata": {
    "collapsed": false
   },
   "outputs": [
    {
     "data": {
      "text/plain": [
       "(2375, 28)"
      ]
     },
     "execution_count": 7,
     "metadata": {},
     "output_type": "execute_result"
    }
   ],
   "source": [
    "df.drop(drop_cols, axis = 1).shape"
   ]
  },
  {
   "cell_type": "code",
   "execution_count": 8,
   "metadata": {
    "collapsed": false
   },
   "outputs": [],
   "source": [
    "# ALL OF NYC IS LABELED AS KINGS COUNTY\n",
    "# CHANGING IT TO NEW YORK COUNTY\n",
    "df.loc[df.county == 'New York County', 'wholefoods'] = 8\n",
    "df.loc[df.county == 'New York County', 'Y'] = 1\n",
    "\n",
    "df.loc[(df.county == 'Kings County') & (df.state == 'New York'), 'wholefoods'] = 2\n",
    "\n"
   ]
  },
  {
   "cell_type": "markdown",
   "metadata": {},
   "source": [
    "### Get Feature Importances and Coefs"
   ]
  },
  {
   "cell_type": "code",
   "execution_count": 9,
   "metadata": {
    "collapsed": true
   },
   "outputs": [],
   "source": [
    "weights = [0.3 if v == 0 else 0.7 for v in df.Y]\n",
    "def Oversample_Classification(est, data, drop, target, weights, cv, train_size):\n",
    "    '''\n",
    "    Does Cross_Validation with oversampling.\n",
    "    data is your dataframe\n",
    "    drop is columns to drop to get your x variable\n",
    "    target is your y variable\n",
    "    weights should be a series that maps to x and y the weight for each row \n",
    "    (eg all the rows of class one should have distinct weight and all rows of class2 have other distinct weight)\n",
    "    '''\n",
    "\n",
    "    accuracy = []\n",
    "    pr = []\n",
    "    auc = []\n",
    "    ftr_importances = []\n",
    "\n",
    "\n",
    "    for f in range(cv):\n",
    "        train = data.sample(train_size, weights = weights, replace=True)\n",
    "        test = data[~data.index.isin(train.index)]\n",
    "        x = train.drop(drop, axis =1)\n",
    "        x_train  = x\n",
    "        y_train = train[target]\n",
    "\n",
    "        x_test = test.drop(drop, axis = 1)\n",
    "        y_test = test[target]\n",
    "\n",
    "        est.fit(x_train,y_train)\n",
    "        preds = est.predict(x_test)\n",
    "        probs = est.predict_proba(x_test)\n",
    "\n",
    "        \n",
    "        accuracy.append(metrics.accuracy_score(y_test, preds))\n",
    "        pr.append((metrics.precision_score(y_test, preds), metrics.recall_score(y_test,preds)))\n",
    "        auc.append(metrics.roc_auc_score(y_test, probs[:,1]))\n",
    "        \n",
    "        try: \n",
    "            ftr_importances.append(est.coef_)\n",
    "        except:\n",
    "            try:\n",
    "                ftr_importances.append(est.feature_importances_)\n",
    "            except:\n",
    "                ftr_importances = 'no ftr_importances'\n",
    "            \n",
    "       \n",
    "    print('--------------')\n",
    "    print('Accuracy:',np.mean(accuracy))\n",
    "    print('Precision:',np.array(pr)[:,0].mean())\n",
    "    print('Recall:', np.array(pr)[:,1].mean())\n",
    "    print('AUC:',np.mean(auc))\n",
    "    print('--------------')\n",
    "\n",
    "       \n",
    "                \n",
    "    print(np.array(ftr_importances).shape)\n",
    "    if type(ftr_importances) == str:\n",
    "        return ftr_importances\n",
    "    \n",
    "    \n",
    "    \n",
    "    return pd.DataFrame(np.array(ftr_importances).reshape(cv,len(data.drop(drop, axis = 1).columns)), columns = data.drop(drop, axis = 1).columns)"
   ]
  },
  {
   "cell_type": "markdown",
   "metadata": {},
   "source": [
    "GET FEATURE IMPORTANCES FROM LOGREG AND GBOOST"
   ]
  },
  {
   "cell_type": "code",
   "execution_count": 10,
   "metadata": {
    "collapsed": false
   },
   "outputs": [
    {
     "name": "stdout",
     "output_type": "stream",
     "text": [
      "--------------\n",
      "('Accuracy:', 0.96676932761422707)\n",
      "('Precision:', 0.54900918719805247)\n",
      "('Recall:', 0.79457669822774724)\n",
      "('AUC:', 0.98025084996447676)\n",
      "--------------\n",
      "(100, 1, 28)\n"
     ]
    }
   ],
   "source": [
    "logReg = LogisticRegression(C=0.8, max_iter = 250)\n",
    "coefs = Oversample_Classification(logReg, df, drop_cols, 'Y', weights, 100, 1500)"
   ]
  },
  {
   "cell_type": "code",
   "execution_count": 11,
   "metadata": {
    "collapsed": false,
    "scrolled": true
   },
   "outputs": [
    {
     "name": "stdout",
     "output_type": "stream",
     "text": [
      "--------------\n",
      "('Accuracy:', 0.97298815066294286)\n",
      "('Precision:', 0.62124096817724639)\n",
      "('Recall:', 0.7796402035411405)\n",
      "('AUC:', 0.98081425837965408)\n",
      "--------------\n",
      "(50, 28)\n"
     ]
    }
   ],
   "source": [
    "gb_ftr_importances = Oversample_Classification(gboost, df, drop_cols, 'Y', weights, 50, 1500)\n"
   ]
  },
  {
   "cell_type": "code",
   "execution_count": 12,
   "metadata": {
    "collapsed": false
   },
   "outputs": [
    {
     "name": "stdout",
     "output_type": "stream",
     "text": [
      "0    1263\n",
      "1     237\n",
      "Name: Y, dtype: int64\n",
      "133\n",
      "----------------------\n",
      "Accuracy: 0.965675057208\n",
      "AUC: 0.987153422317\n",
      "             precision    recall  f1-score   support\n",
      "\n",
      "          0       0.99      0.97      0.98      1257\n",
      "          1       0.56      0.83      0.67        54\n",
      "\n",
      "avg / total       0.97      0.97      0.97      1311\n",
      "\n",
      "----------------------\n"
     ]
    }
   ],
   "source": [
    "train = df.sample(1500,replace = True, weights = weights, random_state = 3333)\n",
    "test = df[~df.index.isin(train.index)]\n",
    "\n",
    "print train.Y.value_counts() \n",
    "print train[train.Y == 1].index.nunique()\n",
    "\n",
    "\n",
    "\n",
    "x_train = train.drop(drop_cols, axis = 1)\n",
    "y_train = train.Y\n",
    "\n",
    "x_test = test.drop(drop_cols, axis =1)\n",
    "y_test = test.Y\n",
    "\n",
    "\n",
    "\n",
    "\n",
    "gboost.fit(x_train, y_train)\n",
    "preds = gboost.predict(x_test)\n",
    "probs = gboost.predict_proba(x_test)\n",
    "\n",
    "print '----------------------'\n",
    "print 'Accuracy:', metrics.accuracy_score(y_test, preds)\n",
    "print 'AUC:', metrics.roc_auc_score(y_test, probs[:,1])\n",
    "\n",
    "print metrics.classification_report(y_test, preds)\n",
    "print '----------------------'"
   ]
  },
  {
   "cell_type": "markdown",
   "metadata": {},
   "source": [
    "Make a DF that allows for comparison of results and evaluating with different probability thresholds"
   ]
  },
  {
   "cell_type": "code",
   "execution_count": 13,
   "metadata": {
    "collapsed": false
   },
   "outputs": [
    {
     "data": {
      "text/html": [
       "<div>\n",
       "<table border=\"1\" class=\"dataframe\">\n",
       "  <thead>\n",
       "    <tr style=\"text-align: right;\">\n",
       "      <th></th>\n",
       "      <th>Actual</th>\n",
       "      <th>Predicted</th>\n",
       "      <th>Prob0</th>\n",
       "      <th>Prob1</th>\n",
       "    </tr>\n",
       "  </thead>\n",
       "  <tbody>\n",
       "    <tr>\n",
       "      <th>0</th>\n",
       "      <td>1</td>\n",
       "      <td>1</td>\n",
       "      <td>0.005144</td>\n",
       "      <td>0.994856</td>\n",
       "    </tr>\n",
       "    <tr>\n",
       "      <th>1</th>\n",
       "      <td>1</td>\n",
       "      <td>1</td>\n",
       "      <td>0.005162</td>\n",
       "      <td>0.994838</td>\n",
       "    </tr>\n",
       "    <tr>\n",
       "      <th>2</th>\n",
       "      <td>1</td>\n",
       "      <td>1</td>\n",
       "      <td>0.005156</td>\n",
       "      <td>0.994844</td>\n",
       "    </tr>\n",
       "    <tr>\n",
       "      <th>3</th>\n",
       "      <td>0</td>\n",
       "      <td>0</td>\n",
       "      <td>0.880298</td>\n",
       "      <td>0.119702</td>\n",
       "    </tr>\n",
       "    <tr>\n",
       "      <th>4</th>\n",
       "      <td>1</td>\n",
       "      <td>1</td>\n",
       "      <td>0.005123</td>\n",
       "      <td>0.994877</td>\n",
       "    </tr>\n",
       "    <tr>\n",
       "      <th>5</th>\n",
       "      <td>1</td>\n",
       "      <td>1</td>\n",
       "      <td>0.183300</td>\n",
       "      <td>0.816700</td>\n",
       "    </tr>\n",
       "    <tr>\n",
       "      <th>6</th>\n",
       "      <td>0</td>\n",
       "      <td>1</td>\n",
       "      <td>0.195333</td>\n",
       "      <td>0.804667</td>\n",
       "    </tr>\n",
       "    <tr>\n",
       "      <th>7</th>\n",
       "      <td>1</td>\n",
       "      <td>1</td>\n",
       "      <td>0.006725</td>\n",
       "      <td>0.993275</td>\n",
       "    </tr>\n",
       "    <tr>\n",
       "      <th>8</th>\n",
       "      <td>1</td>\n",
       "      <td>1</td>\n",
       "      <td>0.012393</td>\n",
       "      <td>0.987607</td>\n",
       "    </tr>\n",
       "    <tr>\n",
       "      <th>9</th>\n",
       "      <td>1</td>\n",
       "      <td>1</td>\n",
       "      <td>0.017008</td>\n",
       "      <td>0.982992</td>\n",
       "    </tr>\n",
       "  </tbody>\n",
       "</table>\n",
       "</div>"
      ],
      "text/plain": [
       "   Actual  Predicted     Prob0     Prob1\n",
       "0       1          1  0.005144  0.994856\n",
       "1       1          1  0.005162  0.994838\n",
       "2       1          1  0.005156  0.994844\n",
       "3       0          0  0.880298  0.119702\n",
       "4       1          1  0.005123  0.994877\n",
       "5       1          1  0.183300  0.816700\n",
       "6       0          1  0.195333  0.804667\n",
       "7       1          1  0.006725  0.993275\n",
       "8       1          1  0.012393  0.987607\n",
       "9       1          1  0.017008  0.982992"
      ]
     },
     "execution_count": 13,
     "metadata": {},
     "output_type": "execute_result"
    }
   ],
   "source": [
    "res = pd.DataFrame({'preds': preds, 'probC0': probs[:,0], 'probC1': probs[:,1]})\n",
    "res = pd.concat([y_test.reset_index(drop=True), res], ignore_index=True, axis = 1)\n",
    "res.columns = ['Actual', 'Predicted', 'Prob0','Prob1']\n",
    "res.head(10)"
   ]
  },
  {
   "cell_type": "markdown",
   "metadata": {},
   "source": [
    "I think best score is as is. Adjusting the threshold doesn't help much."
   ]
  },
  {
   "cell_type": "code",
   "execution_count": 14,
   "metadata": {
    "collapsed": false
   },
   "outputs": [
    {
     "name": "stdout",
     "output_type": "stream",
     "text": [
      "----------------------\n",
      "Accuracy: 0.968726163234\n",
      "             precision    recall  f1-score   support\n",
      "\n",
      "          0       0.99      0.97      0.98      1257\n",
      "          1       0.58      0.83      0.69        54\n",
      "\n",
      "avg / total       0.98      0.97      0.97      1311\n",
      "\n",
      "----------------------\n"
     ]
    }
   ],
   "source": [
    "print '----------------------'\n",
    "print 'Accuracy:', metrics.accuracy_score(res.Actual, [1 if p > 0.6 else 0 for p in res.Prob1.values])\n",
    "\n",
    "print metrics.classification_report(res.Actual, [1 if p > 0.6 else 0 for p in res.Prob1.values])\n",
    "print '----------------------'"
   ]
  },
  {
   "cell_type": "markdown",
   "metadata": {},
   "source": [
    "### Use Fitted Model to Generate Predictions For Entire DataFrame\n",
    "\n",
    "For purpose of mapping in d3"
   ]
  },
  {
   "cell_type": "code",
   "execution_count": 15,
   "metadata": {
    "collapsed": false
   },
   "outputs": [
    {
     "data": {
      "text/html": [
       "<div>\n",
       "<table border=\"1\" class=\"dataframe\">\n",
       "  <thead>\n",
       "    <tr style=\"text-align: right;\">\n",
       "      <th></th>\n",
       "      <th>Actual</th>\n",
       "      <th>Predicted</th>\n",
       "      <th>Prob0</th>\n",
       "      <th>Prob1</th>\n",
       "    </tr>\n",
       "  </thead>\n",
       "  <tbody>\n",
       "    <tr>\n",
       "      <th>0</th>\n",
       "      <td>1</td>\n",
       "      <td>1</td>\n",
       "      <td>0.005140</td>\n",
       "      <td>0.994860</td>\n",
       "    </tr>\n",
       "    <tr>\n",
       "      <th>1</th>\n",
       "      <td>1</td>\n",
       "      <td>1</td>\n",
       "      <td>0.005143</td>\n",
       "      <td>0.994857</td>\n",
       "    </tr>\n",
       "    <tr>\n",
       "      <th>2</th>\n",
       "      <td>1</td>\n",
       "      <td>1</td>\n",
       "      <td>0.005160</td>\n",
       "      <td>0.994840</td>\n",
       "    </tr>\n",
       "    <tr>\n",
       "      <th>3</th>\n",
       "      <td>1</td>\n",
       "      <td>1</td>\n",
       "      <td>0.005144</td>\n",
       "      <td>0.994856</td>\n",
       "    </tr>\n",
       "    <tr>\n",
       "      <th>4</th>\n",
       "      <td>1</td>\n",
       "      <td>1</td>\n",
       "      <td>0.005162</td>\n",
       "      <td>0.994838</td>\n",
       "    </tr>\n",
       "    <tr>\n",
       "      <th>5</th>\n",
       "      <td>1</td>\n",
       "      <td>1</td>\n",
       "      <td>0.005123</td>\n",
       "      <td>0.994877</td>\n",
       "    </tr>\n",
       "    <tr>\n",
       "      <th>6</th>\n",
       "      <td>1</td>\n",
       "      <td>1</td>\n",
       "      <td>0.005123</td>\n",
       "      <td>0.994877</td>\n",
       "    </tr>\n",
       "    <tr>\n",
       "      <th>7</th>\n",
       "      <td>1</td>\n",
       "      <td>1</td>\n",
       "      <td>0.005156</td>\n",
       "      <td>0.994844</td>\n",
       "    </tr>\n",
       "    <tr>\n",
       "      <th>8</th>\n",
       "      <td>1</td>\n",
       "      <td>1</td>\n",
       "      <td>0.005145</td>\n",
       "      <td>0.994855</td>\n",
       "    </tr>\n",
       "    <tr>\n",
       "      <th>9</th>\n",
       "      <td>0</td>\n",
       "      <td>0</td>\n",
       "      <td>0.998945</td>\n",
       "      <td>0.001055</td>\n",
       "    </tr>\n",
       "  </tbody>\n",
       "</table>\n",
       "</div>"
      ],
      "text/plain": [
       "   Actual  Predicted     Prob0     Prob1\n",
       "0       1          1  0.005140  0.994860\n",
       "1       1          1  0.005143  0.994857\n",
       "2       1          1  0.005160  0.994840\n",
       "3       1          1  0.005144  0.994856\n",
       "4       1          1  0.005162  0.994838\n",
       "5       1          1  0.005123  0.994877\n",
       "6       1          1  0.005123  0.994877\n",
       "7       1          1  0.005156  0.994844\n",
       "8       1          1  0.005145  0.994855\n",
       "9       0          0  0.998945  0.001055"
      ]
     },
     "execution_count": 15,
     "metadata": {},
     "output_type": "execute_result"
    }
   ],
   "source": [
    "preds = gboost.predict(df.drop(drop_cols, axis = 1))\n",
    "probs = gboost.predict_proba(df.drop(drop_cols, axis = 1))\n",
    "\n",
    "res = pd.DataFrame({'preds': preds, 'probC0': probs[:,0], 'probC1': probs[:,1]})\n",
    "res = pd.concat([df.Y.reset_index(drop=True), res], ignore_index=True, axis = 1)\n",
    "res.columns = ['Actual', 'Predicted', 'Prob0','Prob1']\n",
    "res.head(10)"
   ]
  },
  {
   "cell_type": "code",
   "execution_count": 16,
   "metadata": {
    "collapsed": false
   },
   "outputs": [
    {
     "name": "stdout",
     "output_type": "stream",
     "text": [
      "----------------------\n",
      "Accuracy: 0.981052631579\n",
      "             precision    recall  f1-score   support\n",
      "\n",
      "          0       1.00      0.98      0.99      2188\n",
      "          1       0.83      0.95      0.89       187\n",
      "\n",
      "avg / total       0.98      0.98      0.98      2375\n",
      "\n",
      "----------------------\n"
     ]
    }
   ],
   "source": [
    "print '----------------------'\n",
    "print 'Accuracy:', metrics.accuracy_score(res.Actual, [1 if p > 0.5 else 0 for p in res.Prob1.values])\n",
    "\n",
    "print metrics.classification_report(res.Actual, [1 if p > 0.5 else 0 for p in res.Prob1.values])\n",
    "print '----------------------'"
   ]
  },
  {
   "cell_type": "markdown",
   "metadata": {},
   "source": [
    "## Evaluate Incorrect Predictions\n",
    "\n",
    "For possible reccomended exapantions"
   ]
  },
  {
   "cell_type": "code",
   "execution_count": 17,
   "metadata": {
    "collapsed": false
   },
   "outputs": [
    {
     "data": {
      "text/html": [
       "<div>\n",
       "<table border=\"1\" class=\"dataframe\">\n",
       "  <thead>\n",
       "    <tr style=\"text-align: right;\">\n",
       "      <th></th>\n",
       "      <th>county</th>\n",
       "      <th>state</th>\n",
       "    </tr>\n",
       "  </thead>\n",
       "  <tbody>\n",
       "    <tr>\n",
       "      <th>2324</th>\n",
       "      <td>Richmond city</td>\n",
       "      <td>Virginia</td>\n",
       "    </tr>\n",
       "    <tr>\n",
       "      <th>114</th>\n",
       "      <td>Lucas County</td>\n",
       "      <td>Ohio</td>\n",
       "    </tr>\n",
       "    <tr>\n",
       "      <th>318</th>\n",
       "      <td>Delaware County</td>\n",
       "      <td>Ohio</td>\n",
       "    </tr>\n",
       "    <tr>\n",
       "      <th>77</th>\n",
       "      <td>DeKalb County</td>\n",
       "      <td>Georgia</td>\n",
       "    </tr>\n",
       "    <tr>\n",
       "      <th>314</th>\n",
       "      <td>Passaic County</td>\n",
       "      <td>New Jersey</td>\n",
       "    </tr>\n",
       "    <tr>\n",
       "      <th>126</th>\n",
       "      <td>Bristol County</td>\n",
       "      <td>Massachusetts</td>\n",
       "    </tr>\n",
       "    <tr>\n",
       "      <th>71</th>\n",
       "      <td>Summit County</td>\n",
       "      <td>Ohio</td>\n",
       "    </tr>\n",
       "    <tr>\n",
       "      <th>156</th>\n",
       "      <td>New Castle County</td>\n",
       "      <td>Delaware</td>\n",
       "    </tr>\n",
       "    <tr>\n",
       "      <th>178</th>\n",
       "      <td>Hudson County</td>\n",
       "      <td>New Jersey</td>\n",
       "    </tr>\n",
       "    <tr>\n",
       "      <th>176</th>\n",
       "      <td>Williamson County</td>\n",
       "      <td>Texas</td>\n",
       "    </tr>\n",
       "    <tr>\n",
       "      <th>145</th>\n",
       "      <td>Norfolk city</td>\n",
       "      <td>Virginia</td>\n",
       "    </tr>\n",
       "    <tr>\n",
       "      <th>406</th>\n",
       "      <td>Chittenden County</td>\n",
       "      <td>Vermont</td>\n",
       "    </tr>\n",
       "    <tr>\n",
       "      <th>206</th>\n",
       "      <td>Rockingham County</td>\n",
       "      <td>New Hampshire</td>\n",
       "    </tr>\n",
       "    <tr>\n",
       "      <th>58</th>\n",
       "      <td>Jackson County</td>\n",
       "      <td>Missouri</td>\n",
       "    </tr>\n",
       "    <tr>\n",
       "      <th>298</th>\n",
       "      <td>Alachua County</td>\n",
       "      <td>Florida</td>\n",
       "    </tr>\n",
       "    <tr>\n",
       "      <th>551</th>\n",
       "      <td>Butte County</td>\n",
       "      <td>California</td>\n",
       "    </tr>\n",
       "    <tr>\n",
       "      <th>306</th>\n",
       "      <td>Richmond County</td>\n",
       "      <td>New York</td>\n",
       "    </tr>\n",
       "    <tr>\n",
       "      <th>494</th>\n",
       "      <td>Centre County</td>\n",
       "      <td>Pennsylvania</td>\n",
       "    </tr>\n",
       "    <tr>\n",
       "      <th>113</th>\n",
       "      <td>Prince William County</td>\n",
       "      <td>Virginia</td>\n",
       "    </tr>\n",
       "    <tr>\n",
       "      <th>21</th>\n",
       "      <td>Queens County</td>\n",
       "      <td>New York</td>\n",
       "    </tr>\n",
       "    <tr>\n",
       "      <th>103</th>\n",
       "      <td>Bucks County</td>\n",
       "      <td>Pennsylvania</td>\n",
       "    </tr>\n",
       "    <tr>\n",
       "      <th>107</th>\n",
       "      <td>Hampden County</td>\n",
       "      <td>Massachusetts</td>\n",
       "    </tr>\n",
       "    <tr>\n",
       "      <th>162</th>\n",
       "      <td>Galveston County</td>\n",
       "      <td>Texas</td>\n",
       "    </tr>\n",
       "    <tr>\n",
       "      <th>648</th>\n",
       "      <td>Clarke County</td>\n",
       "      <td>Georgia</td>\n",
       "    </tr>\n",
       "    <tr>\n",
       "      <th>523</th>\n",
       "      <td>Kent County</td>\n",
       "      <td>Rhode Island</td>\n",
       "    </tr>\n",
       "    <tr>\n",
       "      <th>455</th>\n",
       "      <td>Olmsted County</td>\n",
       "      <td>Minnesota</td>\n",
       "    </tr>\n",
       "    <tr>\n",
       "      <th>780</th>\n",
       "      <td>Benton County</td>\n",
       "      <td>Oregon</td>\n",
       "    </tr>\n",
       "    <tr>\n",
       "      <th>322</th>\n",
       "      <td>Brazos County</td>\n",
       "      <td>Texas</td>\n",
       "    </tr>\n",
       "    <tr>\n",
       "      <th>612</th>\n",
       "      <td>Albemarle County</td>\n",
       "      <td>Virginia</td>\n",
       "    </tr>\n",
       "    <tr>\n",
       "      <th>149</th>\n",
       "      <td>Middlesex County</td>\n",
       "      <td>New Jersey</td>\n",
       "    </tr>\n",
       "    <tr>\n",
       "      <th>720</th>\n",
       "      <td>James City County</td>\n",
       "      <td>Virginia</td>\n",
       "    </tr>\n",
       "    <tr>\n",
       "      <th>1848</th>\n",
       "      <td>Douglas County</td>\n",
       "      <td>Nevada</td>\n",
       "    </tr>\n",
       "    <tr>\n",
       "      <th>2109</th>\n",
       "      <td>Pitkin County</td>\n",
       "      <td>Colorado</td>\n",
       "    </tr>\n",
       "    <tr>\n",
       "      <th>222</th>\n",
       "      <td>Lubbock County</td>\n",
       "      <td>Texas</td>\n",
       "    </tr>\n",
       "    <tr>\n",
       "      <th>115</th>\n",
       "      <td>Spokane County</td>\n",
       "      <td>Washington</td>\n",
       "    </tr>\n",
       "    <tr>\n",
       "      <th>245</th>\n",
       "      <td>Montgomery County</td>\n",
       "      <td>Alabama</td>\n",
       "    </tr>\n",
       "  </tbody>\n",
       "</table>\n",
       "</div>"
      ],
      "text/plain": [
       "                     county          state\n",
       "2324          Richmond city       Virginia\n",
       "114            Lucas County           Ohio\n",
       "318         Delaware County           Ohio\n",
       "77            DeKalb County        Georgia\n",
       "314          Passaic County     New Jersey\n",
       "126          Bristol County  Massachusetts\n",
       "71            Summit County           Ohio\n",
       "156       New Castle County       Delaware\n",
       "178           Hudson County     New Jersey\n",
       "176       Williamson County          Texas\n",
       "145            Norfolk city       Virginia\n",
       "406       Chittenden County        Vermont\n",
       "206       Rockingham County  New Hampshire\n",
       "58           Jackson County       Missouri\n",
       "298          Alachua County        Florida\n",
       "551            Butte County     California\n",
       "306         Richmond County       New York\n",
       "494           Centre County   Pennsylvania\n",
       "113   Prince William County       Virginia\n",
       "21            Queens County       New York\n",
       "103            Bucks County   Pennsylvania\n",
       "107          Hampden County  Massachusetts\n",
       "162        Galveston County          Texas\n",
       "648           Clarke County        Georgia\n",
       "523             Kent County   Rhode Island\n",
       "455          Olmsted County      Minnesota\n",
       "780           Benton County         Oregon\n",
       "322           Brazos County          Texas\n",
       "612        Albemarle County       Virginia\n",
       "149        Middlesex County     New Jersey\n",
       "720       James City County       Virginia\n",
       "1848         Douglas County         Nevada\n",
       "2109          Pitkin County       Colorado\n",
       "222          Lubbock County          Texas\n",
       "115          Spokane County     Washington\n",
       "245       Montgomery County        Alabama"
      ]
     },
     "execution_count": 17,
     "metadata": {},
     "output_type": "execute_result"
    }
   ],
   "source": [
    "df.ix[res[(res.Actual == 0) & (res.Predicted == 1)].sort_values('Prob1', ascending = False).index, ['county','state']]\n",
    "#res[(res.Actual == 0) & (res.Predicted == 1)].sort_values('Prob1', ascending = False)\n"
   ]
  },
  {
   "cell_type": "markdown",
   "metadata": {},
   "source": [
    "### Get Models to CSV"
   ]
  },
  {
   "cell_type": "code",
   "execution_count": 18,
   "metadata": {
    "collapsed": false
   },
   "outputs": [],
   "source": [
    "csvdf = pd.concat([df.drop(drop_cols, axis = 1), res], axis = 1)"
   ]
  },
  {
   "cell_type": "code",
   "execution_count": 19,
   "metadata": {
    "collapsed": false
   },
   "outputs": [
    {
     "data": {
      "text/plain": [
       "(2375, 32)"
      ]
     },
     "execution_count": 19,
     "metadata": {},
     "output_type": "execute_result"
    }
   ],
   "source": [
    "csvdf.shape"
   ]
  },
  {
   "cell_type": "code",
   "execution_count": 20,
   "metadata": {
    "collapsed": false
   },
   "outputs": [],
   "source": [
    "csvdf = pd.concat([df[['fips','county','state', 'wholefoods', 'mcdonalds','walmart','target']], csvdf], axis = 1)\n"
   ]
  },
  {
   "cell_type": "code",
   "execution_count": 21,
   "metadata": {
    "collapsed": false
   },
   "outputs": [],
   "source": [
    "# RENAMING some columns so \"pct\" always comes at end of name\n",
    "csvdf.columns = [u'fips', u'county', u'state', u'wholefoods', u'mcdonalds', u'walmart',\n",
    "       u'target', u'population', u'starbucks', u'tjs',\n",
    "       u'Ancestry_American_pct', u'Ancestry_Arab_pct', u'Ancestry_French_pct',\n",
    "       u'Female_Adult_Population', u'Female_Divorced', u'Female_Divorced_pct',\n",
    "       u'Female_Single', u'Female_Single_pct', u'Female_Widowed',\n",
    "       u'In_School_pct', u'Graduated_College_pct',\n",
    "       u'Highest_Education_Associates_Degree_pct',\n",
    "       u'Highest_Education_Bachelors_Degree_pct',\n",
    "       u'Highest_Education_Graduate_Degree_pct',\n",
    "       u'Highest_Education_HS_Diploma_pct', u'Household_income_75k_100K_pct',\n",
    "       u'Male_Adult_Population', u'Male_Divorced', u'Male_Single',\n",
    "       u'Over_25yrs', u'hiv_prevalence_rate', u'asian_pct',\n",
    "       u'native_hawaiian_other_pacific_islander_pct', u'obese_pct',\n",
    "       u'rural_pct', u'Actual', u'Predicted', u'Prob0', u'Prob1']"
   ]
  },
  {
   "cell_type": "code",
   "execution_count": 22,
   "metadata": {
    "collapsed": true
   },
   "outputs": [],
   "source": [
    "csvdf.to_csv('WebApp/COUNTYDATA.csv', index = False)"
   ]
  },
  {
   "cell_type": "code",
   "execution_count": null,
   "metadata": {
    "collapsed": true
   },
   "outputs": [],
   "source": []
  },
  {
   "cell_type": "code",
   "execution_count": null,
   "metadata": {
    "collapsed": true
   },
   "outputs": [],
   "source": []
  },
  {
   "cell_type": "code",
   "execution_count": 23,
   "metadata": {
    "collapsed": false
   },
   "outputs": [],
   "source": [
    "csvdf = pd.read_csv('WebApp/COUNTYDATA.csv', dtype = {'fips':'str'})"
   ]
  },
  {
   "cell_type": "code",
   "execution_count": null,
   "metadata": {
    "collapsed": false,
    "scrolled": true
   },
   "outputs": [],
   "source": []
  },
  {
   "cell_type": "markdown",
   "metadata": {
    "collapsed": true
   },
   "source": [
    "## Analyze\n",
    "\n",
    "look at ftrs"
   ]
  },
  {
   "cell_type": "code",
   "execution_count": 24,
   "metadata": {
    "collapsed": false
   },
   "outputs": [
    {
     "data": {
      "text/plain": [
       "starbucks                                     0.069548\n",
       "pct_obese                                    -0.062479\n",
       "Highest_Education_HS_Diploma_pct             -0.061740\n",
       "pct_rural                                    -0.051856\n",
       "Graduated_College_pct                         0.035794\n",
       "pct_asian                                     0.019195\n",
       "Highest_Education_Bachelors_Degree_pct        0.018846\n",
       "Highest_Education_Graduate_Degree_pct         0.016702\n",
       "Highest_Education_Associates_Degree_pct      -0.015575\n",
       "Ancestry_French_pct                           0.015348\n",
       "Household_income_75k_100K_pct                -0.014391\n",
       "pct_native_hawaiian_other_pacific_islander    0.011784\n",
       "Ancestry_American_pct                        -0.009674\n",
       "Female_Divorced_pct                          -0.009083\n",
       "tjs                                           0.008306\n",
       "Female_Single_pct                            -0.002765\n",
       "hiv_prevalence_rate                           0.001911\n",
       "Ancestry_Arab_pct                            -0.001038\n",
       "Male_Single                                  -0.000141\n",
       "Female_Divorced                               0.000136\n",
       "Female_Widowed                               -0.000133\n",
       "Male_Adult_Population                         0.000102\n",
       "Female_Single                                 0.000081\n",
       "Female_Adult_Population                       0.000072\n",
       "Over_25yrs                                   -0.000041\n",
       "Male_Divorced                                 0.000035\n",
       "In_School_pct                                -0.000030\n",
       "population                                   -0.000024\n",
       "dtype: float64"
      ]
     },
     "execution_count": 24,
     "metadata": {},
     "output_type": "execute_result"
    }
   ],
   "source": [
    "coefs.mean()[coefs.mean().abs().sort_values(ascending = False).index]"
   ]
  },
  {
   "cell_type": "code",
   "execution_count": 25,
   "metadata": {
    "collapsed": false
   },
   "outputs": [
    {
     "data": {
      "text/plain": [
       "starbucks                                     0.268335\n",
       "Female_Single                                 0.103529\n",
       "tjs                                           0.092518\n",
       "Over_25yrs                                    0.055765\n",
       "Female_Divorced                               0.047544\n",
       "Female_Adult_Population                       0.040844\n",
       "population                                    0.040091\n",
       "Male_Single                                   0.037680\n",
       "Male_Adult_Population                         0.035376\n",
       "In_School_pct                                 0.029072\n",
       "Graduated_College_pct                         0.024478\n",
       "Highest_Education_Graduate_Degree_pct         0.022306\n",
       "Highest_Education_HS_Diploma_pct              0.020820\n",
       "Highest_Education_Bachelors_Degree_pct        0.017913\n",
       "pct_obese                                     0.017900\n",
       "Highest_Education_Associates_Degree_pct       0.017323\n",
       "hiv_prevalence_rate                           0.016674\n",
       "Household_income_75k_100K_pct                 0.014845\n",
       "Ancestry_French_pct                           0.011754\n",
       "Female_Single_pct                             0.011422\n",
       "pct_rural                                     0.011342\n",
       "pct_asian                                     0.010948\n",
       "Male_Divorced                                 0.010829\n",
       "Ancestry_American_pct                         0.009860\n",
       "Female_Divorced_pct                           0.008684\n",
       "Female_Widowed                                0.007979\n",
       "Ancestry_Arab_pct                             0.007880\n",
       "pct_native_hawaiian_other_pacific_islander    0.006291\n",
       "dtype: float64"
      ]
     },
     "execution_count": 25,
     "metadata": {},
     "output_type": "execute_result"
    }
   ],
   "source": [
    "gb_ftr_importances.mean().sort_values(ascending = False)"
   ]
  },
  {
   "cell_type": "markdown",
   "metadata": {},
   "source": [
    "### Starbucks"
   ]
  },
  {
   "cell_type": "code",
   "execution_count": 29,
   "metadata": {
    "collapsed": true
   },
   "outputs": [],
   "source": [
    "sbucks_mask = (csvdf.starbucks>0)\n",
    "wf_mask = (csvdf.wholefoods >0)\n",
    "neg_mask = (csvdf.wholefoods == 0)"
   ]
  },
  {
   "cell_type": "code",
   "execution_count": 30,
   "metadata": {
    "collapsed": false
   },
   "outputs": [
    {
     "data": {
      "text/plain": [
       "0.17108874656907594"
      ]
     },
     "execution_count": 30,
     "metadata": {},
     "output_type": "execute_result"
    }
   ],
   "source": [
    "#What Percent of locations that have Starbucks also have a whole foods\n",
    "\n",
    "\n",
    "csvdf[csvdf.starbucks >= 1].shape #1093\n",
    "csvdf[sbucks_mask & (csvdf.wholefoods >=1)].shape # 187\n",
    "\n",
    "187./1093"
   ]
  },
  {
   "cell_type": "code",
   "execution_count": 31,
   "metadata": {
    "collapsed": false
   },
   "outputs": [
    {
     "data": {
      "text/plain": [
       "1"
      ]
     },
     "execution_count": 31,
     "metadata": {},
     "output_type": "execute_result"
    }
   ],
   "source": [
    "#What Percent of locations that have WholeFoods also have a Starbucks\n",
    "csvdf[csvdf.wholefoods >= 1].shape #187\n",
    "csvdf[sbucks_mask & wf_mask].shape # 187\n",
    "\n",
    "187/187"
   ]
  },
  {
   "cell_type": "code",
   "execution_count": 32,
   "metadata": {
    "collapsed": false
   },
   "outputs": [
    {
     "data": {
      "text/plain": [
       "19.900207669274607"
      ]
     },
     "execution_count": 32,
     "metadata": {},
     "output_type": "execute_result"
    }
   ],
   "source": [
    "# What is the avg ratio of Starbucks to Wholefoods\n",
    "(csvdf[sbucks_mask & wf_mask]['starbucks']/csvdf[sbucks_mask & wf_mask]['wholefoods']).sort_values().mean()\n"
   ]
  },
  {
   "cell_type": "markdown",
   "metadata": {},
   "source": [
    "### Trader Joes"
   ]
  },
  {
   "cell_type": "code",
   "execution_count": 36,
   "metadata": {
    "collapsed": false
   },
   "outputs": [
    {
     "name": "stdout",
     "output_type": "stream",
     "text": [
      "(175, 39)\n",
      "(136, 39)\n"
     ]
    },
    {
     "data": {
      "text/plain": [
       "0.7771428571428571"
      ]
     },
     "execution_count": 36,
     "metadata": {},
     "output_type": "execute_result"
    }
   ],
   "source": [
    "tj_mask = (csvdf.tjs>0)\n",
    "\n",
    "print csvdf[tj_mask].shape #175\n",
    "print csvdf[tj_mask & wf_mask].shape # 136\n",
    "\n",
    "# 78% of counties that have a tjs also have a whole foods\n",
    "float(csvdf[tj_mask & wf_mask].shape[0])/csvdf[tj_mask].shape[0]"
   ]
  },
  {
   "cell_type": "code",
   "execution_count": 38,
   "metadata": {
    "collapsed": false
   },
   "outputs": [
    {
     "name": "stdout",
     "output_type": "stream",
     "text": [
      "(187, 39)\n",
      "(136, 39)\n"
     ]
    },
    {
     "data": {
      "text/plain": [
       "0.7272727272727273"
      ]
     },
     "execution_count": 38,
     "metadata": {},
     "output_type": "execute_result"
    }
   ],
   "source": [
    "#What Percent of locations that have WholeFoods also have a Tjs\n",
    "print csvdf[wf_mask].shape #187\n",
    "print csvdf[tj_mask & wf_mask].shape # 136\n",
    "\n",
    "\n",
    "# 73% of counties that have a whole foods also have a Tjs\n",
    "csvdf[tj_mask & wf_mask].shape[0]/float(csvdf[wf_mask].shape[0])"
   ]
  },
  {
   "cell_type": "code",
   "execution_count": 39,
   "metadata": {
    "collapsed": false
   },
   "outputs": [
    {
     "data": {
      "text/plain": [
       "1.0918088356032067"
      ]
     },
     "execution_count": 39,
     "metadata": {},
     "output_type": "execute_result"
    }
   ],
   "source": [
    "# What is the avg ratio of Tjs to Wholefoods\n",
    "(csvdf[tj_mask & wf_mask]['tjs']/csvdf[tj_mask & wf_mask]['wholefoods']).sort_values().mean()\n"
   ]
  },
  {
   "cell_type": "markdown",
   "metadata": {},
   "source": [
    "### Population"
   ]
  },
  {
   "cell_type": "code",
   "execution_count": 41,
   "metadata": {
    "collapsed": false
   },
   "outputs": [
    {
     "data": {
      "text/plain": [
       "<matplotlib.collections.PathCollection at 0x10f4c8150>"
      ]
     },
     "execution_count": 41,
     "metadata": {},
     "output_type": "execute_result"
    },
    {
     "data": {
      "image/png": "[encoded data removed]",
      "text/plain": [
       "<matplotlib.figure.Figure at 0x10f393610>"
      ]
     },
     "metadata": {},
     "output_type": "display_data"
    }
   ],
   "source": [
    "pop_mask = (csvdf.population>1000000)\n",
    "plt.scatter(csvdf.population, csvdf.wholefoods)\n"
   ]
  },
  {
   "cell_type": "code",
   "execution_count": 44,
   "metadata": {
    "collapsed": false
   },
   "outputs": [
    {
     "name": "stdout",
     "output_type": "stream",
     "text": [
      "532655.0\n"
     ]
    },
    {
     "data": {
      "text/plain": [
       "9              Wayne County\n",
       "12    San Bernardino County\n",
       "21            Queens County\n",
       "53             Bronx County\n",
       "Name: county, dtype: object"
      ]
     },
     "execution_count": 44,
     "metadata": {},
     "output_type": "execute_result"
    }
   ],
   "source": [
    "# median population of counties with WF is 532K \n",
    "print csvdf[wf_mask].population.median() \n",
    "\n",
    "# only 4 counties with population greater than 1M that don't have whole foods\n",
    "csvdf[pop_mask & neg_mask].county"
   ]
  },
  {
   "cell_type": "code",
   "execution_count": 60,
   "metadata": {
    "collapsed": false
   },
   "outputs": [
    {
     "name": "stdout",
     "output_type": "stream",
     "text": [
      "0.45\n",
      "0.208556149733\n"
     ]
    }
   ],
   "source": [
    "# Whole foods in counties with population > 1M make up 45% of all whole foods\n",
    "print csvdf[pop_mask].wholefoods.sum()/csvdf.wholefoods.sum()\n",
    "\n",
    "# but counties with pop > 1M containing WF only make up 20% of counties containing WF\n",
    "print csvdf[pop_mask & wf_mask].shape[0]/float(csvdf[wf_mask].shape[0])"
   ]
  },
  {
   "cell_type": "code",
   "execution_count": 59,
   "metadata": {
    "collapsed": false
   },
   "outputs": [
    {
     "data": {
      "text/plain": [
       "<matplotlib.text.Text at 0x10eac5a10>"
      ]
     },
     "execution_count": 59,
     "metadata": {},
     "output_type": "execute_result"
    },
    {
     "data": {
      "image/png": "[encoded data removed]",
      "text/plain": [
       "<matplotlib.figure.Figure at 0x11017ad10>"
      ]
     },
     "metadata": {},
     "output_type": "display_data"
    }
   ],
   "source": [
    "fig, (ax1, ax2) = plt.subplots(1,2)\n",
    "csvdf[wf_mask].population.hist(ax = ax1)\n",
    "csvdf[wf_mask & (csvdf.population <2000000)].population.hist(ax = ax2)\n",
    "ax1.set_title('Distribution of County Population \\n For Counties With >=1 WF')\n",
    "ax2.set_title('Distribution of County Population \\n For Counties With Under 2M People')"
   ]
  },
  {
   "cell_type": "markdown",
   "metadata": {},
   "source": [
    "### Female Single"
   ]
  },
  {
   "cell_type": "code",
   "execution_count": 80,
   "metadata": {
    "collapsed": false
   },
   "outputs": [
    {
     "data": {
      "text/plain": [
       "[<matplotlib.text.Text at 0x111436d50>,\n",
       " <matplotlib.text.Text at 0x112024d50>,\n",
       " <matplotlib.text.Text at 0x1120a3d50>,\n",
       " <matplotlib.text.Text at 0x1120a3a10>,\n",
       " <matplotlib.text.Text at 0x111222150>,\n",
       " <matplotlib.text.Text at 0x111222d50>,\n",
       " <matplotlib.text.Text at 0x1122802d0>,\n",
       " <matplotlib.text.Text at 0x111436f90>,\n",
       " <matplotlib.text.Text at 0x11128a410>,\n",
       " <matplotlib.text.Text at 0x11074b650>]"
      ]
     },
     "execution_count": 80,
     "metadata": {},
     "output_type": "execute_result"
    },
    {
     "data": {
      "image/png": "[encoded data removed]",
      "text/plain": [
       "<matplotlib.figure.Figure at 0x113858f10>"
      ]
     },
     "metadata": {},
     "output_type": "display_data"
    }
   ],
   "source": [
    "fsing_mask = (csvdf.Female_Single>200000)\n",
    "\n",
    "\n",
    "\n",
    "fig, (ax1, ax2) = plt.subplots(1,2, figsize = (12,7))\n",
    "ax1.scatter(csvdf.Female_Single, csvdf.wholefoods)\n",
    "ax2.scatter(csvdf[fsing_mask].Female_Single, csvdf[fsing_mask].wholefoods)\n",
    "ax1.set_title('Number of Single Females to Number of Whole Foods', y = 1.02)\n",
    "ax2.set_title('Number of Single Females to Number of Whole Foods \\n For Counties With >200K Single Females ', y = 1.02)\n",
    "plt.subplots_adjust(wspace = 0.6)\n",
    "nticks = len(ax2.get_xticklabels())\n",
    "ax2.set_xticklabels([str(200*i) + 'k' for i in range(nticks)])"
   ]
  },
  {
   "cell_type": "code",
   "execution_count": 89,
   "metadata": {
    "collapsed": false
   },
   "outputs": [
    {
     "name": "stdout",
     "output_type": "stream",
     "text": [
      "0.325\n",
      "0.106951871658\n"
     ]
    }
   ],
   "source": [
    "# Counties with > 200K single females makes up 32.5% of all WF stores\n",
    "print csvdf[fsing_mask].wholefoods.sum()/csvdf.wholefoods.sum()\n",
    "\n",
    "# Counties with > 200K single females make up 11% of all counties with WF stores\n",
    "print csvdf[fsing_mask].Actual.sum()/float(csvdf.Actual.sum())"
   ]
  },
  {
   "cell_type": "code",
   "execution_count": 93,
   "metadata": {
    "collapsed": false
   },
   "outputs": [
    {
     "name": "stdout",
     "output_type": "stream",
     "text": [
      "65207.0\n"
     ]
    },
    {
     "data": {
      "text/html": [
       "<div>\n",
       "<table border=\"1\" class=\"dataframe\">\n",
       "  <thead>\n",
       "    <tr style=\"text-align: right;\">\n",
       "      <th></th>\n",
       "      <th>fips</th>\n",
       "      <th>county</th>\n",
       "      <th>state</th>\n",
       "      <th>wholefoods</th>\n",
       "      <th>mcdonalds</th>\n",
       "      <th>walmart</th>\n",
       "      <th>target</th>\n",
       "      <th>population</th>\n",
       "      <th>starbucks</th>\n",
       "      <th>tjs</th>\n",
       "      <th>Ancestry_American_pct</th>\n",
       "      <th>Ancestry_Arab_pct</th>\n",
       "      <th>Ancestry_French_pct</th>\n",
       "      <th>Female_Adult_Population</th>\n",
       "      <th>Female_Divorced</th>\n",
       "      <th>Female_Divorced_pct</th>\n",
       "      <th>Female_Single</th>\n",
       "      <th>Female_Single_pct</th>\n",
       "      <th>Female_Widowed</th>\n",
       "      <th>In_School_pct</th>\n",
       "      <th>Graduated_College_pct</th>\n",
       "      <th>Highest_Education_Associates_Degree_pct</th>\n",
       "      <th>Highest_Education_Bachelors_Degree_pct</th>\n",
       "      <th>Highest_Education_Graduate_Degree_pct</th>\n",
       "      <th>Highest_Education_HS_Diploma_pct</th>\n",
       "      <th>Household_income_75k_100K_pct</th>\n",
       "      <th>Male_Adult_Population</th>\n",
       "      <th>Male_Divorced</th>\n",
       "      <th>Male_Single</th>\n",
       "      <th>Over_25yrs</th>\n",
       "      <th>hiv_prevalence_rate</th>\n",
       "      <th>asian_pct</th>\n",
       "      <th>native_hawaiian_other_pacific_islander_pct</th>\n",
       "      <th>obese_pct</th>\n",
       "      <th>rural_pct</th>\n",
       "      <th>Actual</th>\n",
       "      <th>Predicted</th>\n",
       "      <th>Prob0</th>\n",
       "      <th>Prob1</th>\n",
       "    </tr>\n",
       "  </thead>\n",
       "  <tbody>\n",
       "    <tr>\n",
       "      <th>9</th>\n",
       "      <td>26163</td>\n",
       "      <td>Wayne County</td>\n",
       "      <td>Michigan</td>\n",
       "      <td>0.0</td>\n",
       "      <td>88.0</td>\n",
       "      <td>9.0</td>\n",
       "      <td>9.0</td>\n",
       "      <td>1764804.0</td>\n",
       "      <td>41.0</td>\n",
       "      <td>2.0</td>\n",
       "      <td>4.9</td>\n",
       "      <td>4.6</td>\n",
       "      <td>2.7</td>\n",
       "      <td>753229.0</td>\n",
       "      <td>97858.0</td>\n",
       "      <td>13.0</td>\n",
       "      <td>284776.0</td>\n",
       "      <td>37.8</td>\n",
       "      <td>78665.0</td>\n",
       "      <td>488306.0</td>\n",
       "      <td>21.6</td>\n",
       "      <td>7.6</td>\n",
       "      <td>13.1</td>\n",
       "      <td>8.5</td>\n",
       "      <td>30.3</td>\n",
       "      <td>10.3</td>\n",
       "      <td>676263.0</td>\n",
       "      <td>72334.0</td>\n",
       "      <td>293220.0</td>\n",
       "      <td>1172375.0</td>\n",
       "      <td>471.0</td>\n",
       "      <td>3.0</td>\n",
       "      <td>0.0</td>\n",
       "      <td>34.0</td>\n",
       "      <td>0.7</td>\n",
       "      <td>0</td>\n",
       "      <td>0</td>\n",
       "      <td>0.998945</td>\n",
       "      <td>0.001055</td>\n",
       "    </tr>\n",
       "    <tr>\n",
       "      <th>12</th>\n",
       "      <td>06071</td>\n",
       "      <td>San Bernardino County</td>\n",
       "      <td>California</td>\n",
       "      <td>0.0</td>\n",
       "      <td>73.0</td>\n",
       "      <td>20.0</td>\n",
       "      <td>13.0</td>\n",
       "      <td>2112619.0</td>\n",
       "      <td>106.0</td>\n",
       "      <td>3.0</td>\n",
       "      <td>4.1</td>\n",
       "      <td>0.8</td>\n",
       "      <td>1.7</td>\n",
       "      <td>810867.0</td>\n",
       "      <td>94691.0</td>\n",
       "      <td>11.7</td>\n",
       "      <td>270759.0</td>\n",
       "      <td>33.4</td>\n",
       "      <td>57787.0</td>\n",
       "      <td>630419.0</td>\n",
       "      <td>18.8</td>\n",
       "      <td>8.0</td>\n",
       "      <td>12.1</td>\n",
       "      <td>6.7</td>\n",
       "      <td>26.3</td>\n",
       "      <td>12.8</td>\n",
       "      <td>788177.0</td>\n",
       "      <td>68484.0</td>\n",
       "      <td>313701.0</td>\n",
       "      <td>1256972.0</td>\n",
       "      <td>205.0</td>\n",
       "      <td>7.3</td>\n",
       "      <td>0.5</td>\n",
       "      <td>29.0</td>\n",
       "      <td>4.7</td>\n",
       "      <td>0</td>\n",
       "      <td>0</td>\n",
       "      <td>0.572980</td>\n",
       "      <td>0.427020</td>\n",
       "    </tr>\n",
       "    <tr>\n",
       "      <th>21</th>\n",
       "      <td>36081</td>\n",
       "      <td>Queens County</td>\n",
       "      <td>New York</td>\n",
       "      <td>0.0</td>\n",
       "      <td>62.0</td>\n",
       "      <td>0.0</td>\n",
       "      <td>2.0</td>\n",
       "      <td>2321580.0</td>\n",
       "      <td>39.0</td>\n",
       "      <td>1.0</td>\n",
       "      <td>3.5</td>\n",
       "      <td>0.9</td>\n",
       "      <td>0.5</td>\n",
       "      <td>985069.0</td>\n",
       "      <td>91092.0</td>\n",
       "      <td>9.2</td>\n",
       "      <td>344824.0</td>\n",
       "      <td>35.0</td>\n",
       "      <td>94404.0</td>\n",
       "      <td>551047.0</td>\n",
       "      <td>30.2</td>\n",
       "      <td>7.8</td>\n",
       "      <td>19.3</td>\n",
       "      <td>10.9</td>\n",
       "      <td>27.3</td>\n",
       "      <td>13.1</td>\n",
       "      <td>905776.0</td>\n",
       "      <td>55067.0</td>\n",
       "      <td>378641.0</td>\n",
       "      <td>1598824.0</td>\n",
       "      <td>844.0</td>\n",
       "      <td>25.8</td>\n",
       "      <td>0.2</td>\n",
       "      <td>24.0</td>\n",
       "      <td>0.0</td>\n",
       "      <td>0</td>\n",
       "      <td>1</td>\n",
       "      <td>0.255646</td>\n",
       "      <td>0.744354</td>\n",
       "    </tr>\n",
       "    <tr>\n",
       "      <th>53</th>\n",
       "      <td>36005</td>\n",
       "      <td>Bronx County</td>\n",
       "      <td>New York</td>\n",
       "      <td>0.0</td>\n",
       "      <td>42.0</td>\n",
       "      <td>0.0</td>\n",
       "      <td>0.0</td>\n",
       "      <td>1438159.0</td>\n",
       "      <td>11.0</td>\n",
       "      <td>0.0</td>\n",
       "      <td>2.4</td>\n",
       "      <td>0.5</td>\n",
       "      <td>0.2</td>\n",
       "      <td>599664.0</td>\n",
       "      <td>65209.0</td>\n",
       "      <td>10.9</td>\n",
       "      <td>280150.0</td>\n",
       "      <td>46.7</td>\n",
       "      <td>51812.0</td>\n",
       "      <td>401135.0</td>\n",
       "      <td>18.3</td>\n",
       "      <td>6.9</td>\n",
       "      <td>11.8</td>\n",
       "      <td>6.5</td>\n",
       "      <td>27.7</td>\n",
       "      <td>8.9</td>\n",
       "      <td>508969.0</td>\n",
       "      <td>38828.0</td>\n",
       "      <td>262987.0</td>\n",
       "      <td>880909.0</td>\n",
       "      <td>2018.0</td>\n",
       "      <td>4.4</td>\n",
       "      <td>0.4</td>\n",
       "      <td>29.0</td>\n",
       "      <td>0.0</td>\n",
       "      <td>0</td>\n",
       "      <td>0</td>\n",
       "      <td>0.998945</td>\n",
       "      <td>0.001055</td>\n",
       "    </tr>\n",
       "  </tbody>\n",
       "</table>\n",
       "</div>"
      ],
      "text/plain": [
       "     fips                 county       state  wholefoods  mcdonalds  walmart  \\\n",
       "9   26163           Wayne County    Michigan         0.0       88.0      9.0   \n",
       "12  06071  San Bernardino County  California         0.0       73.0     20.0   \n",
       "21  36081          Queens County    New York         0.0       62.0      0.0   \n",
       "53  36005           Bronx County    New York         0.0       42.0      0.0   \n",
       "\n",
       "    target  population  starbucks  tjs  Ancestry_American_pct  \\\n",
       "9      9.0   1764804.0       41.0  2.0                    4.9   \n",
       "12    13.0   2112619.0      106.0  3.0                    4.1   \n",
       "21     2.0   2321580.0       39.0  1.0                    3.5   \n",
       "53     0.0   1438159.0       11.0  0.0                    2.4   \n",
       "\n",
       "    Ancestry_Arab_pct  Ancestry_French_pct  Female_Adult_Population  \\\n",
       "9                 4.6                  2.7                 753229.0   \n",
       "12                0.8                  1.7                 810867.0   \n",
       "21                0.9                  0.5                 985069.0   \n",
       "53                0.5                  0.2                 599664.0   \n",
       "\n",
       "    Female_Divorced  Female_Divorced_pct  Female_Single  Female_Single_pct  \\\n",
       "9           97858.0                 13.0       284776.0               37.8   \n",
       "12          94691.0                 11.7       270759.0               33.4   \n",
       "21          91092.0                  9.2       344824.0               35.0   \n",
       "53          65209.0                 10.9       280150.0               46.7   \n",
       "\n",
       "    Female_Widowed  In_School_pct  Graduated_College_pct  \\\n",
       "9          78665.0       488306.0                   21.6   \n",
       "12         57787.0       630419.0                   18.8   \n",
       "21         94404.0       551047.0                   30.2   \n",
       "53         51812.0       401135.0                   18.3   \n",
       "\n",
       "    Highest_Education_Associates_Degree_pct  \\\n",
       "9                                       7.6   \n",
       "12                                      8.0   \n",
       "21                                      7.8   \n",
       "53                                      6.9   \n",
       "\n",
       "    Highest_Education_Bachelors_Degree_pct  \\\n",
       "9                                     13.1   \n",
       "12                                    12.1   \n",
       "21                                    19.3   \n",
       "53                                    11.8   \n",
       "\n",
       "    Highest_Education_Graduate_Degree_pct  Highest_Education_HS_Diploma_pct  \\\n",
       "9                                     8.5                              30.3   \n",
       "12                                    6.7                              26.3   \n",
       "21                                   10.9                              27.3   \n",
       "53                                    6.5                              27.7   \n",
       "\n",
       "    Household_income_75k_100K_pct  Male_Adult_Population  Male_Divorced  \\\n",
       "9                            10.3               676263.0        72334.0   \n",
       "12                           12.8               788177.0        68484.0   \n",
       "21                           13.1               905776.0        55067.0   \n",
       "53                            8.9               508969.0        38828.0   \n",
       "\n",
       "    Male_Single  Over_25yrs  hiv_prevalence_rate  asian_pct  \\\n",
       "9      293220.0   1172375.0                471.0        3.0   \n",
       "12     313701.0   1256972.0                205.0        7.3   \n",
       "21     378641.0   1598824.0                844.0       25.8   \n",
       "53     262987.0    880909.0               2018.0        4.4   \n",
       "\n",
       "    native_hawaiian_other_pacific_islander_pct  obese_pct  rural_pct  Actual  \\\n",
       "9                                          0.0       34.0        0.7       0   \n",
       "12                                         0.5       29.0        4.7       0   \n",
       "21                                         0.2       24.0        0.0       0   \n",
       "53                                         0.4       29.0        0.0       0   \n",
       "\n",
       "    Predicted     Prob0     Prob1  \n",
       "9           0  0.998945  0.001055  \n",
       "12          0  0.572980  0.427020  \n",
       "21          1  0.255646  0.744354  \n",
       "53          0  0.998945  0.001055  "
      ]
     },
     "execution_count": 93,
     "metadata": {},
     "output_type": "execute_result"
    }
   ],
   "source": [
    "# 65K Median single Female Population\n",
    "print csvdf[wf_mask].Female_Single.median()\n",
    "\n",
    "# Same 4 counties that are exceptions to this split\n",
    "csvdf[fsing_mask & neg_mask]\n"
   ]
  },
  {
   "cell_type": "markdown",
   "metadata": {},
   "source": [
    "### Graducation Pct"
   ]
  },
  {
   "cell_type": "code",
   "execution_count": 43,
   "metadata": {
    "collapsed": false
   },
   "outputs": [
    {
     "name": "stdout",
     "output_type": "stream",
     "text": [
      "18.4\n"
     ]
    },
    {
     "data": {
      "image/png": "[encoded data removed]",
      "text/plain": [
       "<matplotlib.figure.Figure at 0x10cd13b50>"
      ]
     },
     "metadata": {},
     "output_type": "display_data"
    }
   ],
   "source": [
    "grad_mask = (csvdf.Graduated_College_pct>=35)\n",
    "plt.scatter(csvdf.Graduated_College_pct, csvdf.wholefoods)\n",
    "\n",
    "# Median College Grad Pct in America is 18%...\n",
    "print csvdf.Graduated_College_pct.median()"
   ]
  },
  {
   "cell_type": "code",
   "execution_count": 44,
   "metadata": {
    "collapsed": false
   },
   "outputs": [
    {
     "name": "stdout",
     "output_type": "stream",
     "text": [
      "0.605769230769\n",
      "0.51871657754\n",
      "0.0888421052632\n"
     ]
    },
    {
     "data": {
      "image/png": "[encoded data removed]",
      "text/plain": [
       "<matplotlib.figure.Figure at 0x10cccf6d0>"
      ]
     },
     "metadata": {},
     "output_type": "display_data"
    }
   ],
   "source": [
    "# 60.5% of all wholefoods are in counties with graduation rates >= 35%\n",
    "print csvdf[grad_mask].wholefoods.sum()/csvdf.wholefoods.sum()\n",
    "\n",
    "# Counties with graduation rates > 35% make up 50% of all Counties that contain WF\n",
    "print csvdf[grad_mask].Actual.sum()/float(csvdf.Actual.sum())\n",
    "\n",
    "csvdf.Graduated_College_pct.hist()\n",
    "# only 9% of counties have a graduation rate higher than 35%\n",
    "print csvdf[grad_mask].shape[0]/float(len(csvdf))\n"
   ]
  },
  {
   "cell_type": "markdown",
   "metadata": {
    "collapsed": true
   },
   "source": [
    "### Obesity"
   ]
  },
  {
   "cell_type": "code",
   "execution_count": 45,
   "metadata": {
    "collapsed": false
   },
   "outputs": [
    {
     "name": "stdout",
     "output_type": "stream",
     "text": [
      "31.0\n"
     ]
    },
    {
     "data": {
      "image/png": "[encoded data removed]",
      "text/plain": [
       "<matplotlib.figure.Figure at 0x10d555850>"
      ]
     },
     "metadata": {},
     "output_type": "display_data"
    }
   ],
   "source": [
    "obs_mask = (csvdf.obese_pct<=30)\n",
    "plt.scatter(csvdf.obese_pct, csvdf.wholefoods)\n",
    "\n",
    "# Median Obesity Pct in America is 31%\n",
    "print csvdf.obese_pct.median()"
   ]
  },
  {
   "cell_type": "code",
   "execution_count": 52,
   "metadata": {
    "collapsed": false
   },
   "outputs": [
    {
     "name": "stdout",
     "output_type": "stream",
     "text": [
      "0.925\n",
      "0.877005347594\n",
      "25.0\n"
     ]
    },
    {
     "data": {
      "text/html": [
       "<div>\n",
       "<table border=\"1\" class=\"dataframe\">\n",
       "  <thead>\n",
       "    <tr style=\"text-align: right;\">\n",
       "      <th></th>\n",
       "      <th>wholefoods</th>\n",
       "      <th>obese_pct</th>\n",
       "    </tr>\n",
       "  </thead>\n",
       "  <tbody>\n",
       "    <tr>\n",
       "      <th>wholefoods</th>\n",
       "      <td>1.00000</td>\n",
       "      <td>-0.22606</td>\n",
       "    </tr>\n",
       "    <tr>\n",
       "      <th>obese_pct</th>\n",
       "      <td>-0.22606</td>\n",
       "      <td>1.00000</td>\n",
       "    </tr>\n",
       "  </tbody>\n",
       "</table>\n",
       "</div>"
      ],
      "text/plain": [
       "            wholefoods  obese_pct\n",
       "wholefoods     1.00000   -0.22606\n",
       "obese_pct     -0.22606    1.00000"
      ]
     },
     "execution_count": 52,
     "metadata": {},
     "output_type": "execute_result"
    },
    {
     "data": {
      "image/png": "[encoded data removed]",
      "text/plain": [
       "<matplotlib.figure.Figure at 0x10d587410>"
      ]
     },
     "metadata": {},
     "output_type": "display_data"
    }
   ],
   "source": [
    "# 92% of all wholefoods are in counties with obesity rates <= 30%\n",
    "print csvdf[obs_mask].wholefoods.sum()/csvdf.wholefoods.sum()\n",
    "\n",
    "# Counties with graduation rates < 30% make up 87% of all Counties that contain WF\n",
    "print csvdf[obs_mask].Actual.sum()/float(csvdf.Actual.sum())\n",
    "\n",
    "# this is the only normally distributed variable I've seen so far...\n",
    "csvdf.obese_pct.hist()\n",
    "\n",
    "# median obesity for counties containing WholeFoods is 25%\n",
    "print csvdf[wf_mask].obese_pct.median()\n",
    "\n",
    "csvdf[wf_mask][['wholefoods','obese_pct']].corr()"
   ]
  },
  {
   "cell_type": "code",
   "execution_count": null,
   "metadata": {
    "collapsed": true
   },
   "outputs": [],
   "source": []
  },
  {
   "cell_type": "code",
   "execution_count": null,
   "metadata": {
    "collapsed": true
   },
   "outputs": [],
   "source": []
  }
 ],
 "metadata": {
  "kernelspec": {
   "display_name": "Python 2",
   "language": "python",
   "name": "python2"
  },
  "language_info": {
   "codemirror_mode": {
    "name": "ipython",
    "version": 2
   },
   "file_extension": ".py",
   "mimetype": "text/x-python",
   "name": "python",
   "nbconvert_exporter": "python",
   "pygments_lexer": "ipython2",
   "version": "2.7.10"
  }
 },
 "nbformat": 4,
 "nbformat_minor": 0
}
