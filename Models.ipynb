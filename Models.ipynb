{
 "cells": [
  {
   "cell_type": "code",
   "execution_count": 1,
   "metadata": {
    "collapsed": false
   },
   "outputs": [],
   "source": [
    "import numpy as np\n",
    "import pandas as pd\n",
    "import matplotlib.pyplot as plt\n",
    "import seaborn as sns\n",
    "\n",
    "%matplotlib inline"
   ]
  },
  {
   "cell_type": "code",
   "execution_count": 2,
   "metadata": {
    "collapsed": true
   },
   "outputs": [],
   "source": [
    "pd.options.display.max_rows = 50\n",
    "pd.options.display.max_columns = 120\n"
   ]
  },
  {
   "cell_type": "code",
   "execution_count": 3,
   "metadata": {
    "collapsed": false
   },
   "outputs": [
    {
     "data": {
      "text/html": [
       "<div>\n",
       "<table border=\"1\" class=\"dataframe\">\n",
       "  <thead>\n",
       "    <tr style=\"text-align: right;\">\n",
       "      <th></th>\n",
       "      <th>fips</th>\n",
       "      <th>mcdonalds</th>\n",
       "      <th>starbucks</th>\n",
       "      <th>target</th>\n",
       "      <th>tjs</th>\n",
       "      <th>walmart</th>\n",
       "      <th>wholefoods</th>\n",
       "      <th>Ancestry_Lithuanian_pct</th>\n",
       "      <th>In_Highschool_pct</th>\n",
       "      <th>Male_Divorced</th>\n",
       "      <th>Male_Adult_Population</th>\n",
       "      <th>Not_US_Citizen_pct</th>\n",
       "      <th>Household_income_15k_25K_pct</th>\n",
       "      <th>Male_Divorced_pct</th>\n",
       "      <th>Household_income_25k_35K_pct</th>\n",
       "      <th>GrandParents_w_Grandchildren</th>\n",
       "      <th>Ancestry_Arab_pct</th>\n",
       "      <th>Ancestry_Italian_pct</th>\n",
       "      <th>US_Citizen_pct</th>\n",
       "      <th>Ancestry_English_pct</th>\n",
       "      <th>Ancestry_Danish_pct</th>\n",
       "      <th>Ancestry_Russian_pct</th>\n",
       "      <th>Ancestry_French_pct</th>\n",
       "      <th>Over_25yrs</th>\n",
       "      <th>Ancestry_Polish_pct</th>\n",
       "      <th>Median_Household_Income</th>\n",
       "      <th>Female_Adult_Population_pct</th>\n",
       "      <th>Ancestry_Subsaharan_African_pct</th>\n",
       "      <th>Ancestry_Greek_pct</th>\n",
       "      <th>Ancestry_Swedish_pct</th>\n",
       "      <th>Male_Widowed</th>\n",
       "      <th>Highest_Education_College_pct</th>\n",
       "      <th>Female_Adult_Population</th>\n",
       "      <th>Ancestry_Swiss_pct</th>\n",
       "      <th>Ancestry_Scotch_Irish_pct</th>\n",
       "      <th>Ancestry_Ukrainian_pct</th>\n",
       "      <th>Highest_Education_Graduate_Degree_pct</th>\n",
       "      <th>Female_Single_pct</th>\n",
       "      <th>Female_Divorced_pct</th>\n",
       "      <th>Household_income_100k_150K_pct</th>\n",
       "      <th>Household_income_over200k_pct</th>\n",
       "      <th>Ancestry_Norwegian_pct</th>\n",
       "      <th>Ancestry_Dutch_pct</th>\n",
       "      <th>In_College_pct</th>\n",
       "      <th>Highest_Education_9th_pct</th>\n",
       "      <th>Ancestry_Hungarian_pct</th>\n",
       "      <th>Ancestry_German_pct</th>\n",
       "      <th>Highest_Education_Bachelors_Degree_pct</th>\n",
       "      <th>Ancestry_Czech_pct</th>\n",
       "      <th>Female_Widowed</th>\n",
       "      <th>Ancestry_Welsh_pct</th>\n",
       "      <th>Ancestry_Portuguese_pct</th>\n",
       "      <th>Household_income_50k_75K_pct</th>\n",
       "      <th>Ancestry_Slovak_pct</th>\n",
       "      <th>Female_Widowed_pct</th>\n",
       "      <th>Male_Single</th>\n",
       "      <th>Highest_Education_HS_pct</th>\n",
       "      <th>Household_income_10k_15k_pct</th>\n",
       "      <th>Highest_Education_HS_Diploma_pct</th>\n",
       "      <th>Ancestry_French_Canadian_pct</th>\n",
       "      <th>Graduated_HS_pct</th>\n",
       "      <th>Ancestry_American_pct</th>\n",
       "      <th>In_School_pct</th>\n",
       "      <th>Household_income_75k_100K_pct</th>\n",
       "      <th>Household_income_under10k_pct</th>\n",
       "      <th>Ancestry_Scottish_pct</th>\n",
       "      <th>Ancestry_Irish_pct</th>\n",
       "      <th>Highest_Education_Associates_Degree_pct</th>\n",
       "      <th>Over_25yrs_pct</th>\n",
       "      <th>Male_Widowed_pct</th>\n",
       "      <th>Female_Single</th>\n",
       "      <th>Graduated_College_pct</th>\n",
       "      <th>Household_income_35k_50K_pct</th>\n",
       "      <th>Household_income_150k_200K_pct</th>\n",
       "      <th>Female_Divorced</th>\n",
       "      <th>Ancestry_West_Indian_pct</th>\n",
       "      <th>Male_Single_pct</th>\n",
       "      <th>Male_Adult_Population_pct</th>\n",
       "      <th>GrandParents_w_Grandchildren_pct</th>\n",
       "      <th>pct_lbw</th>\n",
       "      <th>pct_smokers</th>\n",
       "      <th>pct_obese</th>\n",
       "      <th>alcohol_dri_pct</th>\n",
       "      <th>chlamydia_rate</th>\n",
       "      <th>teen_birth_rate</th>\n",
       "      <th>pct_uninsured</th>\n",
       "      <th>violent_crime_rate</th>\n",
       "      <th>pct_diabetic</th>\n",
       "      <th>hiv_prevalence_rate</th>\n",
       "      <th>household_income</th>\n",
       "      <th>population</th>\n",
       "      <th>pct_under_18</th>\n",
       "      <th>pct_65_and_over</th>\n",
       "      <th>pct_african_american</th>\n",
       "      <th>pct_american_indian_alaskan_native</th>\n",
       "      <th>pct_asian</th>\n",
       "      <th>pct_native_hawaiian_other_pacific_islander</th>\n",
       "      <th>pct_hispanic</th>\n",
       "      <th>pct_nonhispanic_white</th>\n",
       "      <th>pct_not_proficient_in_english</th>\n",
       "      <th>pct_female</th>\n",
       "      <th>pct_rural</th>\n",
       "      <th>county</th>\n",
       "      <th>state</th>\n",
       "    </tr>\n",
       "  </thead>\n",
       "  <tbody>\n",
       "    <tr>\n",
       "      <th>0</th>\n",
       "      <td>06037</td>\n",
       "      <td>332.0</td>\n",
       "      <td>649.0</td>\n",
       "      <td>53.0</td>\n",
       "      <td>51.0</td>\n",
       "      <td>42.0</td>\n",
       "      <td>29.0</td>\n",
       "      <td>0.1</td>\n",
       "      <td>21.5</td>\n",
       "      <td>270624.0</td>\n",
       "      <td>3930301.0</td>\n",
       "      <td>52.0</td>\n",
       "      <td>10.7</td>\n",
       "      <td>6.9</td>\n",
       "      <td>9.7</td>\n",
       "      <td>328126.0</td>\n",
       "      <td>0.8</td>\n",
       "      <td>2.6</td>\n",
       "      <td>48.0</td>\n",
       "      <td>3.5</td>\n",
       "      <td>0.3</td>\n",
       "      <td>1.5</td>\n",
       "      <td>1.2</td>\n",
       "      <td>6557746.0</td>\n",
       "      <td>1.2</td>\n",
       "      <td>55870.0</td>\n",
       "      <td>4119016.0</td>\n",
       "      <td>1.0</td>\n",
       "      <td>0.3</td>\n",
       "      <td>0.6</td>\n",
       "      <td>80192.0</td>\n",
       "      <td>19.5</td>\n",
       "      <td>4119016.0</td>\n",
       "      <td>0.1</td>\n",
       "      <td>0.4</td>\n",
       "      <td>0.2</td>\n",
       "      <td>10.4</td>\n",
       "      <td>38.2</td>\n",
       "      <td>10.0</td>\n",
       "      <td>13.5</td>\n",
       "      <td>6.8</td>\n",
       "      <td>0.6</td>\n",
       "      <td>0.6</td>\n",
       "      <td>31.4</td>\n",
       "      <td>13.6</td>\n",
       "      <td>0.3</td>\n",
       "      <td>4.9</td>\n",
       "      <td>19.5</td>\n",
       "      <td>0.2</td>\n",
       "      <td>323679.0</td>\n",
       "      <td>0.3</td>\n",
       "      <td>0.2</td>\n",
       "      <td>16.7</td>\n",
       "      <td>0.0</td>\n",
       "      <td>7.9</td>\n",
       "      <td>1760407.0</td>\n",
       "      <td>9.6</td>\n",
       "      <td>5.9</td>\n",
       "      <td>20.5</td>\n",
       "      <td>0.2</td>\n",
       "      <td>76.8</td>\n",
       "      <td>2.8</td>\n",
       "      <td>2779216.0</td>\n",
       "      <td>11.7</td>\n",
       "      <td>6.5</td>\n",
       "      <td>0.8</td>\n",
       "      <td>4.0</td>\n",
       "      <td>6.8</td>\n",
       "      <td>6557746.0</td>\n",
       "      <td>2.0</td>\n",
       "      <td>1572494.0</td>\n",
       "      <td>29.9</td>\n",
       "      <td>12.6</td>\n",
       "      <td>6.0</td>\n",
       "      <td>410806.0</td>\n",
       "      <td>0.4</td>\n",
       "      <td>44.8</td>\n",
       "      <td>3930301.0</td>\n",
       "      <td>328126.0</td>\n",
       "      <td>7.0</td>\n",
       "      <td>12.0</td>\n",
       "      <td>21.0</td>\n",
       "      <td>27.0</td>\n",
       "      <td>510.0</td>\n",
       "      <td>32.0</td>\n",
       "      <td>24.0</td>\n",
       "      <td>474.0</td>\n",
       "      <td>11.0</td>\n",
       "      <td>550.0</td>\n",
       "      <td>55686.0</td>\n",
       "      <td>10116705.0</td>\n",
       "      <td>22.8</td>\n",
       "      <td>12.2</td>\n",
       "      <td>8.2</td>\n",
       "      <td>1.5</td>\n",
       "      <td>14.8</td>\n",
       "      <td>0.4</td>\n",
       "      <td>48.4</td>\n",
       "      <td>26.8</td>\n",
       "      <td>15.0</td>\n",
       "      <td>50.7</td>\n",
       "      <td>0.6</td>\n",
       "      <td>Los Angeles County</td>\n",
       "      <td>California</td>\n",
       "    </tr>\n",
       "    <tr>\n",
       "      <th>1</th>\n",
       "      <td>04013</td>\n",
       "      <td>178.0</td>\n",
       "      <td>324.0</td>\n",
       "      <td>30.0</td>\n",
       "      <td>11.0</td>\n",
       "      <td>61.0</td>\n",
       "      <td>5.0</td>\n",
       "      <td>0.2</td>\n",
       "      <td>21.0</td>\n",
       "      <td>154475.0</td>\n",
       "      <td>1520530.0</td>\n",
       "      <td>63.6</td>\n",
       "      <td>10.2</td>\n",
       "      <td>10.2</td>\n",
       "      <td>10.5</td>\n",
       "      <td>92902.0</td>\n",
       "      <td>0.6</td>\n",
       "      <td>4.6</td>\n",
       "      <td>36.4</td>\n",
       "      <td>8.3</td>\n",
       "      <td>0.6</td>\n",
       "      <td>0.9</td>\n",
       "      <td>2.4</td>\n",
       "      <td>2550592.0</td>\n",
       "      <td>2.7</td>\n",
       "      <td>53689.0</td>\n",
       "      <td>1582774.0</td>\n",
       "      <td>0.6</td>\n",
       "      <td>0.4</td>\n",
       "      <td>1.5</td>\n",
       "      <td>34033.0</td>\n",
       "      <td>25.0</td>\n",
       "      <td>1582774.0</td>\n",
       "      <td>0.3</td>\n",
       "      <td>0.7</td>\n",
       "      <td>0.2</td>\n",
       "      <td>10.7</td>\n",
       "      <td>30.0</td>\n",
       "      <td>14.0</td>\n",
       "      <td>13.4</td>\n",
       "      <td>4.6</td>\n",
       "      <td>1.8</td>\n",
       "      <td>1.3</td>\n",
       "      <td>27.4</td>\n",
       "      <td>6.4</td>\n",
       "      <td>0.4</td>\n",
       "      <td>14.5</td>\n",
       "      <td>19.2</td>\n",
       "      <td>0.4</td>\n",
       "      <td>122091.0</td>\n",
       "      <td>0.6</td>\n",
       "      <td>0.2</td>\n",
       "      <td>18.4</td>\n",
       "      <td>0.2</td>\n",
       "      <td>7.7</td>\n",
       "      <td>562929.0</td>\n",
       "      <td>7.0</td>\n",
       "      <td>4.5</td>\n",
       "      <td>23.3</td>\n",
       "      <td>0.5</td>\n",
       "      <td>86.6</td>\n",
       "      <td>6.0</td>\n",
       "      <td>1080221.0</td>\n",
       "      <td>12.3</td>\n",
       "      <td>6.9</td>\n",
       "      <td>1.7</td>\n",
       "      <td>9.3</td>\n",
       "      <td>8.4</td>\n",
       "      <td>2550592.0</td>\n",
       "      <td>2.2</td>\n",
       "      <td>474916.0</td>\n",
       "      <td>30.0</td>\n",
       "      <td>14.4</td>\n",
       "      <td>4.8</td>\n",
       "      <td>220905.0</td>\n",
       "      <td>0.2</td>\n",
       "      <td>37.0</td>\n",
       "      <td>1520530.0</td>\n",
       "      <td>92902.0</td>\n",
       "      <td>7.0</td>\n",
       "      <td>15.0</td>\n",
       "      <td>22.0</td>\n",
       "      <td>27.0</td>\n",
       "      <td>480.0</td>\n",
       "      <td>43.0</td>\n",
       "      <td>20.0</td>\n",
       "      <td>398.0</td>\n",
       "      <td>9.0</td>\n",
       "      <td>284.0</td>\n",
       "      <td>53929.0</td>\n",
       "      <td>4087191.0</td>\n",
       "      <td>25.1</td>\n",
       "      <td>13.8</td>\n",
       "      <td>5.0</td>\n",
       "      <td>2.8</td>\n",
       "      <td>4.1</td>\n",
       "      <td>0.3</td>\n",
       "      <td>30.3</td>\n",
       "      <td>57.0</td>\n",
       "      <td>5.6</td>\n",
       "      <td>50.6</td>\n",
       "      <td>2.4</td>\n",
       "      <td>Maricopa County</td>\n",
       "      <td>Arizona</td>\n",
       "    </tr>\n",
       "    <tr>\n",
       "      <th>2</th>\n",
       "      <td>17031</td>\n",
       "      <td>170.0</td>\n",
       "      <td>319.0</td>\n",
       "      <td>33.0</td>\n",
       "      <td>13.0</td>\n",
       "      <td>34.0</td>\n",
       "      <td>20.0</td>\n",
       "      <td>0.7</td>\n",
       "      <td>20.5</td>\n",
       "      <td>149460.0</td>\n",
       "      <td>2022673.0</td>\n",
       "      <td>53.0</td>\n",
       "      <td>10.4</td>\n",
       "      <td>7.4</td>\n",
       "      <td>9.6</td>\n",
       "      <td>137240.0</td>\n",
       "      <td>1.2</td>\n",
       "      <td>5.7</td>\n",
       "      <td>47.0</td>\n",
       "      <td>3.0</td>\n",
       "      <td>0.3</td>\n",
       "      <td>1.3</td>\n",
       "      <td>1.1</td>\n",
       "      <td>3513404.0</td>\n",
       "      <td>8.8</td>\n",
       "      <td>54828.0</td>\n",
       "      <td>2202631.0</td>\n",
       "      <td>1.0</td>\n",
       "      <td>1.0</td>\n",
       "      <td>1.4</td>\n",
       "      <td>50693.0</td>\n",
       "      <td>19.2</td>\n",
       "      <td>2202631.0</td>\n",
       "      <td>0.2</td>\n",
       "      <td>0.3</td>\n",
       "      <td>0.6</td>\n",
       "      <td>14.0</td>\n",
       "      <td>38.2</td>\n",
       "      <td>10.4</td>\n",
       "      <td>13.2</td>\n",
       "      <td>6.2</td>\n",
       "      <td>0.8</td>\n",
       "      <td>0.9</td>\n",
       "      <td>29.7</td>\n",
       "      <td>7.6</td>\n",
       "      <td>0.4</td>\n",
       "      <td>10.4</td>\n",
       "      <td>21.2</td>\n",
       "      <td>0.9</td>\n",
       "      <td>203433.0</td>\n",
       "      <td>0.2</td>\n",
       "      <td>0.1</td>\n",
       "      <td>17.1</td>\n",
       "      <td>0.3</td>\n",
       "      <td>9.2</td>\n",
       "      <td>886055.0</td>\n",
       "      <td>7.6</td>\n",
       "      <td>4.9</td>\n",
       "      <td>24.1</td>\n",
       "      <td>0.2</td>\n",
       "      <td>84.8</td>\n",
       "      <td>2.2</td>\n",
       "      <td>1384976.0</td>\n",
       "      <td>12.0</td>\n",
       "      <td>8.6</td>\n",
       "      <td>0.7</td>\n",
       "      <td>9.5</td>\n",
       "      <td>6.3</td>\n",
       "      <td>3513404.0</td>\n",
       "      <td>2.5</td>\n",
       "      <td>842185.0</td>\n",
       "      <td>35.3</td>\n",
       "      <td>12.6</td>\n",
       "      <td>5.5</td>\n",
       "      <td>228186.0</td>\n",
       "      <td>0.4</td>\n",
       "      <td>43.8</td>\n",
       "      <td>2022673.0</td>\n",
       "      <td>137240.0</td>\n",
       "      <td>9.0</td>\n",
       "      <td>16.0</td>\n",
       "      <td>25.0</td>\n",
       "      <td>38.0</td>\n",
       "      <td>661.0</td>\n",
       "      <td>39.0</td>\n",
       "      <td>18.0</td>\n",
       "      <td>631.0</td>\n",
       "      <td>10.0</td>\n",
       "      <td>608.0</td>\n",
       "      <td>55058.0</td>\n",
       "      <td>5246456.0</td>\n",
       "      <td>22.6</td>\n",
       "      <td>12.9</td>\n",
       "      <td>23.6</td>\n",
       "      <td>0.8</td>\n",
       "      <td>7.2</td>\n",
       "      <td>0.1</td>\n",
       "      <td>25.0</td>\n",
       "      <td>43.0</td>\n",
       "      <td>7.9</td>\n",
       "      <td>51.5</td>\n",
       "      <td>0.0</td>\n",
       "      <td>Cook County</td>\n",
       "      <td>Illinois</td>\n",
       "    </tr>\n",
       "    <tr>\n",
       "      <th>3</th>\n",
       "      <td>48201</td>\n",
       "      <td>130.0</td>\n",
       "      <td>212.0</td>\n",
       "      <td>22.0</td>\n",
       "      <td>2.0</td>\n",
       "      <td>46.0</td>\n",
       "      <td>8.0</td>\n",
       "      <td>0.1</td>\n",
       "      <td>20.5</td>\n",
       "      <td>137249.0</td>\n",
       "      <td>1619872.0</td>\n",
       "      <td>67.2</td>\n",
       "      <td>10.8</td>\n",
       "      <td>8.5</td>\n",
       "      <td>10.5</td>\n",
       "      <td>123774.0</td>\n",
       "      <td>0.7</td>\n",
       "      <td>1.9</td>\n",
       "      <td>32.8</td>\n",
       "      <td>4.8</td>\n",
       "      <td>0.1</td>\n",
       "      <td>0.4</td>\n",
       "      <td>2.0</td>\n",
       "      <td>2667930.0</td>\n",
       "      <td>1.1</td>\n",
       "      <td>53822.0</td>\n",
       "      <td>1659762.0</td>\n",
       "      <td>1.4</td>\n",
       "      <td>0.2</td>\n",
       "      <td>0.4</td>\n",
       "      <td>29525.0</td>\n",
       "      <td>21.0</td>\n",
       "      <td>1659762.0</td>\n",
       "      <td>0.1</td>\n",
       "      <td>0.7</td>\n",
       "      <td>0.1</td>\n",
       "      <td>10.3</td>\n",
       "      <td>32.1</td>\n",
       "      <td>11.6</td>\n",
       "      <td>12.8</td>\n",
       "      <td>6.5</td>\n",
       "      <td>0.4</td>\n",
       "      <td>0.6</td>\n",
       "      <td>24.3</td>\n",
       "      <td>11.3</td>\n",
       "      <td>0.2</td>\n",
       "      <td>7.1</td>\n",
       "      <td>18.7</td>\n",
       "      <td>0.6</td>\n",
       "      <td>116976.0</td>\n",
       "      <td>0.3</td>\n",
       "      <td>0.1</td>\n",
       "      <td>17.3</td>\n",
       "      <td>0.0</td>\n",
       "      <td>7.0</td>\n",
       "      <td>623526.0</td>\n",
       "      <td>9.5</td>\n",
       "      <td>4.9</td>\n",
       "      <td>23.3</td>\n",
       "      <td>0.3</td>\n",
       "      <td>79.1</td>\n",
       "      <td>4.2</td>\n",
       "      <td>1218501.0</td>\n",
       "      <td>11.4</td>\n",
       "      <td>6.9</td>\n",
       "      <td>1.0</td>\n",
       "      <td>4.9</td>\n",
       "      <td>5.8</td>\n",
       "      <td>2667930.0</td>\n",
       "      <td>1.8</td>\n",
       "      <td>533336.0</td>\n",
       "      <td>29.0</td>\n",
       "      <td>13.4</td>\n",
       "      <td>5.5</td>\n",
       "      <td>192021.0</td>\n",
       "      <td>0.4</td>\n",
       "      <td>38.5</td>\n",
       "      <td>1619872.0</td>\n",
       "      <td>123774.0</td>\n",
       "      <td>9.0</td>\n",
       "      <td>14.0</td>\n",
       "      <td>27.0</td>\n",
       "      <td>41.0</td>\n",
       "      <td>557.0</td>\n",
       "      <td>53.0</td>\n",
       "      <td>27.0</td>\n",
       "      <td>725.0</td>\n",
       "      <td>11.0</td>\n",
       "      <td>636.0</td>\n",
       "      <td>54230.0</td>\n",
       "      <td>4441370.0</td>\n",
       "      <td>27.1</td>\n",
       "      <td>9.2</td>\n",
       "      <td>18.5</td>\n",
       "      <td>1.1</td>\n",
       "      <td>7.0</td>\n",
       "      <td>0.1</td>\n",
       "      <td>41.8</td>\n",
       "      <td>31.4</td>\n",
       "      <td>11.9</td>\n",
       "      <td>50.2</td>\n",
       "      <td>1.2</td>\n",
       "      <td>Harris County</td>\n",
       "      <td>Texas</td>\n",
       "    </tr>\n",
       "    <tr>\n",
       "      <th>4</th>\n",
       "      <td>48113</td>\n",
       "      <td>115.0</td>\n",
       "      <td>113.0</td>\n",
       "      <td>16.0</td>\n",
       "      <td>4.0</td>\n",
       "      <td>37.0</td>\n",
       "      <td>7.0</td>\n",
       "      <td>0.1</td>\n",
       "      <td>20.8</td>\n",
       "      <td>81961.0</td>\n",
       "      <td>922051.0</td>\n",
       "      <td>72.4</td>\n",
       "      <td>11.3</td>\n",
       "      <td>8.9</td>\n",
       "      <td>11.7</td>\n",
       "      <td>73602.0</td>\n",
       "      <td>0.4</td>\n",
       "      <td>1.5</td>\n",
       "      <td>27.6</td>\n",
       "      <td>5.4</td>\n",
       "      <td>0.1</td>\n",
       "      <td>0.3</td>\n",
       "      <td>1.4</td>\n",
       "      <td>1541324.0</td>\n",
       "      <td>0.7</td>\n",
       "      <td>49925.0</td>\n",
       "      <td>964952.0</td>\n",
       "      <td>1.7</td>\n",
       "      <td>0.2</td>\n",
       "      <td>0.5</td>\n",
       "      <td>18031.0</td>\n",
       "      <td>20.2</td>\n",
       "      <td>964952.0</td>\n",
       "      <td>0.1</td>\n",
       "      <td>0.9</td>\n",
       "      <td>0.1</td>\n",
       "      <td>10.2</td>\n",
       "      <td>33.1</td>\n",
       "      <td>12.6</td>\n",
       "      <td>11.4</td>\n",
       "      <td>5.3</td>\n",
       "      <td>0.4</td>\n",
       "      <td>0.6</td>\n",
       "      <td>22.7</td>\n",
       "      <td>11.4</td>\n",
       "      <td>0.1</td>\n",
       "      <td>6.4</td>\n",
       "      <td>18.5</td>\n",
       "      <td>0.3</td>\n",
       "      <td>71124.0</td>\n",
       "      <td>0.3</td>\n",
       "      <td>0.1</td>\n",
       "      <td>18.1</td>\n",
       "      <td>0.0</td>\n",
       "      <td>7.4</td>\n",
       "      <td>363685.0</td>\n",
       "      <td>10.9</td>\n",
       "      <td>5.2</td>\n",
       "      <td>23.2</td>\n",
       "      <td>0.2</td>\n",
       "      <td>77.7</td>\n",
       "      <td>4.1</td>\n",
       "      <td>667714.0</td>\n",
       "      <td>10.9</td>\n",
       "      <td>7.1</td>\n",
       "      <td>1.2</td>\n",
       "      <td>4.9</td>\n",
       "      <td>5.5</td>\n",
       "      <td>1541324.0</td>\n",
       "      <td>2.0</td>\n",
       "      <td>319802.0</td>\n",
       "      <td>28.7</td>\n",
       "      <td>14.8</td>\n",
       "      <td>4.3</td>\n",
       "      <td>121969.0</td>\n",
       "      <td>0.2</td>\n",
       "      <td>39.4</td>\n",
       "      <td>922051.0</td>\n",
       "      <td>73602.0</td>\n",
       "      <td>8.0</td>\n",
       "      <td>15.0</td>\n",
       "      <td>28.0</td>\n",
       "      <td>37.0</td>\n",
       "      <td>599.0</td>\n",
       "      <td>60.0</td>\n",
       "      <td>29.0</td>\n",
       "      <td>466.0</td>\n",
       "      <td>11.0</td>\n",
       "      <td>783.0</td>\n",
       "      <td>50118.0</td>\n",
       "      <td>2518638.0</td>\n",
       "      <td>26.9</td>\n",
       "      <td>9.7</td>\n",
       "      <td>22.3</td>\n",
       "      <td>1.1</td>\n",
       "      <td>5.9</td>\n",
       "      <td>0.1</td>\n",
       "      <td>39.3</td>\n",
       "      <td>31.1</td>\n",
       "      <td>11.5</td>\n",
       "      <td>50.7</td>\n",
       "      <td>0.7</td>\n",
       "      <td>Dallas County</td>\n",
       "      <td>Texas</td>\n",
       "    </tr>\n",
       "  </tbody>\n",
       "</table>\n",
       "</div>"
      ],
      "text/plain": [
       "    fips  mcdonalds  starbucks  target   tjs  walmart  wholefoods  \\\n",
       "0  06037      332.0      649.0    53.0  51.0     42.0        29.0   \n",
       "1  04013      178.0      324.0    30.0  11.0     61.0         5.0   \n",
       "2  17031      170.0      319.0    33.0  13.0     34.0        20.0   \n",
       "3  48201      130.0      212.0    22.0   2.0     46.0         8.0   \n",
       "4  48113      115.0      113.0    16.0   4.0     37.0         7.0   \n",
       "\n",
       "   Ancestry_Lithuanian_pct  In_Highschool_pct  Male_Divorced  \\\n",
       "0                      0.1               21.5       270624.0   \n",
       "1                      0.2               21.0       154475.0   \n",
       "2                      0.7               20.5       149460.0   \n",
       "3                      0.1               20.5       137249.0   \n",
       "4                      0.1               20.8        81961.0   \n",
       "\n",
       "   Male_Adult_Population  Not_US_Citizen_pct  Household_income_15k_25K_pct  \\\n",
       "0              3930301.0                52.0                          10.7   \n",
       "1              1520530.0                63.6                          10.2   \n",
       "2              2022673.0                53.0                          10.4   \n",
       "3              1619872.0                67.2                          10.8   \n",
       "4               922051.0                72.4                          11.3   \n",
       "\n",
       "   Male_Divorced_pct  Household_income_25k_35K_pct  \\\n",
       "0                6.9                           9.7   \n",
       "1               10.2                          10.5   \n",
       "2                7.4                           9.6   \n",
       "3                8.5                          10.5   \n",
       "4                8.9                          11.7   \n",
       "\n",
       "   GrandParents_w_Grandchildren  Ancestry_Arab_pct  Ancestry_Italian_pct  \\\n",
       "0                      328126.0                0.8                   2.6   \n",
       "1                       92902.0                0.6                   4.6   \n",
       "2                      137240.0                1.2                   5.7   \n",
       "3                      123774.0                0.7                   1.9   \n",
       "4                       73602.0                0.4                   1.5   \n",
       "\n",
       "   US_Citizen_pct  Ancestry_English_pct  Ancestry_Danish_pct  \\\n",
       "0            48.0                   3.5                  0.3   \n",
       "1            36.4                   8.3                  0.6   \n",
       "2            47.0                   3.0                  0.3   \n",
       "3            32.8                   4.8                  0.1   \n",
       "4            27.6                   5.4                  0.1   \n",
       "\n",
       "   Ancestry_Russian_pct  Ancestry_French_pct  Over_25yrs  Ancestry_Polish_pct  \\\n",
       "0                   1.5                  1.2   6557746.0                  1.2   \n",
       "1                   0.9                  2.4   2550592.0                  2.7   \n",
       "2                   1.3                  1.1   3513404.0                  8.8   \n",
       "3                   0.4                  2.0   2667930.0                  1.1   \n",
       "4                   0.3                  1.4   1541324.0                  0.7   \n",
       "\n",
       "   Median_Household_Income  Female_Adult_Population_pct  \\\n",
       "0                  55870.0                    4119016.0   \n",
       "1                  53689.0                    1582774.0   \n",
       "2                  54828.0                    2202631.0   \n",
       "3                  53822.0                    1659762.0   \n",
       "4                  49925.0                     964952.0   \n",
       "\n",
       "   Ancestry_Subsaharan_African_pct  Ancestry_Greek_pct  Ancestry_Swedish_pct  \\\n",
       "0                              1.0                 0.3                   0.6   \n",
       "1                              0.6                 0.4                   1.5   \n",
       "2                              1.0                 1.0                   1.4   \n",
       "3                              1.4                 0.2                   0.4   \n",
       "4                              1.7                 0.2                   0.5   \n",
       "\n",
       "   Male_Widowed  Highest_Education_College_pct  Female_Adult_Population  \\\n",
       "0       80192.0                           19.5                4119016.0   \n",
       "1       34033.0                           25.0                1582774.0   \n",
       "2       50693.0                           19.2                2202631.0   \n",
       "3       29525.0                           21.0                1659762.0   \n",
       "4       18031.0                           20.2                 964952.0   \n",
       "\n",
       "   Ancestry_Swiss_pct  Ancestry_Scotch_Irish_pct  Ancestry_Ukrainian_pct  \\\n",
       "0                 0.1                        0.4                     0.2   \n",
       "1                 0.3                        0.7                     0.2   \n",
       "2                 0.2                        0.3                     0.6   \n",
       "3                 0.1                        0.7                     0.1   \n",
       "4                 0.1                        0.9                     0.1   \n",
       "\n",
       "   Highest_Education_Graduate_Degree_pct  Female_Single_pct  \\\n",
       "0                                   10.4               38.2   \n",
       "1                                   10.7               30.0   \n",
       "2                                   14.0               38.2   \n",
       "3                                   10.3               32.1   \n",
       "4                                   10.2               33.1   \n",
       "\n",
       "   Female_Divorced_pct  Household_income_100k_150K_pct  \\\n",
       "0                 10.0                            13.5   \n",
       "1                 14.0                            13.4   \n",
       "2                 10.4                            13.2   \n",
       "3                 11.6                            12.8   \n",
       "4                 12.6                            11.4   \n",
       "\n",
       "   Household_income_over200k_pct  Ancestry_Norwegian_pct  Ancestry_Dutch_pct  \\\n",
       "0                            6.8                     0.6                 0.6   \n",
       "1                            4.6                     1.8                 1.3   \n",
       "2                            6.2                     0.8                 0.9   \n",
       "3                            6.5                     0.4                 0.6   \n",
       "4                            5.3                     0.4                 0.6   \n",
       "\n",
       "   In_College_pct  Highest_Education_9th_pct  Ancestry_Hungarian_pct  \\\n",
       "0            31.4                       13.6                     0.3   \n",
       "1            27.4                        6.4                     0.4   \n",
       "2            29.7                        7.6                     0.4   \n",
       "3            24.3                       11.3                     0.2   \n",
       "4            22.7                       11.4                     0.1   \n",
       "\n",
       "   Ancestry_German_pct  Highest_Education_Bachelors_Degree_pct  \\\n",
       "0                  4.9                                    19.5   \n",
       "1                 14.5                                    19.2   \n",
       "2                 10.4                                    21.2   \n",
       "3                  7.1                                    18.7   \n",
       "4                  6.4                                    18.5   \n",
       "\n",
       "   Ancestry_Czech_pct  Female_Widowed  Ancestry_Welsh_pct  \\\n",
       "0                 0.2        323679.0                 0.3   \n",
       "1                 0.4        122091.0                 0.6   \n",
       "2                 0.9        203433.0                 0.2   \n",
       "3                 0.6        116976.0                 0.3   \n",
       "4                 0.3         71124.0                 0.3   \n",
       "\n",
       "   Ancestry_Portuguese_pct  Household_income_50k_75K_pct  Ancestry_Slovak_pct  \\\n",
       "0                      0.2                          16.7                  0.0   \n",
       "1                      0.2                          18.4                  0.2   \n",
       "2                      0.1                          17.1                  0.3   \n",
       "3                      0.1                          17.3                  0.0   \n",
       "4                      0.1                          18.1                  0.0   \n",
       "\n",
       "   Female_Widowed_pct  Male_Single  Highest_Education_HS_pct  \\\n",
       "0                 7.9    1760407.0                       9.6   \n",
       "1                 7.7     562929.0                       7.0   \n",
       "2                 9.2     886055.0                       7.6   \n",
       "3                 7.0     623526.0                       9.5   \n",
       "4                 7.4     363685.0                      10.9   \n",
       "\n",
       "   Household_income_10k_15k_pct  Highest_Education_HS_Diploma_pct  \\\n",
       "0                           5.9                              20.5   \n",
       "1                           4.5                              23.3   \n",
       "2                           4.9                              24.1   \n",
       "3                           4.9                              23.3   \n",
       "4                           5.2                              23.2   \n",
       "\n",
       "   Ancestry_French_Canadian_pct  Graduated_HS_pct  Ancestry_American_pct  \\\n",
       "0                           0.2              76.8                    2.8   \n",
       "1                           0.5              86.6                    6.0   \n",
       "2                           0.2              84.8                    2.2   \n",
       "3                           0.3              79.1                    4.2   \n",
       "4                           0.2              77.7                    4.1   \n",
       "\n",
       "   In_School_pct  Household_income_75k_100K_pct  \\\n",
       "0      2779216.0                           11.7   \n",
       "1      1080221.0                           12.3   \n",
       "2      1384976.0                           12.0   \n",
       "3      1218501.0                           11.4   \n",
       "4       667714.0                           10.9   \n",
       "\n",
       "   Household_income_under10k_pct  Ancestry_Scottish_pct  Ancestry_Irish_pct  \\\n",
       "0                            6.5                    0.8                 4.0   \n",
       "1                            6.9                    1.7                 9.3   \n",
       "2                            8.6                    0.7                 9.5   \n",
       "3                            6.9                    1.0                 4.9   \n",
       "4                            7.1                    1.2                 4.9   \n",
       "\n",
       "   Highest_Education_Associates_Degree_pct  Over_25yrs_pct  Male_Widowed_pct  \\\n",
       "0                                      6.8       6557746.0               2.0   \n",
       "1                                      8.4       2550592.0               2.2   \n",
       "2                                      6.3       3513404.0               2.5   \n",
       "3                                      5.8       2667930.0               1.8   \n",
       "4                                      5.5       1541324.0               2.0   \n",
       "\n",
       "   Female_Single  Graduated_College_pct  Household_income_35k_50K_pct  \\\n",
       "0      1572494.0                   29.9                          12.6   \n",
       "1       474916.0                   30.0                          14.4   \n",
       "2       842185.0                   35.3                          12.6   \n",
       "3       533336.0                   29.0                          13.4   \n",
       "4       319802.0                   28.7                          14.8   \n",
       "\n",
       "   Household_income_150k_200K_pct  Female_Divorced  Ancestry_West_Indian_pct  \\\n",
       "0                             6.0         410806.0                       0.4   \n",
       "1                             4.8         220905.0                       0.2   \n",
       "2                             5.5         228186.0                       0.4   \n",
       "3                             5.5         192021.0                       0.4   \n",
       "4                             4.3         121969.0                       0.2   \n",
       "\n",
       "   Male_Single_pct  Male_Adult_Population_pct  \\\n",
       "0             44.8                  3930301.0   \n",
       "1             37.0                  1520530.0   \n",
       "2             43.8                  2022673.0   \n",
       "3             38.5                  1619872.0   \n",
       "4             39.4                   922051.0   \n",
       "\n",
       "   GrandParents_w_Grandchildren_pct  pct_lbw  pct_smokers  pct_obese  \\\n",
       "0                          328126.0      7.0         12.0       21.0   \n",
       "1                           92902.0      7.0         15.0       22.0   \n",
       "2                          137240.0      9.0         16.0       25.0   \n",
       "3                          123774.0      9.0         14.0       27.0   \n",
       "4                           73602.0      8.0         15.0       28.0   \n",
       "\n",
       "   alcohol_dri_pct  chlamydia_rate  teen_birth_rate  pct_uninsured  \\\n",
       "0             27.0           510.0             32.0           24.0   \n",
       "1             27.0           480.0             43.0           20.0   \n",
       "2             38.0           661.0             39.0           18.0   \n",
       "3             41.0           557.0             53.0           27.0   \n",
       "4             37.0           599.0             60.0           29.0   \n",
       "\n",
       "   violent_crime_rate  pct_diabetic  hiv_prevalence_rate  household_income  \\\n",
       "0               474.0          11.0                550.0           55686.0   \n",
       "1               398.0           9.0                284.0           53929.0   \n",
       "2               631.0          10.0                608.0           55058.0   \n",
       "3               725.0          11.0                636.0           54230.0   \n",
       "4               466.0          11.0                783.0           50118.0   \n",
       "\n",
       "   population  pct_under_18  pct_65_and_over  pct_african_american  \\\n",
       "0  10116705.0          22.8             12.2                   8.2   \n",
       "1   4087191.0          25.1             13.8                   5.0   \n",
       "2   5246456.0          22.6             12.9                  23.6   \n",
       "3   4441370.0          27.1              9.2                  18.5   \n",
       "4   2518638.0          26.9              9.7                  22.3   \n",
       "\n",
       "   pct_american_indian_alaskan_native  pct_asian  \\\n",
       "0                                 1.5       14.8   \n",
       "1                                 2.8        4.1   \n",
       "2                                 0.8        7.2   \n",
       "3                                 1.1        7.0   \n",
       "4                                 1.1        5.9   \n",
       "\n",
       "   pct_native_hawaiian_other_pacific_islander  pct_hispanic  \\\n",
       "0                                         0.4          48.4   \n",
       "1                                         0.3          30.3   \n",
       "2                                         0.1          25.0   \n",
       "3                                         0.1          41.8   \n",
       "4                                         0.1          39.3   \n",
       "\n",
       "   pct_nonhispanic_white  pct_not_proficient_in_english  pct_female  \\\n",
       "0                   26.8                           15.0        50.7   \n",
       "1                   57.0                            5.6        50.6   \n",
       "2                   43.0                            7.9        51.5   \n",
       "3                   31.4                           11.9        50.2   \n",
       "4                   31.1                           11.5        50.7   \n",
       "\n",
       "   pct_rural              county       state  \n",
       "0        0.6  Los Angeles County  California  \n",
       "1        2.4     Maricopa County     Arizona  \n",
       "2        0.0         Cook County    Illinois  \n",
       "3        1.2       Harris County       Texas  \n",
       "4        0.7       Dallas County       Texas  "
      ]
     },
     "execution_count": 3,
     "metadata": {},
     "output_type": "execute_result"
    }
   ],
   "source": [
    "df = pd.read_csv('data/FULL.csv', dtype = {'fips':'str'})\n",
    "df.head()"
   ]
  },
  {
   "cell_type": "code",
   "execution_count": 5,
   "metadata": {
    "collapsed": false
   },
   "outputs": [
    {
     "data": {
      "text/plain": [
       "(2375, 104)"
      ]
     },
     "execution_count": 5,
     "metadata": {},
     "output_type": "execute_result"
    }
   ],
   "source": [
    "df.shape"
   ]
  },
  {
   "cell_type": "code",
   "execution_count": 4,
   "metadata": {
    "collapsed": false
   },
   "outputs": [
    {
     "data": {
      "text/plain": [
       "county\n",
       "Arlington County        10.0\n",
       "Cook County             20.0\n",
       "Dallas County            7.0\n",
       "Fairfax County          12.0\n",
       "Fulton County            6.0\n",
       "Harris County            8.0\n",
       "King County             30.0\n",
       "Kings County            10.0\n",
       "Los Angeles County      29.0\n",
       "Miami-Dade County        6.0\n",
       "Middlesex County        14.0\n",
       "Milwaukee County        10.0\n",
       "San Francisco County     7.0\n",
       "Santa Clara County       8.0\n",
       "Suffolk County           6.0\n",
       "Name: wholefoods, dtype: float64"
      ]
     },
     "execution_count": 4,
     "metadata": {},
     "output_type": "execute_result"
    }
   ],
   "source": [
    "df[df.wholefoods >5].groupby('county').wholefoods.sum()"
   ]
  },
  {
   "cell_type": "code",
   "execution_count": 5,
   "metadata": {
    "collapsed": true
   },
   "outputs": [],
   "source": [
    "df['Y'] = 0\n",
    "df.loc[df.wholefoods>0, 'Y'] = 1"
   ]
  },
  {
   "cell_type": "code",
   "execution_count": 6,
   "metadata": {
    "collapsed": false
   },
   "outputs": [],
   "source": [
    "# NEED TO ORDER THESE COLS\n",
    "\n",
    "use_cols = [\n",
    " 'fips',\n",
    " 'state',\n",
    " 'county',\n",
    " 'population',\n",
    " 'mcdonalds',\n",
    " 'starbucks',\n",
    " 'target',\n",
    " 'tjs',\n",
    " 'walmart',\n",
    " 'wholefoods',\n",
    " 'Ancestry_American_pct',\n",
    " 'Ancestry_Arab_pct',\n",
    " 'Ancestry_Czech_pct',\n",
    " 'Ancestry_Danish_pct',\n",
    " 'Ancestry_Dutch_pct',\n",
    " 'Ancestry_English_pct',\n",
    " 'Ancestry_French_Canadian_pct',\n",
    " 'Ancestry_French_pct',\n",
    " 'Ancestry_German_pct',\n",
    " 'Ancestry_Greek_pct',\n",
    " 'Ancestry_Hungarian_pct',\n",
    " 'Ancestry_Irish_pct',\n",
    " 'Ancestry_Italian_pct',\n",
    " 'Ancestry_Lithuanian_pct',\n",
    " 'Ancestry_Norwegian_pct',\n",
    " 'Ancestry_Polish_pct',\n",
    " 'Ancestry_Portuguese_pct',\n",
    " 'Ancestry_Russian_pct',\n",
    " 'Ancestry_Scotch_Irish_pct',\n",
    " 'Ancestry_Scottish_pct',\n",
    " 'Ancestry_Slovak_pct',\n",
    " 'Ancestry_Subsaharan_African_pct',\n",
    " 'Ancestry_Swedish_pct',\n",
    " 'Ancestry_Swiss_pct',\n",
    " 'Ancestry_Ukrainian_pct',\n",
    " 'Ancestry_Welsh_pct',\n",
    " 'Ancestry_West_Indian_pct',\n",
    " 'Female_Adult_Population',\n",
    " 'Female_Adult_Population_pct',\n",
    " 'Female_Divorced',\n",
    " 'Female_Divorced_pct',\n",
    " 'Female_Single',\n",
    " 'Female_Single_pct',\n",
    " 'Female_Widowed',\n",
    " 'Female_Widowed_pct',\n",
    " 'In_College_pct',\n",
    " 'In_Highschool_pct',\n",
    " 'In_School_pct',\n",
    " 'Graduated_College_pct',\n",
    " 'Graduated_HS_pct',\n",
    " 'GrandParents_w_Grandchildren',\n",
    " 'GrandParents_w_Grandchildren_pct',\n",
    " 'Highest_Education_9th_pct',\n",
    " 'Highest_Education_Associates_Degree_pct',\n",
    " 'Highest_Education_Bachelors_Degree_pct',\n",
    " 'Highest_Education_College_pct',\n",
    " 'Highest_Education_Graduate_Degree_pct',\n",
    " 'Highest_Education_HS_Diploma_pct',\n",
    " 'Highest_Education_HS_pct',\n",
    " 'Household_income_100k_150K_pct',\n",
    " 'Household_income_10k_15k_pct',\n",
    " 'Household_income_150k_200K_pct',\n",
    " 'Household_income_15k_25K_pct',\n",
    " 'Household_income_25k_35K_pct',\n",
    " 'Household_income_35k_50K_pct',\n",
    " 'Household_income_50k_75K_pct',\n",
    " 'Household_income_75k_100K_pct',\n",
    " 'Household_income_over200k_pct',\n",
    " 'Household_income_under10k_pct',\n",
    " 'Male_Adult_Population',\n",
    " 'Male_Adult_Population_pct',\n",
    " 'Male_Divorced',\n",
    " 'Male_Divorced_pct',\n",
    " 'Male_Single',\n",
    " 'Male_Single_pct',\n",
    " 'Male_Widowed',\n",
    " 'Male_Widowed_pct',\n",
    " 'Median_Household_Income',\n",
    " 'Over_25yrs',\n",
    " 'Over_25yrs_pct',\n",
    " 'US_Citizen_pct',\n",
    " 'Not_US_Citizen_pct',\n",
    " 'alcohol_dri_pct',\n",
    " 'chlamydia_rate',\n",
    " 'hiv_prevalence_rate',\n",
    " 'household_income',\n",
    " 'pct_65_and_over',\n",
    " 'pct_african_american',\n",
    " 'pct_american_indian_alaskan_native',\n",
    " 'pct_asian',\n",
    " 'pct_diabetic',\n",
    " 'pct_female',\n",
    " 'pct_hispanic',\n",
    " 'pct_lbw',\n",
    " 'pct_native_hawaiian_other_pacific_islander',\n",
    " 'pct_nonhispanic_white',\n",
    " 'pct_not_proficient_in_english',\n",
    " 'pct_obese',\n",
    " 'pct_rural',\n",
    " 'pct_smokers',\n",
    " 'pct_under_18',\n",
    " 'pct_uninsured',\n",
    " 'teen_birth_rate',\n",
    " 'violent_crime_rate',\n",
    " 'Y']\n",
    "  "
   ]
  },
  {
   "cell_type": "code",
   "execution_count": 7,
   "metadata": {
    "collapsed": false
   },
   "outputs": [],
   "source": [
    "df = df[use_cols]"
   ]
  },
  {
   "cell_type": "markdown",
   "metadata": {},
   "source": [
    "## FILL NAS"
   ]
  },
  {
   "cell_type": "code",
   "execution_count": 8,
   "metadata": {
    "collapsed": false
   },
   "outputs": [
    {
     "name": "stdout",
     "output_type": "stream",
     "text": [
      "Index([u'chlamydia_rate', u'hiv_prevalence_rate', u'pct_lbw',\n",
      "       u'teen_birth_rate', u'violent_crime_rate'],\n",
      "      dtype='object')\n"
     ]
    },
    {
     "data": {
      "image/png": "[encoded data removed]",
      "text/plain": [
       "<matplotlib.figure.Figure at 0x10c1a9a50>"
      ]
     },
     "metadata": {},
     "output_type": "display_data"
    }
   ],
   "source": [
    "print(df.columns[df.isnull().any()]) # only 5 columns have very few nulls wow!\n",
    "\n",
    "\n",
    "df.chlamydia_rate.hist()\n",
    "df.chlamydia_rate.median()\n",
    "df.chlamydia_rate.mean()\n",
    "\n",
    "\n",
    "# it's per 100k people... so county size shouldn't matter\n",
    "df.fillna({'chlamydia_rate':df.chlamydia_rate.median()}, inplace = True);"
   ]
  },
  {
   "cell_type": "code",
   "execution_count": 9,
   "metadata": {
    "collapsed": false
   },
   "outputs": [
    {
     "data": {
      "image/png": "[encoded data removed]",
      "text/plain": [
       "<matplotlib.figure.Figure at 0x10c1a9dd0>"
      ]
     },
     "metadata": {},
     "output_type": "display_data"
    }
   ],
   "source": [
    "df.hiv_prevalence_rate.hist()\n",
    "df.hiv_prevalence_rate.median()\n",
    "df.hiv_prevalence_rate.mean()\n",
    "\n",
    "df.fillna({'hiv_prevalence_rate': df.hiv_prevalence_rate.median()}, inplace = True);\n",
    "\n"
   ]
  },
  {
   "cell_type": "code",
   "execution_count": 10,
   "metadata": {
    "collapsed": false
   },
   "outputs": [
    {
     "data": {
      "image/png": "[encoded data removed]",
      "text/plain": [
       "<matplotlib.figure.Figure at 0x10c768250>"
      ]
     },
     "metadata": {},
     "output_type": "display_data"
    }
   ],
   "source": [
    "df.pct_lbw.hist()\n",
    "df.pct_lbw.mean()\n",
    "df.pct_lbw.median()\n",
    "\n",
    "\n",
    "df.fillna({'pct_lbw': df.pct_lbw.median()}, inplace = True);\n",
    "\n",
    "\n"
   ]
  },
  {
   "cell_type": "code",
   "execution_count": 11,
   "metadata": {
    "collapsed": false
   },
   "outputs": [
    {
     "data": {
      "image/png": "[encoded data removed]",
      "text/plain": [
       "<matplotlib.figure.Figure at 0x10c82c910>"
      ]
     },
     "metadata": {},
     "output_type": "display_data"
    }
   ],
   "source": [
    "df.teen_birth_rate.hist()\n",
    "# PER 1,000 teen females\n",
    "df.teen_birth_rate.median()\n",
    "df.teen_birth_rate.mean()\n",
    "\n",
    "\n",
    "df.fillna({'teen_birth_rate': df.teen_birth_rate.median()}, inplace = True);\n"
   ]
  },
  {
   "cell_type": "code",
   "execution_count": 12,
   "metadata": {
    "collapsed": false
   },
   "outputs": [
    {
     "data": {
      "image/png": "[encoded data removed]",
      "text/plain": [
       "<matplotlib.figure.Figure at 0x10c85c990>"
      ]
     },
     "metadata": {},
     "output_type": "display_data"
    }
   ],
   "source": [
    "df.violent_crime_rate.hist()\n",
    "# PER 100,000 PPL\n",
    "df.violent_crime_rate.mean()\n",
    "df.violent_crime_rate.median()\n",
    "\n",
    "\n",
    "df.fillna({'violent_crime_rate': df.violent_crime_rate.median()}, inplace = True);\n"
   ]
  },
  {
   "cell_type": "code",
   "execution_count": 13,
   "metadata": {
    "collapsed": false
   },
   "outputs": [
    {
     "data": {
      "text/plain": [
       "False"
      ]
     },
     "execution_count": 13,
     "metadata": {},
     "output_type": "execute_result"
    }
   ],
   "source": [
    "df.isnull().sum().any()"
   ]
  },
  {
   "cell_type": "markdown",
   "metadata": {},
   "source": [
    "## MAKE ME A MODEL!"
   ]
  },
  {
   "cell_type": "code",
   "execution_count": 14,
   "metadata": {
    "collapsed": false
   },
   "outputs": [],
   "source": [
    "from sklearn.linear_model import LogisticRegression, SGDClassifier\n",
    "from sklearn.naive_bayes import GaussianNB\n",
    "from sklearn.ensemble import VotingClassifier, RandomForestClassifier, GradientBoostingClassifier, AdaBoostClassifier\n",
    "from sklearn.tree import DecisionTreeClassifier\n",
    "from sklearn.neighbors import KNeighborsClassifier\n",
    "from sklearn.svm import SVC\n",
    "from sklearn.cluster import dbscan, KMeans\n",
    "\n",
    "\n",
    "from sklearn import metrics\n",
    "from sklearn.preprocessing import StandardScaler, MinMaxScaler\n",
    "from sklearn.cross_validation import train_test_split, cross_val_score\n",
    "from sklearn.grid_search import GridSearchCV"
   ]
  },
  {
   "cell_type": "code",
   "execution_count": 15,
   "metadata": {
    "collapsed": false
   },
   "outputs": [],
   "source": [
    "x = df.drop(['fips','wholefoods','county','state','fips', 'Y'], axis = 1)\n",
    "x_scaled = MinMaxScaler().fit_transform(x)\n",
    "y = df.Y"
   ]
  },
  {
   "cell_type": "code",
   "execution_count": 16,
   "metadata": {
    "collapsed": false
   },
   "outputs": [
    {
     "name": "stdout",
     "output_type": "stream",
     "text": [
      "0    2189\n",
      "1     186\n",
      "Name: Y, dtype: int64\n"
     ]
    },
    {
     "data": {
      "text/plain": [
       "0.08497030607583371"
      ]
     },
     "execution_count": 16,
     "metadata": {},
     "output_type": "execute_result"
    }
   ],
   "source": [
    "print(y.value_counts())\n",
    "\n",
    "\n",
    "186/2189. # y makes up 8.5% of data"
   ]
  },
  {
   "cell_type": "code",
   "execution_count": 17,
   "metadata": {
    "collapsed": false
   },
   "outputs": [
    {
     "data": {
      "text/plain": [
       "127"
      ]
     },
     "execution_count": 17,
     "metadata": {},
     "output_type": "execute_result"
    }
   ],
   "source": [
    "drop = ['fips','state','county','wholefoods','Y']\n",
    "# weights so we oversample counties with wholefoods\n",
    "weights = [0.3 if v == 0 else 0.7 for v in df.Y]\n",
    "len(weights) #2375\n",
    "weights.count(0.9) # great\n",
    "\n",
    "# THIS WILL BE HOW I GET A TRAINING SET\n",
    "# use replacement and weights to over sample walmart\n",
    "samp = df.sample(1500, weights = weights, replace=True)\n",
    "samp.Y.value_counts()\n",
    "samp[samp.Y == 1].index.nunique()"
   ]
  },
  {
   "cell_type": "code",
   "execution_count": 18,
   "metadata": {
    "collapsed": false
   },
   "outputs": [
    {
     "data": {
      "text/plain": [
       "0    1232\n",
       "1      59\n",
       "Name: Y, dtype: int64"
      ]
     },
     "execution_count": 18,
     "metadata": {},
     "output_type": "execute_result"
    }
   ],
   "source": [
    "# TEST SET\n",
    "df[~df.index.isin(samp.index)].shape\n",
    "df[~df.index.isin(samp.index)].Y.value_counts()\n"
   ]
  },
  {
   "cell_type": "markdown",
   "metadata": {},
   "source": [
    "## LOGISTIC REGRESSION"
   ]
  },
  {
   "cell_type": "code",
   "execution_count": 19,
   "metadata": {
    "collapsed": false
   },
   "outputs": [],
   "source": [
    "\n",
    "l1 = LogisticRegression(penalty = 'l1', C = 0.01, max_iter=1000)\n",
    "l2 = LogisticRegression(C = 0.01, max_iter=1000)\n",
    "\n",
    "\n",
    "\n",
    "l1_accuracy = []\n",
    "l1_pr = []\n",
    "l1_auc = []\n",
    "l2_accuracy = []\n",
    "l2_pr = []\n",
    "l2_auc = []\n",
    "\n",
    "\n",
    "l1coefs = []\n",
    "l2coefs = []\n",
    "\n",
    "\n",
    "for cv in range(50):\n",
    "    train = df.sample(1500, weights = weights, replace=True)\n",
    "    test = df[~df.index.isin(train.index)]\n",
    "    x = train.drop(drop, axis =1)\n",
    "    x_train = x\n",
    "    y_train =train.Y\n",
    "    \n",
    "    x_test = test.drop(drop, axis = 1)\n",
    "    y_test = test.Y\n",
    "    \n",
    "    #print(y_test.value_counts())\n",
    "    \n",
    "    l1.fit(x_train,y_train)\n",
    "    l2.fit(x_train,y_train)\n",
    "    l1_preds = l1.predict(x_test)\n",
    "    l1_probs = l1.predict_proba(x_test)\n",
    "    l2_preds = l2.predict(x_test)\n",
    "    l2_probs = l2.predict_proba(x_test)\n",
    "    \n",
    "    l1_accuracy.append(metrics.accuracy_score(y_test, l1_preds))\n",
    "    l1_pr.append((metrics.precision_score(y_test, l1_preds), metrics.recall_score(y_test,l1_preds)))\n",
    "    l1_auc.append(metrics.roc_auc_score(y_test, l1_probs[:,1]))\n",
    "    \n",
    "    l2_accuracy.append(metrics.accuracy_score(y_test, l2_preds))\n",
    "    l2_pr.append((metrics.precision_score(y_test, l2_preds), metrics.recall_score(y_test,l2_preds)))\n",
    "    l2_auc.append(metrics.roc_auc_score(y_test, l2_probs[:,1]))\n",
    "    \n",
    "    l1coefs.append(l1.coef_)\n",
    "    l2coefs.append(l2.coef_)\n"
   ]
  },
  {
   "cell_type": "code",
   "execution_count": 20,
   "metadata": {
    "collapsed": false
   },
   "outputs": [
    {
     "name": "stdout",
     "output_type": "stream",
     "text": [
      "L1 \n",
      " --------------\n",
      "('Accuracy:', 0.96636738839636538)\n",
      "('Precision:', 0.54080904231400617)\n",
      "('Recall:', 0.78292580764342157)\n",
      "('AUC:', 0.974530807917105)\n",
      "\n",
      "\n",
      "\n",
      "L2 \n",
      " --------------\n",
      "('Accuracy:', 0.96532312895072758)\n",
      "('Precision:', 0.53009833977850551)\n",
      "('Recall:', 0.7864154643010367)\n",
      "('AUC:', 0.97334460055646332)\n"
     ]
    }
   ],
   "source": [
    "print('L1 \\n --------------')\n",
    "print('Accuracy:',np.mean(l1_accuracy))\n",
    "print('Precision:',np.array(l1_pr)[:,0].mean())\n",
    "print('Recall:', np.array(l1_pr)[:,1].mean())\n",
    "print('AUC:', np.mean(l1_auc))\n",
    "print('\\n\\n')\n",
    "print('L2 \\n --------------')\n",
    "print('Accuracy:', np.mean(l2_accuracy))\n",
    "print('Precision:', np.array(l2_pr)[:,0].mean())\n",
    "print('Recall:', np.array(l2_pr)[:,1].mean())\n",
    "print('AUC:', np.mean(l2_auc))"
   ]
  },
  {
   "cell_type": "code",
   "execution_count": 21,
   "metadata": {
    "collapsed": false
   },
   "outputs": [
    {
     "name": "stdout",
     "output_type": "stream",
     "text": [
      "             precision    recall  f1-score   support\n",
      "\n",
      "          0       0.98      0.98      0.98      2189\n",
      "          1       0.74      0.79      0.76       186\n",
      "\n",
      "avg / total       0.96      0.96      0.96      2375\n",
      "\n"
     ]
    }
   ],
   "source": [
    "# just as a reference here's training scores on itself.\n",
    "s = df.drop(drop, axis = 1)\n",
    "l1_preds = l1.predict(s)\n",
    "l1_probs = l1.predict_proba(df.drop(drop, axis =1))\n",
    "\n",
    "print metrics.classification_report(df.Y, l1_preds)\n",
    "\n",
    "\n",
    "res = pd.DataFrame({'Preds': l1_preds, 'Prob0': l1_probs[:,0], 'Prob1': l1_probs[:,1]})\n",
    "res = pd.concat([df.Y, res], axis = 1)\n"
   ]
  },
  {
   "cell_type": "code",
   "execution_count": 22,
   "metadata": {
    "collapsed": false
   },
   "outputs": [
    {
     "data": {
      "text/plain": [
       "pct_obese                          -0.090337\n",
       "pct_rural                          -0.031607\n",
       "pct_nonhispanic_white              -0.027435\n",
       "Highest_Education_HS_Diploma_pct   -0.013605\n",
       "Ancestry_German_pct                -0.009427\n",
       "US_Citizen_pct                     -0.007523\n",
       "pct_hispanic                       -0.007403\n",
       "teen_birth_rate                    -0.002628\n",
       "Male_Widowed                       -0.001324\n",
       "chlamydia_rate                     -0.000891\n",
       "mcdonalds                          -0.000525\n",
       "Male_Single                        -0.000217\n",
       "alcohol_dri_pct                    -0.000215\n",
       "Graduated_HS_pct                   -0.000148\n",
       "GrandParents_w_Grandchildren       -0.000114\n",
       "GrandParents_w_Grandchildren_pct   -0.000111\n",
       "In_College_pct                     -0.000101\n",
       "Median_Household_Income            -0.000094\n",
       "Male_Divorced                      -0.000065\n",
       "Over_25yrs_pct                     -0.000035\n",
       "Over_25yrs                         -0.000034\n",
       "Female_Adult_Population_pct        -0.000029\n",
       "Female_Adult_Population            -0.000029\n",
       "In_School_pct                      -0.000011\n",
       "population                         -0.000002\n",
       "Male_Adult_Population_pct           0.000103\n",
       "Male_Adult_Population               0.000104\n",
       "Ancestry_American_pct               0.000109\n",
       "household_income                    0.000115\n",
       "Female_Single                       0.000155\n",
       "Female_Divorced                     0.000284\n",
       "Female_Widowed                      0.000439\n",
       "hiv_prevalence_rate                 0.001046\n",
       "Ancestry_French_pct                 0.001106\n",
       "violent_crime_rate                  0.001740\n",
       "Graduated_College_pct               0.040426\n",
       "starbucks                           0.050377\n",
       "dtype: float64"
      ]
     },
     "execution_count": 22,
     "metadata": {},
     "output_type": "execute_result"
    }
   ],
   "source": [
    "l1coefs = pd.DataFrame(np.array(l1coefs).reshape(50,100), columns = df.drop(drop, axis = 1).columns)\n",
    "l2coefs = pd.DataFrame(np.array(l2coefs).reshape(50,100), columns = df.drop(drop, axis = 1).columns)\n",
    "\n",
    "# SUBSET OF COLUMNS THAT WEREN'T ZEROED OUT BY L1\n",
    "l1Keep_cols = l1coefs.mean()[np.abs(l1coefs.mean())>0].index\n",
    "l1coefs.mean()[np.abs(l1coefs.mean())>0].sort_values()\n",
    "\n",
    "# +STARBUCKS + COLLEGE GRAD - OBESE - RURAL= WHOLEFOODS... maybe - low correlations"
   ]
  },
  {
   "cell_type": "code",
   "execution_count": 23,
   "metadata": {
    "collapsed": false
   },
   "outputs": [
    {
     "data": {
      "text/plain": [
       "pct_obese                                    -0.038396\n",
       "pct_rural                                    -0.035376\n",
       "pct_nonhispanic_white                        -0.029053\n",
       "Highest_Education_HS_Diploma_pct             -0.027347\n",
       "Ancestry_German_pct                          -0.021598\n",
       "US_Citizen_pct                               -0.018287\n",
       "pct_hispanic                                 -0.012586\n",
       "pct_under_18                                 -0.012136\n",
       "teen_birth_rate                              -0.009996\n",
       "Highest_Education_HS_pct                     -0.007352\n",
       "Ancestry_Norwegian_pct                       -0.006486\n",
       "Household_income_15k_25K_pct                 -0.006454\n",
       "Ancestry_American_pct                        -0.005995\n",
       "mcdonalds                                    -0.005850\n",
       "Highest_Education_College_pct                -0.005356\n",
       "In_Highschool_pct                            -0.005186\n",
       "pct_african_american                         -0.005135\n",
       "Female_Widowed_pct                           -0.004564\n",
       "pct_diabetic                                 -0.004467\n",
       "Household_income_under10k_pct                -0.004174\n",
       "Highest_Education_Associates_Degree_pct      -0.004117\n",
       "Ancestry_Dutch_pct                           -0.003859\n",
       "Graduated_HS_pct                             -0.003667\n",
       "Household_income_25k_35K_pct                 -0.003527\n",
       "Ancestry_Polish_pct                          -0.003147\n",
       "                                                ...   \n",
       "Ancestry_Russian_pct                          0.001619\n",
       "Ancestry_French_Canadian_pct                  0.001747\n",
       "violent_crime_rate                            0.002062\n",
       "pct_lbw                                       0.002144\n",
       "Ancestry_Irish_pct                            0.002498\n",
       "Ancestry_Portuguese_pct                       0.002634\n",
       "Female_Divorced_pct                           0.003150\n",
       "pct_not_proficient_in_english                 0.003190\n",
       "Ancestry_Scottish_pct                         0.003351\n",
       "walmart                                       0.003412\n",
       "Ancestry_English_pct                          0.003643\n",
       "Male_Single_pct                               0.004182\n",
       "Female_Single_pct                             0.004392\n",
       "Not_US_Citizen_pct                            0.004696\n",
       "pct_65_and_over                               0.005322\n",
       "tjs                                           0.006291\n",
       "pct_native_hawaiian_other_pacific_islander    0.007105\n",
       "pct_american_indian_alaskan_native            0.007206\n",
       "Household_income_over200k_pct                 0.009914\n",
       "pct_asian                                     0.010444\n",
       "Ancestry_French_pct                           0.013681\n",
       "Highest_Education_Graduate_Degree_pct         0.016099\n",
       "Highest_Education_Bachelors_Degree_pct        0.017026\n",
       "Graduated_College_pct                         0.033298\n",
       "starbucks                                     0.039285\n",
       "dtype: float64"
      ]
     },
     "execution_count": 23,
     "metadata": {},
     "output_type": "execute_result"
    }
   ],
   "source": [
    "l2coefs.mean()[np.abs(l2coefs.mean())>0].sort_values()"
   ]
  },
  {
   "cell_type": "code",
   "execution_count": 24,
   "metadata": {
    "collapsed": false
   },
   "outputs": [],
   "source": [
    "def Oversample_Classification(est, data, drop, target, weights, cv, train_size):\n",
    "    '''\n",
    "    Does Cross_Validation with oversampling.\n",
    "    data is your dataframe\n",
    "    drop is columns to drop to get your x variable\n",
    "    target is your y variable\n",
    "    weights should be a series that maps to x and y the weight for each row \n",
    "    (eg all the rows of class one should have distinct weight and all rows of class2 have other distinct weight)\n",
    "    '''\n",
    "\n",
    "    accuracy = []\n",
    "    pr = []\n",
    "    auc = []\n",
    "    ftr_importances = []\n",
    "\n",
    "\n",
    "    for f in range(cv):\n",
    "        train = data.sample(train_size, weights = weights, replace=True)\n",
    "        test = data[~data.index.isin(train.index)]\n",
    "        x = train.drop(drop, axis =1)\n",
    "        x_train  = x\n",
    "        y_train = train[target]\n",
    "\n",
    "        x_test = test.drop(drop, axis = 1)\n",
    "        y_test = test[target]\n",
    "\n",
    "        est.fit(x_train,y_train)\n",
    "        preds = est.predict(x_test)\n",
    "        probs = est.predict_proba(x_test)\n",
    "\n",
    "        \n",
    "        accuracy.append(metrics.accuracy_score(y_test, preds))\n",
    "        pr.append((metrics.precision_score(y_test, preds), metrics.recall_score(y_test,preds)))\n",
    "        auc.append(metrics.roc_auc_score(y_test, probs[:,1]))\n",
    "        \n",
    "        try: \n",
    "            ftr_importances.append(est.coef_)\n",
    "        except:\n",
    "            try:\n",
    "                ftr_importances.append(est.feature_importances_)\n",
    "            except:\n",
    "                ftr_importances = 'no ftr_importances'\n",
    "            \n",
    "       \n",
    "    print('--------------')\n",
    "    print('Accuracy:',np.mean(accuracy))\n",
    "    print('Precision:',np.array(pr)[:,0].mean())\n",
    "    print('Recall:', np.array(pr)[:,1].mean())\n",
    "    print('AUC:',np.mean(auc))\n",
    "    print('--------------')\n",
    "\n",
    "       \n",
    "                \n",
    "    print(np.array(ftr_importances).shape)\n",
    "    if type(ftr_importances) == str:\n",
    "        return ftr_importances\n",
    "    \n",
    "    \n",
    "    \n",
    "    return pd.DataFrame(np.array(ftr_importances).reshape(cv,len(data.drop(drop, axis = 1).columns)), columns = data.drop(drop, axis = 1).columns)"
   ]
  },
  {
   "cell_type": "markdown",
   "metadata": {},
   "source": [
    "## Naive Bayes"
   ]
  },
  {
   "cell_type": "code",
   "execution_count": 25,
   "metadata": {
    "collapsed": false
   },
   "outputs": [
    {
     "name": "stdout",
     "output_type": "stream",
     "text": [
      "--------------\n",
      "('Accuracy:', 0.96295236870972156)\n",
      "('Precision:', 0.52004466228169388)\n",
      "('Recall:', 0.73450991506625729)\n",
      "('AUC:', 0.89934707261444158)\n",
      "--------------\n",
      "()\n"
     ]
    }
   ],
   "source": [
    "nb = GaussianNB()\n",
    "# suprisingly good\n",
    "Oversample_Classification(nb, df, drop, 'Y', weights, 50, 1500);"
   ]
  },
  {
   "cell_type": "markdown",
   "metadata": {},
   "source": [
    "## FORESTS"
   ]
  },
  {
   "cell_type": "code",
   "execution_count": 29,
   "metadata": {
    "collapsed": true
   },
   "outputs": [],
   "source": [
    "rfor = RandomForestClassifier(n_estimators=50,max_depth = 25, max_features=0.5)"
   ]
  },
  {
   "cell_type": "code",
   "execution_count": 30,
   "metadata": {
    "collapsed": false
   },
   "outputs": [
    {
     "name": "stdout",
     "output_type": "stream",
     "text": [
      "--------------\n",
      "('Accuracy:', 0.96869171066931758)\n",
      "('Precision:', 0.57209346768242098)\n",
      "('Recall:', 0.82565505031569031)\n",
      "('AUC:', 0.9825230269349724)\n",
      "--------------\n",
      "(50, 100)\n"
     ]
    }
   ],
   "source": [
    "rfor_importances = Oversample_Classification(rfor,df,drop,'Y', weights, 50, 1500)"
   ]
  },
  {
   "cell_type": "code",
   "execution_count": 28,
   "metadata": {
    "collapsed": false
   },
   "outputs": [
    {
     "name": "stdout",
     "output_type": "stream",
     "text": [
      "--------------\n",
      "('Accuracy:', 0.96990906358485096)\n",
      "('Precision:', 0.58197772110436796)\n",
      "('Recall:', 0.79678346751752993)\n",
      "('AUC:', 0.98103492265374836)\n",
      "--------------\n",
      "(50, 100)\n"
     ]
    }
   ],
   "source": [
    "ada = AdaBoostClassifier(DecisionTreeClassifier(max_depth=2), n_estimators=400, learning_rate=0.8)\n",
    "ada_importances = Oversample_Classification(ada, df, drop, 'Y', weights, 50,1500)"
   ]
  },
  {
   "cell_type": "code",
   "execution_count": 33,
   "metadata": {
    "collapsed": false
   },
   "outputs": [
    {
     "name": "stdout",
     "output_type": "stream",
     "text": [
      "--------------\n",
      "('Accuracy:', 0.96840996729477424)\n",
      "('Precision:', 0.56439724569550409)\n",
      "('Recall:', 0.81724538906947897)\n",
      "('AUC:', 0.98298991492270471)\n",
      "--------------\n",
      "(50, 100)\n",
      "\n",
      "\n",
      "--------------\n",
      "('Accuracy:', 0.96890417859870803)\n",
      "('Precision:', 0.56621190172483238)\n",
      "('Recall:', 0.84041463896890756)\n",
      "('AUC:', 0.98538331895328513)\n",
      "--------------\n",
      "(50, 100)\n",
      "\n",
      "\n",
      "--------------\n",
      "('Accuracy:', 0.97211392278893083)\n",
      "('Precision:', 0.60153729198145278)\n",
      "('Recall:', 0.78068351556750126)\n",
      "('AUC:', 0.98295186103644994)\n",
      "--------------\n",
      "(50, 100)\n"
     ]
    }
   ],
   "source": [
    "gboost1 = GradientBoostingClassifier(learning_rate = 0.1, n_estimators=50, max_depth = 4, max_features=25)\n",
    "gboost2 = GradientBoostingClassifier(learning_rate = 0.1, n_estimators=50, max_depth = 3, max_features=25)\n",
    "gboost3 = GradientBoostingClassifier(learning_rate = 0.1, n_estimators=50, max_depth = 10, max_features=10)\n",
    "\n",
    "gb1_importances = Oversample_Classification(gboost1, df, drop, 'Y', weights, 50,1500)\n",
    "print('\\n')\n",
    "gb2_importances = Oversample_Classification(gboost2, df, drop, 'Y', weights, 50,1500)\n",
    "print('\\n')\n",
    "gb3_importances = Oversample_Classification(gboost3, df, drop, 'Y', weights, 50,1500)\n"
   ]
  },
  {
   "cell_type": "code",
   "execution_count": 39,
   "metadata": {
    "collapsed": false
   },
   "outputs": [],
   "source": [
    "keep_cols1 = gb2_importances.mean()[np.abs(gb2_importances.mean())>0.01].sort_values(ascending=False).index.tolist()"
   ]
  },
  {
   "cell_type": "code",
   "execution_count": 40,
   "metadata": {
    "collapsed": false
   },
   "outputs": [],
   "source": [
    "keep_cols2 = gb3_importances.mean()[np.abs(gb1_importances.mean())>0.01].sort_values(ascending=False).index.tolist()"
   ]
  },
  {
   "cell_type": "code",
   "execution_count": 41,
   "metadata": {
    "collapsed": false
   },
   "outputs": [
    {
     "name": "stdout",
     "output_type": "stream",
     "text": [
      "30\n",
      "24\n",
      "30\n",
      "\n",
      " ------------------\n",
      "['Ancestry_Arab_pct', 'walmart', 'Ancestry_American_pct', 'mcdonalds', 'hiv_prevalence_rate', 'Household_income_over200k_pct']\n",
      "[]\n"
     ]
    }
   ],
   "source": [
    "print(len(keep_cols1))#28\n",
    "print(len(keep_cols2))#27\n",
    "\n",
    "# SAVE THESE AS A SUBSET OF FEATURES FOR USE IN SMALLER MODEL\n",
    "keep_cols = set(keep_cols1) | set(keep_cols2)\n",
    "print(len(keep_cols))#29\n",
    "\n",
    "print('\\n ------------------')\n",
    "# features that are in one but not the other\n",
    "print([a for a in keep_cols1 if a not in keep_cols2]) # ['Ancestry_Arab_pct', 'pct_female', 'pct_smokers']\n",
    "print([a for a in keep_cols2 if a not in keep_cols1]) # ['Household_income_75k_100K_pct', 'hiv_prevalence_rate', 'mcdonalds']\n",
    "\n"
   ]
  },
  {
   "cell_type": "code",
   "execution_count": 43,
   "metadata": {
    "collapsed": false
   },
   "outputs": [
    {
     "name": "stdout",
     "output_type": "stream",
     "text": [
      "('Accuracy:', 0.97380585516178741)\n",
      "('AUC:', 0.97527821939586645)\n",
      "             precision    recall  f1-score   support\n",
      "\n",
      "          0       0.99      0.98      0.99      1258\n",
      "          1       0.55      0.78      0.65        40\n",
      "\n",
      "avg / total       0.98      0.97      0.98      1298\n",
      "\n"
     ]
    }
   ],
   "source": [
    "# JUST LOOKIING AT ONE EXAMPLE TO TRY TO GET A HANG ON WHATS GOING ON\n",
    "# THIS IS LIKE ONE SINGLE CROSS VALIDATION ROUND\n",
    "train = df.sample(1500, weights = weights, replace = True)\n",
    "train.Y.value_counts()\n",
    "\n",
    "train.Y.sum() #235 class1\n",
    "\n",
    "train[train.Y == 1].index.nunique() # 130 unique 1s...\n",
    "\n",
    "test = df[~df.index.isin(train.index)]\n",
    "test.Y.value_counts()# 50 class1\n",
    "\n",
    "\n",
    "\n",
    "\n",
    "x_train = train.drop(drop, axis = 1)\n",
    "y_train = train.Y\n",
    "\n",
    "x_test = test.drop(drop, axis = 1)\n",
    "y_test = test.Y\n",
    "\n",
    "gboost3.fit(x_train,y_train)\n",
    "preds = gboost3.predict(x_test)\n",
    "probs = gboost3.predict_proba(x_test)\n",
    "\n",
    "\n",
    "print('Accuracy:', metrics.accuracy_score(y_test, preds))\n",
    "print('AUC:', metrics.roc_auc_score(y_test, probs[:,1]))\n",
    "print(metrics.classification_report(y_test, preds))"
   ]
  },
  {
   "cell_type": "markdown",
   "metadata": {},
   "source": [
    "## K-NEAREST NEIGHBORS"
   ]
  },
  {
   "cell_type": "code",
   "execution_count": 44,
   "metadata": {
    "collapsed": false
   },
   "outputs": [
    {
     "name": "stdout",
     "output_type": "stream",
     "text": [
      "--------------\n",
      "('Accuracy:', 0.95654648174892887)\n",
      "('Precision:', 0.45910797699555067)\n",
      "('Recall:', 0.76301740638184778)\n",
      "('AUC:', 0.96646606669354229)\n",
      "--------------\n",
      "()\n",
      "--------------\n",
      "('Accuracy:', 0.95502856711387807)\n",
      "('Precision:', 0.45205447454795944)\n",
      "('Recall:', 0.73903741005392465)\n",
      "('AUC:', 0.96541709475272031)\n",
      "--------------\n",
      "()\n",
      "--------------\n",
      "('Accuracy:', 0.95680037670409079)\n",
      "('Precision:', 0.45946865770216833)\n",
      "('Recall:', 0.76419694889921597)\n",
      "('AUC:', 0.96967406352248942)\n",
      "--------------\n",
      "()\n"
     ]
    }
   ],
   "source": [
    "knn1 = KNeighborsClassifier(n_neighbors=100, weights='distance')\n",
    "knn2 = KNeighborsClassifier(n_neighbors=150, weights='distance')\n",
    "knn3 = KNeighborsClassifier(n_neighbors=200, weights='distance')\n",
    "\n",
    "\n",
    "knn1_importances = Oversample_Classification(knn1, df, drop, 'Y', weights, 50,1500)\n",
    "knn2_importances = Oversample_Classification(knn2, df, drop, 'Y', weights, 50,1500)\n",
    "knn3_importances = Oversample_Classification(knn2, df, drop, 'Y', weights, 50,1500)"
   ]
  },
  {
   "cell_type": "code",
   "execution_count": 46,
   "metadata": {
    "collapsed": false
   },
   "outputs": [
    {
     "name": "stdout",
     "output_type": "stream",
     "text": [
      "('Accuracy:', 0.95826893353941267)\n",
      "('AUC:', 0.96283909327387585)\n",
      "             precision    recall  f1-score   support\n",
      "\n",
      "          0       0.99      0.97      0.98      1242\n",
      "          1       0.49      0.75      0.59        52\n",
      "\n",
      "avg / total       0.97      0.96      0.96      1294\n",
      "\n"
     ]
    }
   ],
   "source": [
    "train = df.sample(1500, weights = weights, replace=True)\n",
    "train.Y.value_counts() # 261 c1\n",
    "\n",
    "train[train.Y==1].index.nunique() # 136 unique\n",
    "\n",
    "\n",
    "test = df[~df.index.isin(train.index)]\n",
    "test.Y.value_counts()# 50 class1\n",
    "\n",
    "# IT DOES BETTER WITH SMALLER SCALES\n",
    "x_train = train.drop(drop, axis = 1)\n",
    "y_train = train.Y\n",
    "\n",
    "x_test = test.drop(drop, axis = 1)\n",
    "y_test = test.Y\n",
    "\n",
    "knn2.fit(x_train,y_train)\n",
    "preds = knn2.predict(x_test)\n",
    "probs = knn2.predict_proba(x_test)\n",
    "\n",
    "\n",
    "print('Accuracy:', metrics.accuracy_score(y_test, preds))\n",
    "print('AUC:', metrics.roc_auc_score(y_test, probs[:,1]))\n",
    "print(metrics.classification_report(y_test, preds))"
   ]
  },
  {
   "cell_type": "markdown",
   "metadata": {},
   "source": [
    "### TRY GBOOST, KMEANS AND NB WITH ONLY KEEP_COLUMNS"
   ]
  },
  {
   "cell_type": "code",
   "execution_count": 47,
   "metadata": {
    "collapsed": false
   },
   "outputs": [
    {
     "name": "stdout",
     "output_type": "stream",
     "text": [
      "--------------\n",
      "('Accuracy:', 0.96262536655646114)\n",
      "('Precision:', 0.50925580076952681)\n",
      "('Recall:', 0.70656474761609256)\n",
      "('AUC:', 0.90636306557131918)\n",
      "--------------\n",
      "()\n",
      "--------------\n",
      "('Accuracy:', 0.95521299863854414)\n",
      "('Precision:', 0.44826530391489816)\n",
      "('Recall:', 0.76363977053286347)\n",
      "('AUC:', 0.95791795063225893)\n",
      "--------------\n",
      "()\n",
      "--------------\n",
      "('Accuracy:', 0.97088030186819252)\n",
      "('Precision:', 0.5953700410520919)\n",
      "('Recall:', 0.76686671682837793)\n",
      "('AUC:', 0.9816777543978884)\n",
      "--------------\n",
      "(50, 30)\n"
     ]
    }
   ],
   "source": [
    "# GET RID OF ALL COLUMNS EXCEPT FOR THOSE IN KEEP_COLS\n",
    "big_drop = [c for c in df.columns if c not in keep_cols]\n",
    "\n",
    "Oversample_Classification(nb, df, big_drop, 'Y', weights, 50, 1500);\n",
    "Oversample_Classification(knn2, df, big_drop, 'Y', weights, 50,1500)\n",
    "Oversample_Classification(gboost3, df, big_drop, 'Y', weights, 50, 1500);"
   ]
  },
  {
   "cell_type": "markdown",
   "metadata": {
    "collapsed": true
   },
   "source": [
    "## TRY BOTH WITH L1 SELECTED COLUMNS"
   ]
  },
  {
   "cell_type": "code",
   "execution_count": 48,
   "metadata": {
    "collapsed": false
   },
   "outputs": [
    {
     "name": "stdout",
     "output_type": "stream",
     "text": [
      "30\n",
      "37\n",
      "47\n",
      "-------------------------\n",
      "\n",
      "['Ancestry_American_pct', 'Ancestry_Arab_pct', 'Highest_Education_Associates_Degree_pct', 'Highest_Education_Bachelors_Degree_pct', 'Highest_Education_Graduate_Degree_pct', 'Household_income_75k_100K_pct', 'Household_income_over200k_pct', 'pct_native_hawaiian_other_pacific_islander', 'tjs', 'walmart']\n",
      "-------------------------\n",
      "\n",
      "['Ancestry_German_pct', 'Female_Widowed', 'Graduated_HS_pct', 'GrandParents_w_Grandchildren', 'GrandParents_w_Grandchildren_pct', 'In_College_pct', 'Male_Widowed', 'Median_Household_Income', 'US_Citizen_pct', 'alcohol_dri_pct', 'chlamydia_rate', 'household_income', 'pct_african_american', 'pct_hispanic', 'pct_nonhispanic_white', 'teen_birth_rate', 'violent_crime_rate']\n"
     ]
    }
   ],
   "source": [
    "print len(keep_cols) \n",
    "print len(l1Keep_cols)\n",
    "print(len(set(keep_cols)|set(l1Keep_cols)))\n",
    "print('-------------------------\\n')\n",
    "print(sorted([a for a in keep_cols if a not in l1Keep_cols]))\n",
    "print('-------------------------\\n')\n",
    "print(sorted([a for a in l1Keep_cols if a not in keep_cols]))"
   ]
  },
  {
   "cell_type": "code",
   "execution_count": 49,
   "metadata": {
    "collapsed": false
   },
   "outputs": [
    {
     "name": "stdout",
     "output_type": "stream",
     "text": [
      "--------------\n",
      "('Accuracy:', 0.96146243198367354)\n",
      "('Precision:', 0.50623163689234152)\n",
      "('Recall:', 0.72752119917574054)\n",
      "('AUC:', 0.89497178514600206)\n",
      "--------------\n",
      "()\n",
      "--------------\n",
      "('Accuracy:', 0.95674881613812157)\n",
      "('Precision:', 0.46825657910580615)\n",
      "('Recall:', 0.76299335317147265)\n",
      "('AUC:', 0.96625441526297318)\n",
      "--------------\n",
      "()\n",
      "--------------\n",
      "('Accuracy:', 0.97044509427928194)\n",
      "('Precision:', 0.58802384600128998)\n",
      "('Recall:', 0.75326071718166432)\n",
      "('AUC:', 0.97621816646325432)\n",
      "--------------\n",
      "(50, 37)\n"
     ]
    }
   ],
   "source": [
    "l1_drop = [a for a in df.columns if a not in l1Keep_cols]\n",
    "\n",
    "\n",
    "Oversample_Classification(nb, df, l1_drop, 'Y', weights, 50, 1500);\n",
    "Oversample_Classification(knn2, df, l1_drop, 'Y', weights, 50,1500)\n",
    "Oversample_Classification(gboost3, df, l1_drop, 'Y', weights, 50, 1500);"
   ]
  },
  {
   "cell_type": "markdown",
   "metadata": {},
   "source": [
    "### Gboost2 and 3 with drop/big_drop/l1_drog"
   ]
  },
  {
   "cell_type": "code",
   "execution_count": 51,
   "metadata": {
    "collapsed": false
   },
   "outputs": [
    {
     "name": "stdout",
     "output_type": "stream",
     "text": [
      "Drop:\n",
      "\n",
      "--------------\n",
      "('Accuracy:', 0.9698076858321022)\n",
      "('Precision:', 0.57033316095374964)\n",
      "('Recall:', 0.82436973218244003)\n",
      "('AUC:', 0.98263829832025096)\n",
      "--------------\n",
      "(50, 100)\n",
      "--------------\n",
      "('Accuracy:', 0.97274365783450223)\n",
      "('Precision:', 0.6156674137850483)\n",
      "('Recall:', 0.7712033908447955)\n",
      "('AUC:', 0.97940028535961932)\n",
      "--------------\n",
      "(50, 100)\n",
      "Big Drop:\n",
      "\n",
      "--------------\n",
      "('Accuracy:', 0.96743215635769308)\n",
      "('Precision:', 0.55941623213748526)\n",
      "('Recall:', 0.80741838290589907)\n",
      "('AUC:', 0.97976340204245316)\n",
      "--------------\n",
      "(50, 30)\n",
      "--------------\n",
      "('Accuracy:', 0.97141709268096266)\n",
      "('Precision:', 0.59853766468683212)\n",
      "('Recall:', 0.76834459250726317)\n",
      "('AUC:', 0.97863071694427672)\n",
      "--------------\n",
      "(50, 30)\n",
      "L1 Drop:\n",
      "\n",
      "--------------\n",
      "('Accuracy:', 0.96654699742930816)\n",
      "('Precision:', 0.55065378815736077)\n",
      "('Recall:', 0.81967145030712796)\n",
      "('AUC:', 0.98113415194365705)\n",
      "--------------\n",
      "(50, 37)\n",
      "--------------\n",
      "('Accuracy:', 0.96954776236561946)\n",
      "('Precision:', 0.57949427535009912)\n",
      "('Recall:', 0.76794322745734844)\n",
      "('AUC:', 0.97707859130094843)\n",
      "--------------\n",
      "(50, 37)\n"
     ]
    }
   ],
   "source": [
    "print 'Drop:\\n'\n",
    "Oversample_Classification(gboost2, df, drop, 'Y', weights, 50, 1500);\n",
    "Oversample_Classification(gboost3, df, drop, 'Y', weights, 50, 1500);\n",
    "\n",
    "print 'Big Drop:\\n'\n",
    "Oversample_Classification(gboost2, df, big_drop, 'Y', weights, 50, 1500);\n",
    "Oversample_Classification(gboost3, df, big_drop, 'Y', weights, 50, 1500); # WE WANT THIS ONE\n",
    "\n",
    "\n",
    "print 'L1 Drop:\\n'\n",
    "Oversample_Classification(gboost2, df, l1_drop, 'Y', weights, 50, 1500);\n",
    "Oversample_Classification(gboost3, df, l1_drop, 'Y', weights, 50, 1500);\n"
   ]
  },
  {
   "cell_type": "markdown",
   "metadata": {},
   "source": [
    "GOING WITH GBOOST3 BIG DROP"
   ]
  },
  {
   "cell_type": "code",
   "execution_count": null,
   "metadata": {
    "collapsed": true
   },
   "outputs": [],
   "source": []
  },
  {
   "cell_type": "code",
   "execution_count": 397,
   "metadata": {
    "collapsed": false
   },
   "outputs": [],
   "source": [
    "import pickle "
   ]
  },
  {
   "cell_type": "code",
   "execution_count": 398,
   "metadata": {
    "collapsed": false
   },
   "outputs": [],
   "source": [
    "with open('pickles/df.pkl', 'wb') as f:\n",
    "    pickle.dump(df, f, 2)\n",
    "\n",
    "with open('pickles/drop_cols1.pkl', 'wb') as f:\n",
    "    pickle.dump(big_drop, f, 2)\n",
    "\n",
    "with open('pickles/gboost3.pkl', 'wb') as f:\n",
    "    pickle.dump(gboost3, f, 2)"
   ]
  },
  {
   "cell_type": "code",
   "execution_count": 52,
   "metadata": {
    "collapsed": false
   },
   "outputs": [
    {
     "data": {
      "text/plain": [
       "u'/Users/RickS/Desktop/rickMETIS03WHOLEFOODS'"
      ]
     },
     "execution_count": 52,
     "metadata": {},
     "output_type": "execute_result"
    }
   ],
   "source": [
    "pwd"
   ]
  },
  {
   "cell_type": "code",
   "execution_count": null,
   "metadata": {
    "collapsed": true
   },
   "outputs": [],
   "source": []
  }
 ],
 "metadata": {
  "anaconda-cloud": {},
  "kernelspec": {
   "display_name": "Python 2",
   "language": "python",
   "name": "python2"
  },
  "language_info": {
   "codemirror_mode": {
    "name": "ipython",
    "version": 2
   },
   "file_extension": ".py",
   "mimetype": "text/x-python",
   "name": "python",
   "nbconvert_exporter": "python",
   "pygments_lexer": "ipython2",
   "version": "2.7.10"
  }
 },
 "nbformat": 4,
 "nbformat_minor": 0
}
